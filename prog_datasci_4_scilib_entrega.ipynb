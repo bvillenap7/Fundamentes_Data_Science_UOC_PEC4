{
 "cells": [
  {
   "cell_type": "markdown",
   "metadata": {},
   "source": [
    "<div style=\"width: 100%; clear: both;\">\n",
    "    <div style=\"float: left; width: 50%;\">\n",
    "       <img src=\"http://www.uoc.edu/portal/_resources/common/imatges/marca_UOC/UOC_Masterbrand.jpg\", align=\"left\">\n",
    "    </div>\n",
    "</div>\n",
    "\n",
    "<div style=\"float: right; width: 50%;\">\n",
    "    <p style=\"margin: 0; padding-top: 22px; text-align:right;\">22.401 · Fundamentos de Programación</p>\n",
    "    <p style=\"margin: 0; text-align:right;\">Grado en Ciencia de Datos Aplicada</p>\n",
    "    <p style=\"margin: 0; text-align:right; padding-button: 100px;\">Estudios de Informática, Multimedia y Telecomunicación</p>\n",
    "</div>\n",
    "\n",
    "</div>\n",
    "<div style=\"width: 100%; clear: both;\">\n",
    "<div style=\"width:100%;\">&nbsp;</div>"
   ]
  },
  {
   "cell_type": "markdown",
   "metadata": {},
   "source": [
    "Fundamentos de Programación\n",
    "============================\n",
    "\n",
    "PEC 4 - Enunciado\n",
    "-----------------------------------------------------\n",
    "\n",
    "En este Notebook se encontraréis el conjunto de actividades evaluables como PEC de la asignatura. Veréis que cada una de ellas tiene asociada una puntuación, que indica el peso que tiene la actividad sobre la nota final de la PEC. Adicionalmente, hay un ejercicio opcional, que no tiene puntuación dentro de la PEC, pero que se valora al final del semestre de cara a conceder las matrículas de honor y redondear las notas finales. Podréis sacar la máxima nota de la PAC sin necesidad de hacer este ejercicio. El objetivo de este ejercicio es que sirva como pequeño reto para los estudiantes que quieran profundizar en el contenido de la asignatura.\n",
    "\n",
    "Veréis que todas las actividades de la PEC tienen una etiqueta, que indica los recursos necesarios para llevarla a cabo. Hay tres posibles etiquetas:\n",
    "\n",
    "* <span style=\"font-family: Courier New; background-color: #82b74b; color: #000000; padding: 3px; \">NM</span> **Sólo materiales**: las herramientas necesarias para realizar la actividad se pueden encontrar en los materiales de la asignatura.\n",
    "\n",
    "* <span style = \"font-family: Courier New; background-color: #ffcc5c; color: #000000; padding: 3px; \">EG</span> **Consulta externa guiada**: la actividad puede requerir hacer uso de herramientas que no se encuentran en los materiales de la asignatura, pero el enunciado contiene indicaciones de dónde o cómo encontrar la información adicional necesaria para resolver la actividad.\n",
    "\n",
    "* <span style = \"font-family: Courier New; background-color: #f2ae72; color: #000000; padding: 3px;\">EI</span> **Consulta externa independiente**: la actividad puede requerir hacer uso de herramientas que no se encuentran en los materiales de la asignatura, y el enunciado puede no incluir la descripción de dónde o cómo encontrar esta información adicional. Será necesario que el estudiante busque esta información utilizando los recursos que se han explicado en la asignatura.\n",
    "\n",
    "Es importante notar que estas etiquetas no indican el nivel de dificultad del ejercicio, sino únicamente la necesidad de consulta de documentación externa para su resolución. Además, recordad que las **etiquetas son informativas**, pero podréis consultar referencias externas en cualquier momento (aunque no se indique explícitamente) o puede ser que podáis hacer una actividad sin consultar ningún tipo de documentación. Por ejemplo, para resolver una actividad que sólo requiera los materiales de la asignatura, puedéis consultar referencias externas si queréis, ya sea tanto para ayudaros en la resolución como para ampliar el conocimiento!\n",
    "\n",
    "En cuanto a la consulta de documentación externa en la resolución de los ejercicios, recordad **citar siempre la bibliografía utilizada** para resolver cada actividad.\n",
    "\n",
    "---"
   ]
  },
  {
   "cell_type": "markdown",
   "metadata": {},
   "source": [
    "Ejercicios para la PEC\n",
    "-------------------------------"
   ]
  },
  {
   "cell_type": "markdown",
   "metadata": {},
   "source": [
    "<span style=\"color: #1d17f4; padding: 3px; font-size: x-large\">NumPy - Ejercicios</span>"
   ]
  },
  {
   "cell_type": "markdown",
   "metadata": {},
   "source": [
    "### Ejercicio 1\n",
    "\n",
    "Crea tres matrices diferentes 3x3 y muéstralas por pantalla.  Verifica que la propiedad asociativa del producto entre matrices elemento a elemento se cumple con las matrices creadas anteriormente. El producto entre matrices elemento a elemento se realiza mediante el operador $*$.\n",
    "\n",
    "**Nota**: Podéis consultar el siguiente [link](https://es.wikipedia.org/wiki/Asociatividad_(álgebra)) para saber en qué consiste la propiedad asociativa del producto.\n",
    "\n",
    "**(0.5 puntos)** <span style=\"font-family: Courier New; background-color: #82b74b; color: #000000; padding: 2px; \">NM</span>"
   ]
  },
  {
   "cell_type": "code",
   "execution_count": null,
   "metadata": {},
   "outputs": [],
   "source": [
    "# Respuesta"
   ]
  },
  {
   "cell_type": "markdown",
   "metadata": {},
   "source": [
    "### Ejercicio 2\n",
    "\n",
    "Crea un array de NumPy 1D de 10 elementos aleatorios enteros de 0 a 100. A continuación, pon en negativo todos los elementos impares y muestra el array resultante por pantalla. \n",
    "\n",
    "**Nota**: Para resolver este ejercicio pueden ser de utilidad las funciones [randint](https://numpy.org/doc/stable/reference/random/generated/numpy.random.randint.html) y [where](https://numpy.org/doc/stable/reference/generated/numpy.where.html).\n",
    "\n",
    "**(0.5 puntos)** <span style=\"font-family: Courier New; background-color: #ffcc5c; color: #000000; padding: 3px; \">EG</span>"
   ]
  },
  {
   "cell_type": "code",
   "execution_count": null,
   "metadata": {},
   "outputs": [],
   "source": [
    "# Respuesta"
   ]
  },
  {
   "cell_type": "markdown",
   "metadata": {},
   "source": [
    "### Ejercicio 3\n",
    "\n",
    "Considera la matriz [[1, 2, 3], [4, 5, 6],[7,8,9]]. Transfórmala en una matriz $1D$ considerando el orden por columnas.\n",
    "\n",
    "**Nota**: Para resolver este ejercicio puede ser de utilidad la función [ravel](https://numpy.org/doc/stable/reference/generated/numpy.ravel.html).\n",
    "\n",
    "**(0.5 puntos)** <span style=\"font-family: Courier New; background-color: #ffcc5c; color: #000000; padding: 3px; \">EG</span>"
   ]
  },
  {
   "cell_type": "code",
   "execution_count": null,
   "metadata": {},
   "outputs": [],
   "source": [
    "# Respuesta"
   ]
  },
  {
   "cell_type": "markdown",
   "metadata": {},
   "source": [
    "### Ejercicio 4\n",
    "\n",
    "Definid una función que calcule y muestre por pantalla el producto matricial de dos matrices A y B mediante la función de NumPy `dot()` . La función deberá realizar lo siguiente:\n",
    "\n",
    "- Primero comprobar si las matrices tienen las dimensiones adecuadas para realizar el producto matricial. \n",
    "\n",
    "- Segundo realizar el producto matricial de dos matrices A y B. Mostrar el resultado por pantalla.\n",
    "\n",
    "Si las matrices no tuvieran las dimensiones adecuadas, la función deberá mostrar un mensaje de alerta por pantalla y no realizar el producto matricial. A continuación, poned un par de ejemplos para validar la función en las dos casuísticas posibles.\n",
    "\n",
    "**(1 punto)** <span style=\"font-family: Courier New; background-color: #82b74b; color: #000000; padding: 2px; \">NM</span>\n"
   ]
  },
  {
   "cell_type": "code",
   "execution_count": null,
   "metadata": {},
   "outputs": [],
   "source": [
    "# Respuesta"
   ]
  },
  {
   "cell_type": "markdown",
   "metadata": {},
   "source": [
    "### Ejercicio 5\n",
    "\n",
    "Crea una matriz, M, de tamaño 5x5 con números enteros aleatorios de 1 al 100 sin repetición. Modificad la matriz anterior de tal forma que `M[i,j] = (3*j+i)^2` para todo valor múltiple de 3, y para el resto de posiciones `M[i,j] = M[j,i]` donde $i$, $j$ corresponden a los índices de las filas y columnas. \n",
    "\n",
    "**(1 punto)** <span style=\"font-family: Courier New; background-color: #82b74b; color: #000000; padding: 2px; \">NM</span>"
   ]
  },
  {
   "cell_type": "code",
   "execution_count": null,
   "metadata": {},
   "outputs": [],
   "source": [
    "# Respuesta"
   ]
  },
  {
   "cell_type": "markdown",
   "metadata": {},
   "source": [
    "### Ejercicio 6\n",
    "\n",
    "Crea una función que genere una matriz cuadrada con el siguiente patrón de 0 y 1, siendo 0 la capa inicial. La función debe de tener sólo un parámetro de entrada correspondiente al número de filas o columnas de la matriz. ![MatrizPatron](data/MatrizPatron.png).\n",
    "\n",
    "La función tiene que mostrar el resultado visualmente con la función [imshow](https://matplotlib.org/3.1.3/api/_as_gen/matplotlib.pyplot.imshow.html) de Matplotlib que nos permite visualizar una imagen 2D. **(1 punto)**<span style=\"font-family: Courier New; background-color: #82b74b; color: #000000; padding: 2px; \">NM</span>"
   ]
  },
  {
   "cell_type": "code",
   "execution_count": 1,
   "metadata": {},
   "outputs": [],
   "source": [
    "# Respuesta"
   ]
  },
  {
   "cell_type": "markdown",
   "metadata": {},
   "source": [
    "<br>\n",
    "<span style=\"color: #1d17f4; padding: 3px; font-size: x-large\">Matplotlib - Ejercicios</span>"
   ]
  },
  {
   "cell_type": "markdown",
   "metadata": {},
   "source": [
    "### Ejercicio 7\n",
    "\n",
    "Representa en un único gráfico las siguientes funciones $f1(x)$ y $f2(x)$, evaluadas en el intervalo [-10, 10] y con paso (resolución) 0.01. Haz que los rangos de valores mostrados sean `[-2, 2]` para el eje X y `[1, -3]` por el eje Y para visualizar la figura que se obtiene de representar ambas funciones a la vez. Adicionalmente, muestra la gráfica correspondiente a $f1(x)$ con color <span style=\"color: green\">verde</span> y la gráfica correspondiente a $f2(x)$ con color <span style=\"color: red\">rojo</span>. Se debe de mostrar la leyenda. \n",
    "\n",
    "**(1 punto)** <span style=\"font-family: Courier New; background-color: #82b74b; color: #000000; padding: 2px; \">NM</span>"
   ]
  },
  {
   "cell_type": "code",
   "execution_count": 3,
   "metadata": {},
   "outputs": [],
   "source": [
    "# Definimos las funciones\n",
    "def f1(x):\n",
    "    return np.sqrt(1-np.power((abs(x)-1), 2))\n",
    "\n",
    "\n",
    "def f2(x):\n",
    "    return np.arccos(1-abs(x))-np.pi"
   ]
  },
  {
   "cell_type": "code",
   "execution_count": 4,
   "metadata": {},
   "outputs": [],
   "source": [
    "# Respuesta"
   ]
  },
  {
   "cell_type": "markdown",
   "metadata": {},
   "source": [
    "### Ejercicio 8\n",
    "\n",
    "\n",
    "Los 10 países en encabezar el medallero de los Juegos Olímpicos Tokyo 2020 fueron los siguientes:\n",
    "\n",
    "Country| Gold | Silver | Bronze | Total\n",
    ":--------: | ------- : | ------- : | ------- : | -------\n",
    "USA | 39 | 41 | 33 | 133\n",
    "China | 38 | 32 | 18 | 88\n",
    "Japan | 27 | 14 | 17 | 58\n",
    "Great Britain | 22 | 21 | 22 | 65\n",
    "ROC | 20 | 28 | 23 | 71\n",
    "Australia | 17 | 7 | 22 | 46\n",
    "Netherlands | 10 | 12 | 14 | 36\n",
    "France | 10 | 12 | 11 | 33\n",
    "Germany | 10 | 11 | 16 | 37\n",
    "Italy | 10 | 10 | 20 | 40\n",
    "\n",
    "Mostrad en un único gráfico de barras verticales el número de medallas totales obtenidas por país. Consideraciones que debéis de tener en cuenta para realizar el gráfico:\n",
    "- Cada una de las barras de los diferentes países tiene que incluir la información del número de medallas obtenidas de oro, plata y bronce apilando la información de cada metal y coloreando con un color diferente.\n",
    "- El eje de las X tiene que incluir las etiquetas con los nombres de los países.\n",
    "- Se debe incluir un texto con el número total de medallas para cada país en la parte superior de la barra.\n",
    "- Se debe incluir leyenda.\n",
    "- Se debe incluir el título de cada uno de los ejes.\n",
    "- El tamaño de la figura tiene que ser de 10 por 10.\n",
    "\n",
    "**Nota** Para resolver este ejercicio podéis consultar la documentación oficial de [Matplotlib](https://matplotlib.org/3.1.1/api/_as_gen/matplotlib.pyplot.bar.html). También pueden ser de utilidad las funciones [text](https://matplotlib.org/3.1.1/api/_as_gen/matplotlib.pyplot.text.html) o [annotate](https://matplotlib.org/3.1.1/api/_as_gen/matplotlib.pyplot.annotate.html) para mostrar el número de medallas total.\n",
    "**(1,5 puntos)** <span style=\"font-family: Courier New; background-color: #ffcc5c; color: #000000; padding: 3px; \">EG</span>"
   ]
  },
  {
   "cell_type": "code",
   "execution_count": null,
   "metadata": {},
   "outputs": [],
   "source": [
    "# Respuesta"
   ]
  },
  {
   "cell_type": "markdown",
   "metadata": {},
   "source": [
    "<br>\n",
    "<span style=\"color: #1d17f4; padding: 3px; font-size: x-large\">pandas - Ejercicios</span>"
   ]
  },
  {
   "cell_type": "markdown",
   "metadata": {},
   "source": [
    "### Ejercicio 9\n",
    "\n",
    "Carga los datos del archivo `cwurData`, que puedes encontrar en la carpeta `data`, en un _dataframe_. Este conjunto datos recoge diferentes rankings globales de las mejores universidades del mundo según diferentes parámetros hasta el 2015. Estos datos los encontraréis en la web [Kaggle](https://www.kaggle.com/mylesoneill/world-university-rankings).\n",
    "\n",
    "Muestra por pantalla las variables del dataset, el número de filas y columnas. \n",
    "\n",
    "**(0.5 puntos)** <span style=\"font-family: Courier New; background-color: #82b74b; color: #000000; padding: 3px; \">NM</span>"
   ]
  },
  {
   "cell_type": "code",
   "execution_count": null,
   "metadata": {},
   "outputs": [],
   "source": [
    "# Respuesta"
   ]
  },
  {
   "cell_type": "markdown",
   "metadata": {},
   "source": [
    "### Ejercicio 10\n",
    "\n",
    "La variable *COUNTRY* contiene los países que conforman este ranking. Para cada país mostrad la media aritmética de la variable *Score*. ¿Qué país tiene en promedio el score más alto?\n",
    "\n",
    "**Nota**. Para resolver este ejercicio puede ser de utilidad la función [aggregate](https://pandas.pydata.org/pandas-docs/stable/reference/api/pandas.DataFrame.aggregate.html) de pandas, la qual nos permite aplicar diferentes funciones a una columna en un groupby.\n",
    "\n",
    "**(0.5 puntos)** <span style=\"font-family: Courier New; background-color: #ffcc5c; color: #000000; padding: 3px; \">EG</span>\n"
   ]
  },
  {
   "cell_type": "code",
   "execution_count": null,
   "metadata": {},
   "outputs": [],
   "source": [
    "# Respuesta"
   ]
  },
  {
   "cell_type": "markdown",
   "metadata": {},
   "source": [
    "### Ejercicio 11\n",
    "\n",
    "Muestra las universidades de América del Norte que según el ranking de publicaciones se encuentran en la posición 500 o inferior en el 2015 y además, comparten la misma posición en el ranking de ocupación de alumnos `alumni_employment`.\n",
    "\n",
    "**Nota**: En el Notebook de teoría hemos visto operaciones básicas de filtrado.  Para resolver este ejercicio necesitarás investigar como aplicar condiciones más complejas. \n",
    "\n",
    "**(1 punto)** <span style=\"font-family: Courier New; background-color: #ffcc5c; color: #000000; padding: 3px; \">EG</span>"
   ]
  },
  {
   "cell_type": "code",
   "execution_count": null,
   "metadata": {},
   "outputs": [],
   "source": [
    "# Respuesta"
   ]
  },
  {
   "cell_type": "markdown",
   "metadata": {},
   "source": [
    "### Ejercicio 12\n",
    "\n",
    "Crea una copia del dataframe original añadiendo una nueva columna en la posición 5 que nos indicará si el ranking según la calidad de la educación *quality_of_education* es alto, medio o bajo. \n",
    "\n",
    "- **High**: si el ranking de calidad es inferior a 100 \n",
    "- **Medium**: si el ranking de calidad está entre 100 y 300\n",
    "- **Low**: si el ranking de calidad es superior a 300\n",
    "\n",
    "Muestra por pantalla aquellas filas que tiene una ranking según calidad de la educación bajo en Portugal.\n",
    "\n",
    "**(1 punto)** <span style = \"font-family: Courier New; background-color: #f2ae72; color: #000000; padding: 3px;\">EI</span>"
   ]
  },
  {
   "cell_type": "code",
   "execution_count": null,
   "metadata": {},
   "outputs": [],
   "source": [
    "# Respuesta"
   ]
  },
  {
   "cell_type": "markdown",
   "metadata": {},
   "source": [
    "<br>\n",
    "<span style=\"color: #1d17f4; padding: 3px; font-size: x-large\">SciPy - Ejercicio</span>"
   ]
  },
  {
   "cell_type": "markdown",
   "metadata": {},
   "source": [
    "### Ejercicio Opcional\n",
    "\n",
    "Dado un conjunto de valores *x* e *y*, ajusta dichos valores mediante una interporlación lineal, $f1(x)$, y una interpolación cúbica, $f2(x)$. Dibuja los datos originales, la función $f1(x)$ y la función $f2(x)$ en el intervalo [0,4] y con un paso de resolución de 0.1. Se debe incluir la leyenda.\n",
    "\n",
    "**Nota**: Podéis utilitzar la llibrería [interpolate](https://docs.scipy.org/doc/scipy/reference/generated/scipy.interpolate.interp1d.html)."
   ]
  },
  {
   "cell_type": "code",
   "execution_count": null,
   "metadata": {},
   "outputs": [],
   "source": [
    "x = np.linspace(0, 4, 10)\n",
    "\n",
    "y = np.cos(np.power(x, 2)+3)"
   ]
  },
  {
   "cell_type": "code",
   "execution_count": null,
   "metadata": {},
   "outputs": [],
   "source": [
    "# Respuesta"
   ]
  },
  {
   "cell_type": "markdown",
   "metadata": {},
   "source": [
    "---"
   ]
  },
  {
   "cell_type": "markdown",
   "metadata": {},
   "source": [
    "---"
   ]
  }
 ],
 "metadata": {
  "kernelspec": {
   "display_name": "Python 3",
   "language": "python",
   "name": "python3"
  },
  "language_info": {
   "codemirror_mode": {
    "name": "ipython",
    "version": 3
   },
   "file_extension": ".py",
   "mimetype": "text/x-python",
   "name": "python",
   "nbconvert_exporter": "python",
   "pygments_lexer": "ipython3",
   "version": "3.8.12"
  }
 },
 "nbformat": 4,
 "nbformat_minor": 1
}
