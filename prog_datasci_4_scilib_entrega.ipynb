{
 "cells": [
  {
   "cell_type": "markdown",
   "metadata": {},
   "source": [
    "# Programación para *Data Science*"
   ]
  },
  {
   "cell_type": "markdown",
   "metadata": {},
   "source": [
    "Unidad 4: Librerías científicas en Python\n",
    "------------------------------------------------------"
   ]
  },
  {
   "cell_type": "markdown",
   "metadata": {},
   "source": [
    "Esta Unidad se compone de 4 módulos: Matplotlib, Numpy, pandas y SciPy. A continuación, os proponemos una serie de ejercicios a realizar para cada uno de estos módulos."
   ]
  },
  {
   "cell_type": "markdown",
   "metadata": {},
   "source": [
    "# Ejercicios para practicar\n",
    "\n",
    "**Los siguientes 4 ejercicios** no puntuan para la PEC, pero os recomendamos que los intentéis resolver antes de pasar a los ejercicios propios de la PEC. También podéis encontrar las soluciones a estos ejercicios al final del Notebook.\n"
   ]
  },
  {
   "cell_type": "markdown",
   "metadata": {},
   "source": [
    "### Ejercicio 1\n",
    "Calculad la norma y el determinante de la siguiente matriz: ```[[1, 0], [2, -1]]```."
   ]
  },
  {
   "cell_type": "code",
   "execution_count": null,
   "metadata": {},
   "outputs": [],
   "source": [
    "# Respuesta"
   ]
  },
  {
   "cell_type": "markdown",
   "metadata": {},
   "source": [
    "### Ejercicio 2 \n",
    "Evaluad las funciones arcoseno y arcocoseno en el intervalo [0,1] y con paso (resolución) de 0.1 y guardadlas en dos _arrays_."
   ]
  },
  {
   "cell_type": "code",
   "execution_count": null,
   "metadata": {},
   "outputs": [],
   "source": [
    "# Respuesta"
   ]
  },
  {
   "cell_type": "markdown",
   "metadata": {},
   "source": [
    "### Ejercicio 3\n",
    "Representad en una sola gráfica las funciones arcoseno y arcocoseno en el intervalo [-pi/4, pi/4]. Añadid la leyenda correspondiente a cada gráfico."
   ]
  },
  {
   "cell_type": "code",
   "execution_count": null,
   "metadata": {},
   "outputs": [],
   "source": [
    "# Respuesta"
   ]
  },
  {
   "cell_type": "markdown",
   "metadata": {},
   "source": [
    "### Ejercicio 4\n",
    "Generad una lista de 100 valores enteros aleatorios de 0-9. Realizad los siguientes cálculos utilizando métodos de _numpy_:\n",
    "- Media y desviación estándar de los valores de la lista\n",
    "- Valor máximo y mínimo\n",
    "- Sumad todos los valores de la lista\n",
    "- Conseguid una lista de valores únicos"
   ]
  },
  {
   "cell_type": "code",
   "execution_count": null,
   "metadata": {},
   "outputs": [],
   "source": [
    "# Respuesta"
   ]
  },
  {
   "cell_type": "markdown",
   "metadata": {},
   "source": [
    "# Ejercicios para la PEC\n",
    "\n",
    "A continuación encontraréis los ejercicios que debéis completar en esta PEC y que\n",
    "forman parte de la evaluación de esta unidad."
   ]
  },
  {
   "cell_type": "markdown",
   "metadata": {},
   "source": [
    "## NumPy - Ejercicios"
   ]
  },
  {
   "cell_type": "markdown",
   "metadata": {},
   "source": [
    "### Ejercicio 1\n",
    "Ordenad la matriz bidimensional ```[[5,1,7], [0,7,4], [7,23,1]]``` por filas utilizando como algoritmo de ordenación el [Merge sort](https://en.wikipedia.org/wiki/Merge_sort). **(0.5 puntos)**\n",
    "\n",
    "**Hint:** No es necesario que implementéis el algoritmo de ordenación a mano, NumPy contiene métodos para realizar diferentes tipos de ordenación sobre diferentes estructuras de datos."
   ]
  },
  {
   "cell_type": "code",
   "execution_count": null,
   "metadata": {},
   "outputs": [],
   "source": [
    "# Respuesta"
   ]
  },
  {
   "cell_type": "markdown",
   "metadata": {},
   "source": [
    "### Ejercicio 2\n",
    "Definid una función que dadas dos matrices, devuelva el valor absoluto de la multiplicación de los determinantes ambas, es decir, dadas A y B, nuestra función devolverá `|det(A) * det(B)|`. **(0.5 puntos)**"
   ]
  },
  {
   "cell_type": "code",
   "execution_count": null,
   "metadata": {},
   "outputs": [],
   "source": [
    "# Respuesta"
   ]
  },
  {
   "cell_type": "markdown",
   "metadata": {},
   "source": [
    "### Ejercicio 3\n",
    "Cread una matriz 10x10 que corresponda con la [matriz identidad](https://es.wikipedia.org/wiki/Matriz_identidad) usando generadores básicos de arrays. Cread una matriz identidad 10x10 (esta vez usando generadores especificos de matrices identidad) y comprobad que ambas matrices son iguales **(0.5 puntos)**\n",
    "\n",
    "**Consideraciones**:\n",
    "- La primera matriz debe crearse usando constructores básicos de arrays, como los presentados en los Notebooks de teoría.\n",
    "* La segunda matriz debe generarse utilizando el generador de matrices identidad de numpy.\n",
    "* La comparación debe devolver True si las matrices son iguales (un único True), False de no ser así."
   ]
  },
  {
   "cell_type": "code",
   "execution_count": null,
   "metadata": {},
   "outputs": [],
   "source": [
    "# Respuesta"
   ]
  },
  {
   "cell_type": "markdown",
   "metadata": {},
   "source": [
    "### Ejercicio 4\n",
    "Cread una matriz de 2x6 donde los valores de cada posición `(i, j)` correspondan a `i^2+j` para todo `i` par, `i/j^2` para todo `i` impar. **(0.5 puntos)**"
   ]
  },
  {
   "cell_type": "code",
   "execution_count": null,
   "metadata": {},
   "outputs": [],
   "source": [
    "# Respuesta"
   ]
  },
  {
   "cell_type": "markdown",
   "metadata": {},
   "source": [
    "### Ejercicio 5\n",
    "Cread dos matrices de tamaño 5x5 con números reales aleatorios. Obtened el resultado de multiplicar ambas matrices usando los dos métodos de multiplicación de matrices vistos en el Notebook de teoría. ¿Cuál es la diferencia entre ambos resultados? Cread ahora dos matrices de tamaño 4x5 y 5x5 respectivamente, repetid la operación. Describid cuál de los métodos de multiplicación podéis aplicar y porqué. **(0.5 puntos)**"
   ]
  },
  {
   "cell_type": "code",
   "execution_count": null,
   "metadata": {},
   "outputs": [],
   "source": [
    "# Respuesta"
   ]
  },
  {
   "cell_type": "markdown",
   "metadata": {},
   "source": [
    "## Matplotlib - Ejercicios"
   ]
  },
  {
   "cell_type": "markdown",
   "metadata": {},
   "source": [
    "### Ejercicio 1\n",
    "Representad en un único gráfico las funciones f1 y f2 definidas más abajo, evaluadas en el intervalo [0, 7] y con paso (resolución) 0.1. Definid una leyenda incluyendo el significado de cada función (2x, x^2) y posicionadla de tal forma que no cubra los graficos. **(1 punto)**"
   ]
  },
  {
   "cell_type": "code",
   "execution_count": null,
   "metadata": {},
   "outputs": [],
   "source": [
    "import numpy as np\n",
    "\n",
    "def f1(x):\n",
    "    return np.power(x, 2)\n",
    "\n",
    "def f2(x):\n",
    "    return np.power(2,x)"
   ]
  },
  {
   "cell_type": "code",
   "execution_count": 2,
   "metadata": {},
   "outputs": [],
   "source": [
    "# Respuesta"
   ]
  },
  {
   "cell_type": "markdown",
   "metadata": {},
   "source": [
    "### Ejercicio 2\n",
    "El fichero *us_births.csv* contiene datos de los nacimientos en Estados Unidos durante los años 1994-2003. Cargad el fichero y representad de forma gráfica los nacimientos agrupados por mes y año. Utilizad un gráfico 2D de tipo _scatter_. **(1.5 puntos)**\n",
    "\n",
    "*Consideraciones:*\n",
    "* La figura debe contener 10 gráficos (1 por año)\n",
    "* El valor de cada punto debe corresponder al total de nacimientos por año y mes.\n",
    "* Incluid una leyenda que contenga los años. Podéis diferenciar cada gráfico como mejor os parezca (diferentes símbolos / colores / combinación de ambos)"
   ]
  },
  {
   "cell_type": "code",
   "execution_count": null,
   "metadata": {},
   "outputs": [],
   "source": [
    "# Respuesta"
   ]
  },
  {
   "cell_type": "markdown",
   "metadata": {},
   "source": [
    "## pandas - Ejercicios"
   ]
  },
  {
   "cell_type": "markdown",
   "metadata": {},
   "source": [
    "### Ejercicio 1\n",
    "\n",
    "Cargad los datos del fichero _got.csv_ en un _dataframe_. Este conjunto de datos recoge información de la [Guerra de los Cinco Reyes](https://awoiaf.westeros.org/index.php/War_of_the_Five_Kings) de las novelas de [Cancion de Hielo y Fuego](https://es.wikipedia.org/wiki/Canci%C3%B3n_de_hielo_y_fuego) de George R.R Martin.\n",
    "\n",
    "Mostrad el número de filas del _dataframe_ y las etiquetas de los ejes. **(0.5 puntos)**"
   ]
  },
  {
   "cell_type": "code",
   "execution_count": null,
   "metadata": {},
   "outputs": [],
   "source": [
    "# Respuesta"
   ]
  },
  {
   "cell_type": "markdown",
   "metadata": {},
   "source": [
    "### Ejercicio 2\n",
    "\n",
    "Agrupad los datos cargados en el ejercicio 1 por el principal bando atacante (*attacker\\_1*). Para cada posición, mostrad el número de batallas y el resultado de la batalla (el resultado se encuentra en el campo *attacker\\_outcome*). **(0.5 puntos)**"
   ]
  },
  {
   "cell_type": "code",
   "execution_count": null,
   "metadata": {},
   "outputs": [],
   "source": [
    "# Respuesta"
   ]
  },
  {
   "cell_type": "markdown",
   "metadata": {},
   "source": [
    "### Ejercicio 3\n",
    "\n",
    "Mostrad los datos de las batallas donde el numero de participantes supera los 15000 \"hombres\" (contando ambos bandos: *attacker\\_size* y *defender\\_size*), el resultado haya sido favorable para el atacante, y la batalla se haya producido en invierno (_summer=0_).\n",
    " **(1 punto)**"
   ]
  },
  {
   "cell_type": "code",
   "execution_count": null,
   "metadata": {},
   "outputs": [],
   "source": [
    "# Respuesta"
   ]
  },
  {
   "cell_type": "markdown",
   "metadata": {},
   "source": [
    "### Ejercicio 4\n",
    "\n",
    "Contad el número de lugares que aparecen más de una vez en _dataframe_ (campo _location_), utilizando las funciones de la librería _pandas_. ¿Existe algún lugar donde se haya realizado más de una batalla? Comprobad qué bandos estaban implicados. **(0.5 puntos)**"
   ]
  },
  {
   "cell_type": "code",
   "execution_count": null,
   "metadata": {},
   "outputs": [],
   "source": [
    "# Respuesta"
   ]
  },
  {
   "cell_type": "markdown",
   "metadata": {},
   "source": [
    "### Ejercicio 5\n",
    "\n",
    "Añadid una nueva columna al _dataframe_ con un valor booleano indicando una predicción básica de si en una cierta batalla el bando atacante será vencedor. Definiremos el valor como _True_ sí el bando atacante es mayor al defensor, y como _False_ en caso contrario. Definid como _NaN_ aquellos casos en los que no haya número de tropas en ningún bando. ¿En que casos, identificados por el número de batalla (*battle\\_number*), nuestra predicción coincide con el resultado real? **(1 punto)**"
   ]
  },
  {
   "cell_type": "code",
   "execution_count": null,
   "metadata": {},
   "outputs": [],
   "source": [
    "# Respuesta"
   ]
  },
  {
   "cell_type": "markdown",
   "metadata": {},
   "source": [
    "## SciPy - Ejercicios\n",
    "\n",
    "**Hint:** Podéis utilizar el módulo [integrate](https://docs.scipy.org/doc/scipy/reference/integrate.html#module-scipy.integrate) de SciPy para resolver diferentes tipos de integrales. "
   ]
  },
  {
   "cell_type": "markdown",
   "metadata": {},
   "source": [
    "### Ejercicio 1\n",
    "\n",
    "Resolved la siguiente integral definida: **(0.5 puntos)**\n",
    "\n",
    "$$\\int_{0}^{5} x^2 + 4x + 3 dx$$"
   ]
  },
  {
   "cell_type": "code",
   "execution_count": 1,
   "metadata": {},
   "outputs": [],
   "source": [
    "# Respuesta"
   ]
  },
  {
   "cell_type": "markdown",
   "metadata": {},
   "source": [
    "### Ejercicio 2\n",
    "\n",
    "Resolved la siguiente integral doble definida: **(1 punto)**\n",
    "\n",
    "$$\\int_{x=0}^{\\pi} \\int_{y=\\pi}^{2\\pi} 3x\\sin({y^2}) + 6y\\sin({x^2}) dydx$$"
   ]
  },
  {
   "cell_type": "code",
   "execution_count": null,
   "metadata": {},
   "outputs": [],
   "source": [
    "# Respuesta"
   ]
  },
  {
   "cell_type": "markdown",
   "metadata": {},
   "source": [
    "# Soluciones a los ejercicios para practicar"
   ]
  },
  {
   "cell_type": "markdown",
   "metadata": {},
   "source": [
    "### Ejercicio 1\n",
    "Calculad la norma y el determinante de la siguiente matriz: ```[[1, 0], [2, -1]]```."
   ]
  },
  {
   "cell_type": "code",
   "execution_count": 31,
   "metadata": {},
   "outputs": [
    {
     "name": "stdout",
     "output_type": "stream",
     "text": [
      "La matriz m es: [[ 1  0]\n",
      " [ 2 -1]]\n",
      "La norma de m es:  2.449489742783178\n",
      "El determinante de m es: -1.0\n"
     ]
    }
   ],
   "source": [
    "import numpy as np\n",
    "\n",
    "# Creamos la matriz como un array bidimensional\n",
    "m = np.array([[1, 0], [2, -1]])\n",
    "\n",
    "# Y calculamos la normal y el determinante utilizando el módulo linalg\n",
    "norm = np.linalg.norm(m)\n",
    "det = np.linalg.det(m)\n",
    "\n",
    "print \"La matriz m es:\", m\n",
    "print \"La norma de m es: \", norm\n",
    "print \"El determinante de m es:\", det"
   ]
  },
  {
   "cell_type": "markdown",
   "metadata": {},
   "source": [
    "### Ejercicio 2\n",
    "Evaluad las funciones arcoseno y arcocoseno en el intervalo [0,1] y con paso (resolución) de 0.1 y guardadlas en dos arrays."
   ]
  },
  {
   "cell_type": "code",
   "execution_count": 11,
   "metadata": {},
   "outputs": [
    {
     "name": "stdout",
     "output_type": "stream",
     "text": [
      "Arcoseno de x para x entre 0 y 1, con paso 0.1:\n",
      "[0.         0.10016742 0.20135792 0.30469265 0.41151685 0.52359878\n",
      " 0.64350111 0.7753975  0.92729522 1.11976951 1.57079633]\n",
      "Arcocoseno de x para x entre 0 y 1, con paso 0.1:\n",
      "[1.57079633 1.47062891 1.36943841 1.26610367 1.15927948 1.04719755\n",
      " 0.92729522 0.79539883 0.64350111 0.45102681 0.        ]\n"
     ]
    }
   ],
   "source": [
    "import numpy as np\n",
    "\n",
    "# Generamos un vector con valores entre 0 y 1 y con paso 0.1. Para ello utilizamos la función arange,\n",
    "# que funciona de forma análoga a la función range vista en anteriores unidades.\n",
    "x = np.arange(0., 1.1, 0.1)\n",
    "\n",
    "# Calculamos el valor del arcocoseno y del arcoseno por cada valor de x utilizando las funciones arcsin y arccos de numpy\n",
    "arcoseno = np.arcsin(x)\n",
    "arcocoseno = np.arccos(x)\n",
    "\n",
    "print \"Arcoseno de x para x entre 0 y 1, con paso 0.1:\"\n",
    "print arcoseno\n",
    "print \"Arcocoseno de x para x entre 0 y 1, con paso 0.1:\"\n",
    "print arcocoseno\n"
   ]
  },
  {
   "cell_type": "markdown",
   "metadata": {},
   "source": [
    "### Ejercicio 3\n",
    "Representad en una sola gráfica las funciones arcoseno y arcocoseno en el intervalo [-pi/4, pi/4]. Añadid la leyenda correspondiente a cada gráfico."
   ]
  },
  {
   "cell_type": "code",
   "execution_count": 12,
   "metadata": {},
   "outputs": [
    {
     "data": {
      "image/png": "[encoded data removed]",
      "text/plain": [
       "<Figure size 432x288 with 1 Axes>"
      ]
     },
     "metadata": {
      "needs_background": "light"
     },
     "output_type": "display_data"
    }
   ],
   "source": [
    "%matplotlib inline\n",
    "\n",
    "import matplotlib\n",
    "import numpy as np\n",
    "import matplotlib.pyplot as plt\n",
    "\n",
    "# Empezamos por calcular los valores del intervalo -pi/4 a pi/4. No se ha especificado ningún paso, por lo que \n",
    "# elegiremos uno nosotros mismos. Para dar una resolución suficientemente alta, elegiremos un paso bajo (cuanto\n",
    "# mas bajo el paso, más elementos en la lista y por tanto, mayor resolución).\n",
    "\n",
    "paso = 0.1\n",
    "x = np.arange(-np.pi/4., np.pi/4. + paso, paso)\n",
    "\n",
    "# A continuación representamos ambas funciones en el mismo gráfico\n",
    "# Fijaos que los parámetros de la función plot corresponde a: \n",
    "# grafico_1_eje_x, grafico_1_eje_y, color_grafico_1, grafico_2_eje_x, grafico_2_eje_y, color_grafico_2,...\n",
    "\n",
    "plt.plot(x, np.arccos(x), 'r', x, np.arcsin(x), 'g')\n",
    "\n",
    "# Añadimos la leyenda al gráfico\n",
    "plt.legend([\"arcos(x)\", \"arcsin(x)\"])\n",
    "\n",
    "# Y lo mostramos por pantalla\n",
    "plt.show()"
   ]
  },
  {
   "cell_type": "markdown",
   "metadata": {},
   "source": [
    "### Ejercicio 4\n",
    "Generad una lista de 100 valores enteros aleatorios de 0-9. Realizad los siguientes cálculos utilizando métodos de _numpy_:\n",
    "- Media y desviación estándar de los valores de la lista\n",
    "- Valor máximo y mínimo\n",
    "- Sumad todos los valores de la lista\n",
    "- Conseguid una lista de valores únicos"
   ]
  },
  {
   "cell_type": "code",
   "execution_count": 33,
   "metadata": {},
   "outputs": [
    {
     "name": "stdout",
     "output_type": "stream",
     "text": [
      "Nuestra lista de valores aleatorios es: [1, 9, 3, 6, 1, 0, 0, 1, 7, 7, 5, 8, 7, 6, 2, 8, 7, 7, 0, 6, 9, 9, 0, 0, 2, 3, 6, 7, 2, 5, 9, 2, 5, 1, 5, 6, 9, 5, 4, 1, 2, 0, 3, 0, 7, 4, 2, 0, 0, 7, 5, 5, 7, 3, 2, 1, 8, 9, 3, 9, 9, 4, 0, 6, 3, 6, 9, 6, 9, 1, 4, 0, 9, 0, 1, 8, 2, 9, 4, 5, 8, 2, 9, 7, 2, 1, 4, 1, 1, 4, 8, 9, 0, 7, 3, 0, 1, 3, 6, 4]\n",
      "Su valor medio es 4.330000, y su desviación estándar es 3.095335\n",
      "Sus valores máximo y mínimo son, respectivamente: 9 y 0\n",
      "El resultado de la suma de todos los valores de la lista es 433\n",
      "Y la lista de valores únicos es [0 1 2 3 4 5 6 7 8 9]\n"
     ]
    }
   ],
   "source": [
    "from random import randint\n",
    "import numpy as np\n",
    "\n",
    "# Utilizamos la función randint del módulo random y list comprehensions para generar la lista, como ya vimos en\n",
    "# unidades anteriores\n",
    "rand_ints = [randint(0, 9) for _ in range(100)]\n",
    "\n",
    "# Para calcular la media y desviación estándar utilizamos las funciones mean y std (standard deviation) respectivamente\n",
    "m = np.mean(rand_ints)\n",
    "std = np.std(rand_ints)\n",
    "\n",
    "print \"Nuestra lista de valores aleatorios es:\", rand_ints\n",
    "print \"Su valor medio es %f, y su desviación estándar es %f\" %(m, std)\n",
    "\n",
    "# Para valores máximo y mínimo, utilizamos max y min\n",
    "max_val = np.max(rand_ints)\n",
    "min_val = np.min(rand_ints)\n",
    "\n",
    "print \"Sus valores máximo y mínimo son, respectivamente: %d y %d\" %(max_val, min_val)\n",
    "\n",
    "# Para sumar todos los elementos de la lista, la función sum\n",
    "sum_values = np.sum(rand_ints)\n",
    "\n",
    "print \"El resultado de la suma de todos los valores de la lista es\", sum_values \n",
    "\n",
    "# Y finalmente para conseguir una lista de valores únicos, la función unique\n",
    "unique_values = np.unique(rand_ints)\n",
    "\n",
    "print \"Y la lista de valores únicos es\", unique_values\n"
   ]
  }
 ],
 "metadata": {
  "kernelspec": {
   "display_name": "Python 2",
   "language": "python",
   "name": "python2"
  },
  "language_info": {
   "codemirror_mode": {
    "name": "ipython",
    "version": 2
   },
   "file_extension": ".py",
   "mimetype": "text/x-python",
   "name": "python",
   "nbconvert_exporter": "python",
   "pygments_lexer": "ipython2",
   "version": "2.7.15"
  }
 },
 "nbformat": 4,
 "nbformat_minor": 1
}
