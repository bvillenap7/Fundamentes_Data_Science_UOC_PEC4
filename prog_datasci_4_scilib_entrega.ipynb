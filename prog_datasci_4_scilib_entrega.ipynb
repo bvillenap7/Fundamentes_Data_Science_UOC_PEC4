{
 "cells": [
  {
   "cell_type": "markdown",
   "metadata": {},
   "source": [
    "<div style=\"width: 100%; clear: both;\">\n",
    "    <div style=\"float: left; width: 50%;\">\n",
    "       <img src=\"http://www.uoc.edu/portal/_resources/common/imatges/marca_UOC/UOC_Masterbrand.jpg\", align=\"left\">\n",
    "    </div>\n",
    "</div>\n",
    "\n",
    "<div style=\"float: right; width: 50%;\">\n",
    "    <p style=\"margin: 0; padding-top: 22px; text-align:right;\">22.501 · Fundamentos de Programación</p>\n",
    "    <p style=\"margin: 0; text-align:right;\">Grado en Ciencia de Datos Aplicada</p>\n",
    "    <p style=\"margin: 0; text-align:right; padding-button: 100px;\">Estudios de Informática, Multimedia y Telecomunicación</p>\n",
    "</div>\n",
    "\n",
    "</div>\n",
    "<div style=\"width: 100%; clear: both;\">\n",
    "<div style=\"width:100%;\">&nbsp;</div>"
   ]
  },
  {
   "cell_type": "markdown",
   "metadata": {
    "id": "yoTyYLluo24b"
   },
   "source": [
    "**Fundamentos de Programación**\n",
    "============================\n",
    "\n",
    "**PEC 4 - Librerías Científicas en Python**\n",
    "-----------------------------------------------------\n",
    "\n",
    "En este Notebook se encontraréis el conjunto de actividades evaluables como PEC de la asignatura. Veréis que cada una de ellas tiene asociada una puntuación, que indica el peso que tiene la actividad sobre la nota final de la PEC. Adicionalmente, hay un ejercicio opcional, que no tiene puntuación dentro de la PEC, pero que se valora al final del semestre de cara a conceder las matrículas de honor y redondear las notas finales. Podréis sacar la máxima nota de la PAC sin necesidad de hacer este ejercicio. El objetivo de este ejercicio es que sirva como pequeño reto para los estudiantes que quieran profundizar en el contenido de la asignatura.\n",
    "\n",
    "Veréis que todas las actividades de la PEC tienen una etiqueta, que indica los recursos necesarios para llevarla a cabo. Hay tres posibles etiquetas:\n",
    "\n",
    "* $\\color{green}{\\text{NM}}$ **Sólo materiales**: las herramientas necesarias para realizar la actividad se pueden encontrar en los materiales de la asignatura.\n",
    "\n",
    "* $\\color{orange}{\\text{EG}}$ **Consulta externa guiada**: la actividad puede requerir hacer uso de herramientas que no se encuentran en los materiales de la asignatura, pero el enunciado contiene indicaciones de dónde o cómo encontrar la información adicional necesaria para resolver la actividad.\n",
    "\n",
    "* $\\color{red}{\\text{EI}}$ **Consulta externa independiente**: la actividad puede requerir hacer uso de herramientas que no se encuentran en los materiales de la asignatura, y el enunciado puede no incluir la descripción de dónde o cómo encontrar esta información adicional. Será necesario que el estudiante busque esta información utilizando los recursos que se han explicado en la asignatura.\n",
    "\n",
    "Es importante notar que estas etiquetas no indican el nivel de dificultad del ejercicio, sino únicamente la necesidad de consulta de documentación externa para su resolución. Además, recordad que las **etiquetas son informativas**, pero podréis consultar referencias externas en cualquier momento (aunque no se indique explícitamente) o puede ser que podáis hacer una actividad sin consultar ningún tipo de documentación. Por ejemplo, para resolver una actividad que sólo requiera los materiales de la asignatura, puedéis consultar referencias externas si queréis, ya sea tanto para ayudaros en la resolución como para ampliar el conocimiento!\n",
    "\n",
    "En cuanto a la consulta de documentación externa en la resolución de los ejercicios, recordad **citar siempre la bibliografía utilizada** para resolver cada actividad.\n",
    "\n"
   ]
  },
  {
   "cell_type": "markdown",
   "metadata": {
    "id": "GLmKeWFTo24d"
   },
   "source": [
    "---\n",
    "# **NumPy - Ejercicios**"
   ]
  },
  {
   "cell_type": "markdown",
   "metadata": {
    "id": "oxueVNLfo24e"
   },
   "source": [
    "### Ejercicio 1\n",
    "\n",
    "(a) Crea una matriz 10x10 de números **enteros** aleatorios comprendidos entre 0 y 10. **(0.5 puntos)** $\\color{green}{\\text{NM}}$\n",
    "\n",
    "(b) A partir de la matriz anterior, calcula una [matriz simétrica](https://es.wikipedia.org/wiki/Matriz_sim%C3%A9trica). Puedes quizás inspirarte de la siguiente página web: https://stackoverflow.com/questions/10806790/generating-symmetric-matrices-in-numpy. **(0.5 puntos)** $\\color{orange}{\\text{EG}}$\n",
    "\n",
    "(c) Verifica mediante el uso de \"slices\" que la matriz del apartado (b) es realmente simétrica. **(0.5 puntos)** $\\color{green}{\\text{NM}}$\n",
    "\n",
    "Muestra por pantalla los resultados de cada uno de estos pasos."
   ]
  },
  {
   "cell_type": "code",
   "execution_count": null,
   "metadata": {
    "id": "4Xamkx-5o24f"
   },
   "outputs": [],
   "source": [
    "# Respuesta"
   ]
  },
  {
   "cell_type": "markdown",
   "metadata": {
    "id": "fQzdELxFo24l"
   },
   "source": [
    "### Ejercicio 2\n",
    "\n",
    "Dadas dos matrices A y B, en este ejercicio vamos a calcular lo siguiente: $tr(A·B^T)$, donde $tr(X)$ indica la [traza de una matriz](https://es.wikipedia.org/wiki/Traza_(%C3%A1lgebra_lineal)) $X$, $X^T$ indica la [transpuesta](https://es.wikipedia.org/wiki/Matriz_transpuesta) de la matriz $X$ y el punto $·$ corresponde al producto entre matrices.\n",
    "\n",
    "(a) Escoge cualquiera de las matrices generadas en el ejercicio anterior y modifica sus dimensiones para obtener una matriz **20x5**. Ésta será nuestra matriz **A**. **(0.5 points)** $\\color{green}{\\text{NM}}$\n",
    "\n",
    "(b) Crea una matriz **20x5** cuyos elementos sean todos igual a 1. Ésta será nuestra matriz **B**. **(0.5 points)** $\\color{green}{\\text{NM}}$\n",
    "\n",
    "(c) Con las matrices A y B de los apartados anteriores, calcula la traza de **A** multiplicada por **B transpuesta** mediante un bucle *for* que recorra la matriz resultado del producto. Para resolver este apartado pueden ser de utilidad las funciones [dot](https://numpy.org/doc/stable/reference/generated/numpy.dot.html) y [transpose](https://numpy.org/doc/stable/reference/generated/numpy.transpose.html). **(0.5 points)** $\\color{orange}{\\text{EG}}$\n",
    "\n",
    "(d) Calcula de nuevo la traza de **A** multiplicada por **B transpuesta** de nuevo pero, esta vez, utilizando la función adecuada de la librería NumPy.  **(0.5 points)** $\\color{red}{\\text{EI}}$\n",
    "\n",
    "Muestra por pantalla los resultados de cada uno de estos pasos."
   ]
  },
  {
   "cell_type": "code",
   "execution_count": 8,
   "metadata": {
    "executionInfo": {
     "elapsed": 260,
     "status": "ok",
     "timestamp": 1664395912738,
     "user": {
      "displayName": "Alex Nieto Ferro",
      "userId": "08155420283307125385"
     },
     "user_tz": -120
    },
    "id": "vwiCjGDeo24l"
   },
   "outputs": [],
   "source": [
    "# Respuesta"
   ]
  },
  {
   "cell_type": "markdown",
   "metadata": {
    "id": "dBtKxogRo24o"
   },
   "source": [
    "---\n",
    "# **Pandas - Ejercicios**"
   ]
  },
  {
   "cell_type": "markdown",
   "metadata": {
    "id": "x3903W7Uo24p"
   },
   "source": [
    "### Ejercicio 3\n",
    "\n",
    "En este ejercicio trabajaremos con un conjunto de datos turísticos (número de turistas con destino España, número de pernoctaciones y duración media de los viajes) clasificados por lugar de procedencia del turismo. Veréis que el lugar de procedencia se desglosa en cuatro niveles (continente, estado, etc.).\n",
    "\n",
    "No os preocupéis si hay datos agregados que no os acaban de cuadrar o que no véis coherentes, el objetivo es trabajar distintas funciones propias de la librería Pandas.\n",
    "\n",
    "El *dataset* está disponible en el archivo `subset_total_Spain.csv`. Encontraréis dicho archivo en la carpeta `data` que se ha descargado junto con el resto de notebooks de la PEC.\n",
    "\n",
    "(a) Carga el conjunto de datos especificando el [separador entre columnas](https://pandas.pydata.org/docs/reference/api/pandas.read_csv.html) más pertinente. **(0.5 points)** $\\color{orange}{\\text{EG}}$\n",
    "\n",
    "(b) A partir del `DataFrame` anterior, crea un nuevo `DataFrame` que contega únicamente las filas que ocupen una posición par en el conjunto de datos original.  **(0.5 points)** $\\color{orange}{\\text{EG}}$\n",
    "\n",
    "(c) Sin utilizar el nombre de las columnas, crea un segundo `DataFrame` que contenga únicamente las columnas que ocupen una posición impar en el conjunto de datos original.  **(0.5 points)** $\\color{orange}{\\text{EG}}$\n",
    "\n",
    "(d) Crea un tercer `DataFrame` que contenga únicamente las filas cuyo `Concepto turístico` sea igual a \"Pernoctaciones\".  **(0.5 points)** $\\color{green}{\\text{NM}}$\n",
    "\n",
    "(e) Crea un cuarto `DataFrame` que contega únicamente las entradas comprendidas entre los índices 100 y 200 (ambos incluidos) de las columnas `Periodo` y `Concepto turístico`.  **(0.5 points)** $\\color{green}{\\text{NM}}$\n",
    "\n",
    "(f) Calcula el número de millones de *turistas* con destino España agrupados por *año*.  **(0.5 points)** $\\color{green}{\\text{NM}}$\n",
    "\n",
    "**NOTA**: Para resolver los apartados (b) y (c) te puede ser de utilidad la función [iloc](https://pandas.pydata.org/docs/reference/api/pandas.DataFrame.iloc.html)."
   ]
  },
  {
   "cell_type": "code",
   "execution_count": null,
   "metadata": {
    "id": "EaUJJJyOo24p"
   },
   "outputs": [],
   "source": [
    "#Respuesta"
   ]
  },
  {
   "cell_type": "markdown",
   "metadata": {
    "id": "nEP8Ez3lo24s"
   },
   "source": [
    "### Ejercicio 4\n",
    "Calcula la [media ponderada](https://es.wikipedia.org/wiki/Media_ponderada) de la duración de los viajes para el año 2021, cogiendo como *pesos* el número de turistas mensuales de ese mismo año.\n",
    "\n",
    "**(1 punto)** $\\color{red}{\\text{EI}}$"
   ]
  },
  {
   "cell_type": "code",
   "execution_count": null,
   "metadata": {
    "id": "vZ4psh11o24s"
   },
   "outputs": [],
   "source": [
    "# Respuesta"
   ]
  },
  {
   "cell_type": "markdown",
   "metadata": {
    "id": "Vw7cSe5Go24t"
   },
   "source": [
    "---\n",
    "# **Matplotlib - Ejercicios**"
   ]
  },
  {
   "cell_type": "markdown",
   "metadata": {
    "id": "kgV6LyT6o24t"
   },
   "source": [
    "### Ejercicio 5\n",
    "\n",
    "En este ejercicio vamos a utilizar la librería Matplotlib para trazar la evolución temporal de turistas en España. Para ello extrae las columnas que creas oportunas del conjunto de datos original del ejercicio 3 y:\n",
    "\n",
    "- añade un título, así como texto en el eje de abscisas y de ordenadas;\n",
    "- muestra 1 de cada 6 etiquetas del eje de abscisas;\n",
    "- y añade una cuadrícula de fondo a la gráfica.\n",
    "\n",
    "**(1 punto)** $\\color{green}{\\text{NM}}$"
   ]
  },
  {
   "cell_type": "code",
   "execution_count": null,
   "metadata": {
    "id": "iImpNCTGo24u"
   },
   "outputs": [],
   "source": [
    "# Respuesta"
   ]
  },
  {
   "cell_type": "markdown",
   "metadata": {
    "id": "Qf1myJuJo24v"
   },
   "source": [
    "### Ejercicio 6\n",
    "\n",
    "Dibuja el histograma correspondiente a la `duración media de los viajes` (todos los años incluidos). Activa el argumento `density` y asigna 10 al número de `bins`.\n",
    "\n",
    "**(1 punto)** $\\color{green}{\\text{NM}}$"
   ]
  },
  {
   "cell_type": "code",
   "execution_count": null,
   "metadata": {
    "id": "00qJjZEyo24v"
   },
   "outputs": [],
   "source": [
    "# Respuesta"
   ]
  },
  {
   "cell_type": "markdown",
   "metadata": {
    "id": "ZKbpKQyQo24w"
   },
   "source": [
    "---\n",
    "# **SciPy - Ejercicios**"
   ]
  },
  {
   "cell_type": "markdown",
   "metadata": {
    "id": "YjM-ZwFko24w"
   },
   "source": [
    "### Ejercicio 7\n",
    "\n",
    "(a) Utiliza la función [gaussian_kde](https://docs.scipy.org/doc/scipy/reference/generated/scipy.stats.gaussian_kde.html) de la librería `stats` de `scipy` para estimar la densidad de probabilidad correspondiente a la `duración media de los viajes` (todos los años incluidos) y compárala en un mismo gráfico con el histograma del ejercicio 7. **(0.5 puntos)** $\\color{orange}{\\text{EG}}$\n",
    "\n",
    "(b) Utiliza la función [quad](https://docs.scipy.org/doc/scipy/reference/generated/scipy.integrate.quad.html) de la librería `integrate` de `scipy` para verificar que la integral de la función de densidad de probabilidad calculada en el apartado anterior es aproximadamente 1. **(Opcional)** $\\color{orange}{\\text{EG}}$"
   ]
  },
  {
   "cell_type": "code",
   "execution_count": null,
   "metadata": {
    "id": "xwSQccOFo24w"
   },
   "outputs": [],
   "source": [
    "# Respuesta"
   ]
  },
  {
   "cell_type": "markdown",
   "metadata": {
    "id": "tRIB1yXEo24y"
   },
   "source": [
    "---\n",
    "# **Ejercicio Opcional**\n",
    "\n",
    "Te habrás fijado que el conjunto de datos del ejercicio 3 contiene numerosos valores perdidos (`NaN`). Localiza donde se encuentran dichos valores (`True`/`False`) y visualiza el *pattern* correspondiente mediante la función `imshow` de `matplotlib`.\n",
    "\n",
    "**(Opcional)** $\\color{red}{\\text{EI}}$"
   ]
  },
  {
   "cell_type": "code",
   "execution_count": null,
   "metadata": {
    "id": "0TW8ng0mo24y"
   },
   "outputs": [],
   "source": [
    "# Respuesta"
   ]
  }
 ],
 "metadata": {
  "colab": {
   "collapsed_sections": [
    "nEP8Ez3lo24s",
    "kgV6LyT6o24t",
    "Qf1myJuJo24v"
   ],
   "provenance": []
  },
  "kernelspec": {
   "display_name": "Python 3",
   "language": "python",
   "name": "python3"
  },
  "language_info": {
   "codemirror_mode": {
    "name": "ipython",
    "version": 3
   },
   "file_extension": ".py",
   "mimetype": "text/x-python",
   "name": "python",
   "nbconvert_exporter": "python",
   "pygments_lexer": "ipython3",
   "version": "3.7.6"
  }
 },
 "nbformat": 4,
 "nbformat_minor": 1
}
