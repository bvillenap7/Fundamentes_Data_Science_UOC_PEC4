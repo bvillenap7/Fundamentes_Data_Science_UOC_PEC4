{
 "cells": [
  {
   "cell_type": "markdown",
   "metadata": {},
   "source": [
    "# Programación para *Data Science*"
   ]
  },
  {
   "cell_type": "markdown",
   "metadata": {},
   "source": [
    "Unidad 4: Librerías científicas en Python\n",
    "------------------------------------------------------"
   ]
  },
  {
   "cell_type": "markdown",
   "metadata": {},
   "source": [
    "Esta Unidad se compone de 4 módulos: Matplotlib, Numpy, pandas y SciPy. A continuación, os proponemos una serie de ejercicios a realizar para cada uno de estos módulos."
   ]
  },
  {
   "cell_type": "markdown",
   "metadata": {},
   "source": [
    "# NumPy - Ejercicios"
   ]
  },
  {
   "cell_type": "markdown",
   "metadata": {},
   "source": [
    "### Ejercicio 1\n",
    "Ordenad la matriz bidimemsional ```[[5,1,7], [0,7,4], [7,23,1]]``` por filas utilizando como algoritmo de ordenación el [Heapsort](https://es.wikipedia.org/wiki/Heapsort). **(0.5 puntos)**"
   ]
  },
  {
   "cell_type": "code",
   "execution_count": null,
   "metadata": {},
   "outputs": [],
   "source": [
    "# Respuesta"
   ]
  },
  {
   "cell_type": "markdown",
   "metadata": {},
   "source": [
    "### Ejercicio 2\n",
    "Definid una función que dadas dos matrices bidimensionales devuelva _True_ si las dos matrices son iguales (todos sus elementos son iguales) o _False_ en caso contrario. Comprobad que la matriz del ejercicio anterior es igual a la siguiente matriz: ```[[12-7,1,63/9], [int(math.sin(0)),12-5,pow(2,2)], [4+3,3*7+2,pow(1,7)]]```. **(0.5 puntos)**"
   ]
  },
  {
   "cell_type": "code",
   "execution_count": null,
   "metadata": {},
   "outputs": [],
   "source": [
    "# Respuesta"
   ]
  },
  {
   "cell_type": "markdown",
   "metadata": {},
   "source": [
    "### Ejercicio 3\n",
    "En Python tenemos la función ```bin()``` que nos permite convertir un número decimal a su representación binaria. Desgraciadamente, no podemos aplicar esta función a una matriz bidimensional. Usando la función _frompyfunc_ de numpy, cread una función ```bin_array``` que dada una matriz bidimensional devuelva otra matriz con la representación binaria de todos los elementos de la matriz original. Aplicad esta función a la matriz del Ejercicio 1 e imprimid por pantalla el resultado. **(0.5 puntos)**"
   ]
  },
  {
   "cell_type": "code",
   "execution_count": null,
   "metadata": {},
   "outputs": [],
   "source": [
    "# Respuesta"
   ]
  },
  {
   "cell_type": "markdown",
   "metadata": {},
   "source": [
    "### Ejercicio 4\n",
    "Cread una matriz de 8x8 que tenga un patrón 1 (blancas) / 0 (negras) como si se tratara de un tablero de ajedrez. **(0.5 puntos)**"
   ]
  },
  {
   "cell_type": "code",
   "execution_count": null,
   "metadata": {},
   "outputs": [],
   "source": [
    "# Respuesta"
   ]
  },
  {
   "cell_type": "markdown",
   "metadata": {},
   "source": [
    "### Ejercicio 5\n",
    "Cread dos matrices de tamaño 3x2 y 2x2 con números reales aleatorios y obtened la matriz resultado de multiplicar la primera por la segunda. **(0.5 puntos)**"
   ]
  },
  {
   "cell_type": "code",
   "execution_count": null,
   "metadata": {},
   "outputs": [],
   "source": [
    "# Respuesta"
   ]
  },
  {
   "cell_type": "markdown",
   "metadata": {},
   "source": [
    "### Ejercicio 6\n",
    "Calculad la norma y el determinante de la siguiente matriz: ```[[1, 0], [2, -1]]```. **(0.5 puntos)**"
   ]
  },
  {
   "cell_type": "code",
   "execution_count": null,
   "metadata": {},
   "outputs": [],
   "source": [
    "# Respuesta"
   ]
  },
  {
   "cell_type": "markdown",
   "metadata": {},
   "source": [
    "### Ejercicio 7\n",
    "Evaluad las funciones arcoseno y arcocoseno en el intervalo [0,1] y con paso (resolución) de 0.1 y guardadlas en dos _arrays_. **(0.5 puntos)**"
   ]
  },
  {
   "cell_type": "code",
   "execution_count": null,
   "metadata": {},
   "outputs": [],
   "source": [
    "# Respuesta"
   ]
  },
  {
   "cell_type": "markdown",
   "metadata": {},
   "source": [
    "# Matplotlib - Ejercicios"
   ]
  },
  {
   "cell_type": "markdown",
   "metadata": {},
   "source": [
    "### Ejercicio 1\n",
    "Representad en un único gráfico las funciones arcoseno y arcocoseno en el intervalo [-pi/4, pi/4]. **(0.5 puntos)**"
   ]
  },
  {
   "cell_type": "code",
   "execution_count": null,
   "metadata": {},
   "outputs": [],
   "source": [
    "# Respuesta"
   ]
  },
  {
   "cell_type": "markdown",
   "metadata": {},
   "source": [
    "### Ejercicio 2\n",
    "Representad en dos gráficos (uno debajo del otro) las funciones f1 y f2 definidas más abajo, evaluadas en el intervalo [0, 5] y con paso (resolución) 0.02. **(0.5 puntos)**"
   ]
  },
  {
   "cell_type": "code",
   "execution_count": 1,
   "metadata": {},
   "outputs": [],
   "source": [
    "import numpy as np\n",
    "\n",
    "def f1(x):\n",
    "    return np.exp(-x)\n",
    "\n",
    "def f2(x):\n",
    "    return np.cos(2*np.pi*x)"
   ]
  },
  {
   "cell_type": "code",
   "execution_count": 5,
   "metadata": {},
   "outputs": [],
   "source": [
    "# Respuesta"
   ]
  },
  {
   "cell_type": "markdown",
   "metadata": {},
   "source": [
    "### Ejercicio 3\n",
    "El fichero *salem_executions_data.csv* contiene datos sobre las acusaciones de brujería y ejecuciones llevadas a cabo en Salem durante enero de 1962 y marzo de 1963. Cargad el fichero y representad de forma gráfica el número de acusaciones versus el número de ejecuciones durante el periodo indicado. Usad una gráfica _3D_ de tipo _scatter_. **(1 punto)**"
   ]
  },
  {
   "cell_type": "code",
   "execution_count": null,
   "metadata": {},
   "outputs": [],
   "source": [
    "# Respuesta"
   ]
  },
  {
   "cell_type": "markdown",
   "metadata": {},
   "source": [
    "# pandas - Ejercicios"
   ]
  },
  {
   "cell_type": "markdown",
   "metadata": {},
   "source": [
    "### Ejercicio 1\n",
    "\n",
    "Cargad los datos del fichero `historical_projections.csv` en un _dataframe_. Este conjunto de datos recoge resultados históricos (hasta 2015) sobre el [_draft_ de la NBA](https://en.wikipedia.org/wiki/NBA_draft) junto con valores probabilísticos extraídos de un modelo para predecir el éxito de los jugadores.\n",
    "\n",
    "Mostrad el número de filas del _dataframe_ y las etiquetas de los ejes. **(0.5 puntos)**"
   ]
  },
  {
   "cell_type": "code",
   "execution_count": null,
   "metadata": {},
   "outputs": [],
   "source": [
    "# Respuesta"
   ]
  },
  {
   "cell_type": "markdown",
   "metadata": {},
   "source": [
    "### Ejercicio 2\n",
    "\n",
    "Agrupad los datos cargados en el ejercicio 1 según su posición (_Position_). Para cada posición, mostrad el número de jugadores que hay en el _draft_ y la mediana de la probabilidad de que un jugador sea una superestrella (la probabilidad se encuentra en la columna _Superstar_). **(0.5 puntos)**"
   ]
  },
  {
   "cell_type": "code",
   "execution_count": null,
   "metadata": {},
   "outputs": [],
   "source": [
    "# Respuesta"
   ]
  },
  {
   "cell_type": "markdown",
   "metadata": {},
   "source": [
    "### Ejercicio 3\n",
    "\n",
    "Mostrad los datos de los jugadores que aparecen en el _draft_ de 2015 con un valor «Projected SPM» superior a 0.15 e inferior a 0.4 y que juegan o bien en la posición escolta (en inglés, _shooting guard_ o _SG_) o bien en la posición ala-pívot (en inglés, _power forward_ o _PF_). **(1 punto)**"
   ]
  },
  {
   "cell_type": "code",
   "execution_count": null,
   "metadata": {},
   "outputs": [],
   "source": [
    "# Respuesta"
   ]
  },
  {
   "cell_type": "markdown",
   "metadata": {},
   "source": [
    "### Ejercicio 4\n",
    "\n",
    "Contad el número de jugadores que aparecen más de una vez en el _dataframe_ (atendiendo al nombre del jugador), utilizando las funciones de la librería pandas. ¿Existen jugadores que aparecen múltiples veces en el _dataframe_? Comprobad si alguno de ellos aparece jugando en posiciones distintas.  **(0.5 puntos)**"
   ]
  },
  {
   "cell_type": "code",
   "execution_count": null,
   "metadata": {},
   "outputs": [],
   "source": [
    "# Respuesta"
   ]
  },
  {
   "cell_type": "markdown",
   "metadata": {},
   "source": [
    "### Ejercicio 5\n",
    "\n",
    "Añadid una nueva columna al _dataframe_ con un valor booleano indicando si el jugador será o no una superestrella. Considerad que un jugador será una superestrella si la probabilidad de que lo sea es superior a 0.1 y tiene un valor _Projected SPM_ positivo. **(1 punto)**"
   ]
  },
  {
   "cell_type": "code",
   "execution_count": null,
   "metadata": {},
   "outputs": [],
   "source": [
    "# Respuesta"
   ]
  },
  {
   "cell_type": "markdown",
   "metadata": {},
   "source": [
    "# SciPy - Ejercicios"
   ]
  },
  {
   "cell_type": "markdown",
   "metadata": {},
   "source": [
    "### Ejercicio 1: Ajustar una distribución\n",
    "\n",
    "La variable data contiene 1000 muestras aleatorias de una [distribución normal](https://en.wikipedia.org/wiki/Normal_distribution):"
   ]
  },
  {
   "cell_type": "code",
   "execution_count": 1,
   "metadata": {},
   "outputs": [],
   "source": [
    "from scipy.stats import norm\n",
    "\n",
    "data = norm.rvs(5, 1, size=1000)"
   ]
  },
  {
   "cell_type": "markdown",
   "metadata": {},
   "source": [
    "Ajustad una distribución normal a las muestras de data y generad tres gráficas en una única fila (una al lado de la otra) con:\n",
    "1. Un histograma con las muestras de data, usando 20 bins.\n",
    "2. La función de densidad de probabilidad de la distribución ajustada. \n",
    "3. El histograma y la función de densidad de probabilidad superpuestos. \n",
    "**(1 punto)**\n",
    "\n",
    "Pista: Podéis utilizar la función fit de [scipy.stats.norm](https://docs.scipy.org/doc/scipy/reference/generated/scipy.stats.norm.html)."
   ]
  },
  {
   "cell_type": "code",
   "execution_count": null,
   "metadata": {},
   "outputs": [],
   "source": [
    "# Respuesta"
   ]
  }
 ],
 "metadata": {
  "kernelspec": {
   "display_name": "Python 2",
   "language": "python",
   "name": "python2"
  },
  "language_info": {
   "codemirror_mode": {
    "name": "ipython",
    "version": 2
   },
   "file_extension": ".py",
   "mimetype": "text/x-python",
   "name": "python",
   "nbconvert_exporter": "python",
   "pygments_lexer": "ipython2",
   "version": "2.7.15rc1"
  }
 },
 "nbformat": 4,
 "nbformat_minor": 1
}
