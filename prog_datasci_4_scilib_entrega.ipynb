{
 "metadata": {
  "name": "",
  "signature": "sha256:70d8b74a9eeee6a6f3c5826e219b153676f037edd39d7b661a99a14d7ce31db2"
 },
 "nbformat": 3,
 "nbformat_minor": 0,
 "worksheets": [
  {
   "cells": [
    {
     "cell_type": "heading",
     "level": 1,
     "metadata": {},
     "source": [
      "Programaci\u00f3n para *Data Science*"
     ]
    },
    {
     "cell_type": "markdown",
     "metadata": {},
     "source": [
      "Unidad 4: Librer\u00edas cient\u00edficas en Python\n",
      "------------------------------------------------------"
     ]
    },
    {
     "cell_type": "markdown",
     "metadata": {},
     "source": [
      "Esta Unidad se compone de 4 m\u00f3dulos: Matplotlib, Numpy, pandas y SciPy. A continuaci\u00f3n, os proponemos una serie de ejercicios a realizar para cada uno de estos m\u00f3dulos."
     ]
    },
    {
     "cell_type": "heading",
     "level": 2,
     "metadata": {},
     "source": [
      "NumPy - Ejercicios"
     ]
    },
    {
     "cell_type": "markdown",
     "metadata": {},
     "source": [
      "### Ejercicio 1\n",
      "Ordenad la matriz bidimemsional ```[[5,1,7], [0,7,4], [7,23,1]]``` por filas utilizando como algoritmo de ordenaci\u00f3n el [Heapsort](https://es.wikipedia.org/wiki/Heapsort). **(0.5 puntos)**"
     ]
    },
    {
     "cell_type": "code",
     "collapsed": false,
     "input": [
      "# Respuesta"
     ],
     "language": "python",
     "metadata": {},
     "outputs": []
    },
    {
     "cell_type": "markdown",
     "metadata": {},
     "source": [
      "### Ejercicio 2\n",
      "Definid una funci\u00f3n que dadas dos matrices bidimensionales devuelva _True_ si las dos matrices son iguales (todos sus elementos son iguales) o _False_ en caso contrario. Comprobad que la matriz del ejercicio anterior es igual a la siguiente matriz: ```[[12-7,1,63/9], [int(math.sin(0)),12-5,pow(2,2)], [4+3,3*7+2,pow(1,7)]]```. **(0.5 puntos)**"
     ]
    },
    {
     "cell_type": "code",
     "collapsed": false,
     "input": [
      "# Respuesta"
     ],
     "language": "python",
     "metadata": {},
     "outputs": []
    },
    {
     "cell_type": "markdown",
     "metadata": {},
     "source": [
      "### Ejercicio 3\n",
      "En Python tenemos la funci\u00f3n ```bin()``` que nos permite convertir un n\u00famero decimal a su representaci\u00f3n binaria. Desgraciadamente, no podemos aplicar esta funci\u00f3n a una matriz bidimensional. Usando la funci\u00f3n _frompyfunc_ de numpy, cread una funci\u00f3n ```bin_array``` que dada una matriz bidimensional devuelva otra matriz con la representaci\u00f3n binaria de todos los elementos de la matriz original. Aplicad esta funci\u00f3n a la matriz del Ejercicio 1 e imprimid por pantalla el resultado. **(0.5 puntos)**"
     ]
    },
    {
     "cell_type": "code",
     "collapsed": false,
     "input": [
      "# Respuesta"
     ],
     "language": "python",
     "metadata": {},
     "outputs": []
    },
    {
     "cell_type": "markdown",
     "metadata": {},
     "source": [
      "### Ejercicio 4\n",
      "Cread una matriz de 8x8 que tenga un patr\u00f3n 1 (blancas) / 0 (negras) como si se tratara de un tablero de ajedrez. **(0.5 puntos)**"
     ]
    },
    {
     "cell_type": "code",
     "collapsed": false,
     "input": [
      "# Respuesta"
     ],
     "language": "python",
     "metadata": {},
     "outputs": []
    },
    {
     "cell_type": "markdown",
     "metadata": {},
     "source": [
      "### Ejercicio 5\n",
      "Cread dos matrices de tama\u00f1o 3x2 y 2x2 con n\u00fameros reales aleatorios y obtened la matriz resultado de multiplicar la primera por la segunda. **(0.5 puntos)**"
     ]
    },
    {
     "cell_type": "code",
     "collapsed": false,
     "input": [
      "# Respuesta"
     ],
     "language": "python",
     "metadata": {},
     "outputs": []
    },
    {
     "cell_type": "markdown",
     "metadata": {},
     "source": [
      "### Ejercicio 6\n",
      "Calculad la norma y el determinante de la siguiente matriz: ```[[1, 0], [2, -1]]```. **(0.5 puntos)**"
     ]
    },
    {
     "cell_type": "code",
     "collapsed": false,
     "input": [
      "# Respuesta"
     ],
     "language": "python",
     "metadata": {},
     "outputs": []
    },
    {
     "cell_type": "markdown",
     "metadata": {},
     "source": [
      "### Ejercicio 7\n",
      "Evaluad las funciones arcoseno y arcocoseno en el intervalo [0,1] y con paso (resoluci\u00f3n) de 0.1 y guardadlas en dos _arrays_. **(0.5 puntos)**"
     ]
    },
    {
     "cell_type": "code",
     "collapsed": false,
     "input": [
      "# Respuesta"
     ],
     "language": "python",
     "metadata": {},
     "outputs": []
    },
    {
     "cell_type": "heading",
     "level": 2,
     "metadata": {},
     "source": [
      "Matplotlib - Ejercicios"
     ]
    },
    {
     "cell_type": "markdown",
     "metadata": {},
     "source": [
      "### Ejercicio 1\n",
      "Representad en un \u00fanico gr\u00e1fico las funciones arcoseno y arcocoseno en el intervalo [-pi/4, pi/4]. **(0.5 puntos)**"
     ]
    },
    {
     "cell_type": "code",
     "collapsed": false,
     "input": [
      "# Respuesta"
     ],
     "language": "python",
     "metadata": {},
     "outputs": []
    },
    {
     "cell_type": "markdown",
     "metadata": {},
     "source": [
      "### Ejercicio 2\n",
      "Representad en dos gr\u00e1ficos (uno debajo del otro) las funciones f1 y f2 definidas m\u00e1s abajo, evaluadas en el intervalo [0, 5] y con paso (resoluci\u00f3n) 0.02. **(0.5 puntos)**"
     ]
    },
    {
     "cell_type": "code",
     "collapsed": false,
     "input": [
      "import numpy as np\n",
      "\n",
      "def f1(x):\n",
      "    return np.exp(-x)\n",
      "\n",
      "def f2(x):\n",
      "    return np.cos(2*np.pi*x)"
     ],
     "language": "python",
     "metadata": {},
     "outputs": [],
     "prompt_number": 1
    },
    {
     "cell_type": "code",
     "collapsed": false,
     "input": [
      "# Respuesta"
     ],
     "language": "python",
     "metadata": {},
     "outputs": [],
     "prompt_number": 5
    },
    {
     "cell_type": "markdown",
     "metadata": {},
     "source": [
      "### Ejercicio 3\n",
      "El fichero _salem_executions_data.csv_ contiene datos sobre las acusaciones de brujer\u00eda y ejecuciones llevadas a cabo en Salem durante enero de 1962 y marzo de 1963. Cargad el fichero y representad de forma gr\u00e1fica el n\u00famero de acusaciones versus el n\u00famero de ejecuciones durante el periodo indicado. Usad una gr\u00e1fica _3D_ de tipo _scatter_. **(1 punto)**"
     ]
    },
    {
     "cell_type": "code",
     "collapsed": false,
     "input": [
      "# Respuesta"
     ],
     "language": "python",
     "metadata": {},
     "outputs": []
    },
    {
     "cell_type": "heading",
     "level": 2,
     "metadata": {},
     "source": [
      "pandas - Ejercicios"
     ]
    },
    {
     "cell_type": "markdown",
     "metadata": {},
     "source": [
      "### Ejercicio 1\n",
      "\n",
      "Cargad los datos del fichero `historical_projections.csv` en un _dataframe_. Este conjunto de datos recoge resultados hist\u00f3ricos (hasta 2015) sobre el [_draft_ de la NBA](https://en.wikipedia.org/wiki/NBA_draft) junto con valores probabil\u00edsticos extra\u00eddos de un modelo para predecir el \u00e9xito de los jugadores.\n",
      "\n",
      "Mostrad el n\u00famero de filas del _dataframe_ y las etiquetas de los ejes. **(0.5 puntos)**"
     ]
    },
    {
     "cell_type": "code",
     "collapsed": false,
     "input": [
      "# Respuesta"
     ],
     "language": "python",
     "metadata": {},
     "outputs": []
    },
    {
     "cell_type": "markdown",
     "metadata": {},
     "source": [
      "### Ejercicio 2\n",
      "\n",
      "Agrupad los datos cargados en el ejercicio 1 por a\u00f1os. Para cada a\u00f1o, mostrad el n\u00famero de jugadores que hay en el _draft_ y la media de la probabilidad de que un jugador sea una superestrella (la probabilidad se encuentra en la columna _Superstar_). **(0.5 puntos)**"
     ]
    },
    {
     "cell_type": "code",
     "collapsed": false,
     "input": [
      "# Respuesta"
     ],
     "language": "python",
     "metadata": {},
     "outputs": []
    },
    {
     "cell_type": "markdown",
     "metadata": {},
     "source": [
      "### Ejercicio 3\n",
      "\n",
      "Mostrad los datos de los jugadores que aparecen en el _draft_ de 2015 con un valor \u00abProjected SPM\u00bb superior a 0.2 y juegan o bien en la posici\u00f3n escolta (en ingl\u00e9s, _shooting guard_ o _SG_) o bien en la posici\u00f3n ala-p\u00edvot (en ingl\u00e9s, _power forward_ o _PF_). **(1 punto)**"
     ]
    },
    {
     "cell_type": "code",
     "collapsed": false,
     "input": [
      "# Respuesta"
     ],
     "language": "python",
     "metadata": {},
     "outputs": []
    },
    {
     "cell_type": "markdown",
     "metadata": {},
     "source": [
      "### Ejercicio 4\n",
      "\n",
      "Contad el n\u00famero de jugadores (diferentes) que aparecen en el _dataframe_ utilizando las funciones de la librer\u00eda pandas. \u00bfExisten jugadores que aparecen m\u00faltiples veces en el _dataframe_? **(0.5 puntos)**"
     ]
    },
    {
     "cell_type": "code",
     "collapsed": false,
     "input": [
      "# Respuesta"
     ],
     "language": "python",
     "metadata": {},
     "outputs": []
    },
    {
     "cell_type": "markdown",
     "metadata": {},
     "source": [
      "### Ejercicio 5\n",
      "\n",
      "A\u00f1adid una nueva columna al _dataframe_ con un valor booleano indicando si el jugador ser\u00e1 o no una superestrella. Considerad que un jugador ser\u00e1 una superestrella si la probabilidad de que lo sea es superior a 0.1. **(1 punto)**"
     ]
    },
    {
     "cell_type": "code",
     "collapsed": false,
     "input": [
      "# Respuesta"
     ],
     "language": "python",
     "metadata": {},
     "outputs": []
    },
    {
     "cell_type": "heading",
     "level": 2,
     "metadata": {},
     "source": [
      "SciPy - Ejercicios"
     ]
    },
    {
     "cell_type": "markdown",
     "metadata": {},
     "source": [
      "A continuaci\u00f3n ten\u00e9is el \u00fanico ejercicio que deb\u00e9is resolver en esta parte del m\u00f3dulo. Dada la especificidad de los algoritmos que se implementan en la librer\u00eda SciPy, hemos seleccionado un problema m\u00e1s simple que los mostrados como ejemplo."
     ]
    },
    {
     "cell_type": "markdown",
     "metadata": {},
     "source": [
      "### Ejercicio 1: Ajustar una distribuci\u00f3n\n",
      "\n",
      "La variable data contiene 1000 muestras aleatorias de una [distribuci\u00f3n normal](https://en.wikipedia.org/wiki/Normal_distribution):"
     ]
    },
    {
     "cell_type": "code",
     "collapsed": false,
     "input": [
      "from scipy.stats import norm\n",
      "\n",
      "data = norm.rvs(5, 2, size=1000)"
     ],
     "language": "python",
     "metadata": {},
     "outputs": [],
     "prompt_number": 2
    },
    {
     "cell_type": "markdown",
     "metadata": {},
     "source": [
      "Mostrad un histograma con las muestras de data, ajustad una distribuci\u00f3n normal a las muestras y mostrad la funci\u00f3n de densidad de probabilidad de la distribuci\u00f3n ajustada. **(1 punto)**\n",
      "\n",
      "Pista: Pod\u00e9is utilizar la funci\u00f3n fit de [scipy.stats.norm](https://docs.scipy.org/doc/scipy/reference/generated/scipy.stats.norm.html)."
     ]
    },
    {
     "cell_type": "code",
     "collapsed": false,
     "input": [
      "# Respuesta"
     ],
     "language": "python",
     "metadata": {},
     "outputs": []
    }
   ],
   "metadata": {}
  }
 ]
}