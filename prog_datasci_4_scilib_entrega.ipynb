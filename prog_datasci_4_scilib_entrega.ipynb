{
 "cells": [
  {
   "cell_type": "markdown",
   "metadata": {},
   "source": [
    "<div style=\"width: 100%; clear: both;\">\n",
    "    <div style=\"float: left; width: 50%;\">\n",
    "       <img src=\"http://www.uoc.edu/portal/_resources/common/imatges/marca_UOC/UOC_Masterbrand.jpg\", align=\"left\">\n",
    "    </div>\n",
    "</div>\n",
    "\n",
    "<div style=\"float: right; width: 50%;\">\n",
    "    <p style=\"margin: 0; padding-top: 22px; text-align:right;\">22.501 · Fundamentos de Programación</p>\n",
    "    <p style=\"margin: 0; text-align:right;\">Grado en Ciencia de Datos Aplicada</p>\n",
    "    <p style=\"margin: 0; text-align:right; padding-button: 100px;\">Estudios de Informática, Multimedia y Telecomunicación</p>\n",
    "</div>\n",
    "\n",
    "</div>\n",
    "<div style=\"width: 100%; clear: both;\">\n",
    "<div style=\"width:100%;\">&nbsp;</div>"
   ]
  },
  {
   "cell_type": "markdown",
   "metadata": {},
   "source": [
    "Fundamentos de Programación\n",
    "============================\n",
    "\n",
    "PEC 4 - Enunciado\n",
    "-----------------------------------------------------\n",
    "\n",
    "En este Notebook se encontraréis el conjunto de actividades evaluables como PEC de la asignatura. Veréis que cada una de ellas tiene asociada una puntuación, que indica el peso que tiene la actividad sobre la nota final de la PEC. Adicionalmente, hay un ejercicio opcional, que no tiene puntuación dentro de la PEC, pero que se valora al final del semestre de cara a conceder las matrículas de honor y redondear las notas finales. Podréis sacar la máxima nota de la PAC sin necesidad de hacer este ejercicio. El objetivo de este ejercicio es que sirva como pequeño reto para los estudiantes que quieran profundizar en el contenido de la asignatura.\n",
    "\n",
    "Veréis que todas las actividades de la PEC tienen una etiqueta, que indica los recursos necesarios para llevarla a cabo. Hay tres posibles etiquetas:\n",
    "\n",
    "* <span style=\"font-family: Courier New; background-color: #82b74b; color: #000000; padding: 3px; \">NM</span> **Sólo materiales**: las herramientas necesarias para realizar la actividad se pueden encontrar en los materiales de la asignatura.\n",
    "\n",
    "* <span style = \"font-family: Courier New; background-color: #ffcc5c; color: #000000; padding: 3px; \">EG</span> **Consulta externa guiada**: la actividad puede requerir hacer uso de herramientas que no se encuentran en los materiales de la asignatura, pero el enunciado contiene indicaciones de dónde o cómo encontrar la información adicional necesaria para resolver la actividad.\n",
    "\n",
    "* <span style = \"font-family: Courier New; background-color: #f2ae72; color: #000000; padding: 3px;\">EI</span> **Consulta externa independiente**: la actividad puede requerir hacer uso de herramientas que no se encuentran en los materiales de la asignatura, y el enunciado puede no incluir la descripción de dónde o cómo encontrar esta información adicional. Será necesario que el estudiante busque esta información utilizando los recursos que se han explicado en la asignatura.\n",
    "\n",
    "Es importante notar que estas etiquetas no indican el nivel de dificultad del ejercicio, sino únicamente la necesidad de consulta de documentación externa para su resolución. Además, recordad que las **etiquetas son informativas**, pero podréis consultar referencias externas en cualquier momento (aunque no se indique explícitamente) o puede ser que podáis hacer una actividad sin consultar ningún tipo de documentación. Por ejemplo, para resolver una actividad que sólo requiera los materiales de la asignatura, puedéis consultar referencias externas si queréis, ya sea tanto para ayudaros en la resolución como para ampliar el conocimiento!\n",
    "\n",
    "En cuanto a la consulta de documentación externa en la resolución de los ejercicios, recordad **citar siempre la bibliografía utilizada** para resolver cada actividad.\n",
    "\n",
    "---"
   ]
  },
  {
   "cell_type": "markdown",
   "metadata": {},
   "source": [
    "Ejercicios para la PEC\n",
    "-------------------------------"
   ]
  },
  {
   "cell_type": "markdown",
   "metadata": {},
   "source": [
    "<span style=\"color: #1d17f4; padding: 3px; font-size: x-large\">NumPy - Ejercicios</span>"
   ]
  },
  {
   "cell_type": "markdown",
   "metadata": {},
   "source": [
    "### Ejercicio 1\n",
    "\n",
    "Crea y muestra por pantalla las matrices siguientes: **(0.25 puntos)**\n",
    "\n",
    "- Una matriz 3x3 que contenga todos los enteros entre 0 y 8.\n",
    "- La matriz identidad 3x3.\n",
    "- Una matriz 5x3 con valores reales aleatorios (*Random*).\n",
    "\n",
    "Considerando las matrices del apartado anterior, muestra por pantalla el resultado de las siguientes operaciones: **(0.25 puntos)**\n",
    "\n",
    "- Multiplicar las matrices A y B. Explica el resultado obtenido.\n",
    "- Multiplicar las matrices A y C. Explica brevemente qué método de multiplicación has elegido y el resultado obtenido.\n",
    "\n",
    "**(0.5 puntos)** <span style=\"font-family: Courier New; background-color: #82b74b; color: #000000; padding: 2px; \">NM</span>"
   ]
  },
  {
   "cell_type": "code",
   "execution_count": null,
   "metadata": {},
   "outputs": [],
   "source": [
    "# Respuesta"
   ]
  },
  {
   "cell_type": "markdown",
   "metadata": {},
   "source": [
    "### Ejercicio 2\n",
    "\n",
    "Crea un array de NumPy 1D de 11 elementos (los enteros de 0 a 10) ordenados ascendentemente. A continuación, pon en negativo todos los elementos que estén entre 3 y 8, y muestra el array resultante.\n",
    "\n",
    "**(0.5 puntos)** <span style=\"font-family: Courier New; background-color: #82b74b; color: #000000; padding: 2px; \">NM</span>"
   ]
  },
  {
   "cell_type": "code",
   "execution_count": null,
   "metadata": {},
   "outputs": [],
   "source": [
    "# Respuesta"
   ]
  },
  {
   "cell_type": "markdown",
   "metadata": {},
   "source": [
    "### Ejercicio 3\n",
    "\n",
    "Crea una matriz de 7x7 donde los valores de cada posición `(i, j)` correspondan a `(i + 1) ^ - j + 2` para todo` i` múltiplo de 3 y `(i + 1) ^ j - 3` por el resto de posiciones.\n",
    "\n",
    "**(0.5 puntos)** <span style=\"font-family: Courier New; background-color: #82b74b; color: #000000; padding: 2px; \">NM</span>"
   ]
  },
  {
   "cell_type": "code",
   "execution_count": null,
   "metadata": {},
   "outputs": [],
   "source": [
    "# Respuesta"
   ]
  },
  {
   "cell_type": "markdown",
   "metadata": {},
   "source": [
    "### Ejercicio 4\n",
    "\n",
    "Normaliza una matriz aleatoria de 5x5 mediante su `media` y` desviación estàndard` tal como se indica en el siguiente [enlace](https://es.wikipedia.org/wiki/Unidad_tipificada). Comprueba que la media y la desviación estándar de la matriz normalizada son bastante cercanas a 0 y 1 respectivamente.\n",
    "\n",
    "**Nota:** Para resolver este ejercicio os pueden ser de utilidad las funciones [mean](https://numpy.org/doc/stable/reference/generated/numpy.mean.html) o [std](https://numpy.org/doc/stable/reference/generated/numpy.std.html) de Numpy.\n",
    "\n",
    "**(0.5 puntos)** <span style=\"font-family: Courier New; background-color: #ffcc5c; color: #000000; padding: 3px; \">EG</span>\n"
   ]
  },
  {
   "cell_type": "code",
   "execution_count": null,
   "metadata": {},
   "outputs": [],
   "source": [
    "# Respuesta"
   ]
  },
  {
   "cell_type": "markdown",
   "metadata": {},
   "source": [
    "### Ejercicio 5\n",
    "\n",
    "Crea una matriz 10x10 con 1 en el borde exterior y 0 en el interior.\n",
    "\n",
    "**Nota:** Podéis comprobar el resultado visualmente con la función [imshow](https://matplotlib.org/3.1.3/api/_as_gen/matplotlib.pyplot.imshow.html) de Matplotlib que ens permet visualitzar una imatge 2D.\n",
    "\n",
    "**(1 punto)** <span style=\"font-family: Courier New; background-color: #82b74b; color: #000000; padding: 2px; \">NM</span>"
   ]
  },
  {
   "cell_type": "code",
   "execution_count": null,
   "metadata": {},
   "outputs": [],
   "source": [
    "# Respuesta"
   ]
  },
  {
   "cell_type": "markdown",
   "metadata": {},
   "source": [
    "<br>\n",
    "<span style=\"color: #1d17f4; padding: 3px; font-size: x-large\">Matplotlib - Ejercicios</span>"
   ]
  },
  {
   "cell_type": "markdown",
   "metadata": {},
   "source": [
    "### Ejercicio 1\n",
    "\n",
    "Representa en un único gráfico las funciones logarítmicas $\\log_{10}(x)$, $\\log_{2}(x)$ y $\\ln(x)$, evaluadas en el intervalo [0.1, 5] y con paso (resolución) 0.02. Haz que los rangos de valores mostrados sean `[0.1, 5]` para el eje X y `[-3, 3]` por el eje Y. Adicionalmente, muestra la gráfica correspondiente a $\\log_{10}(x)$ con color <span style=\"color: green\">verde</span>, la gráfica correspondiente a $\\ln(x)$ con color <span style=\"color: red\">rojo</span> y la gráfica correspondiente a $\\log_{2}(x)$ con color <span style=\"color: blue\">azul</span>.\n",
    "\n",
    "**Nota:** Podéis consultar la documentación de [logaritmos](https://numpy.org/doc/stable/reference/generated/numpy.log.html#numpy.log) de numpy.\n",
    "\n",
    "**(0.5 puntos)** <span style=\"font-family: Courier New; background-color: #82b74b; color: #000000; padding: 2px; \">NM</span>"
   ]
  },
  {
   "cell_type": "code",
   "execution_count": 8,
   "metadata": {},
   "outputs": [],
   "source": [
    "# Definimos las funciones\n",
    "def f1(x):\n",
    "    return np.log10(x)\n",
    "\n",
    "def f2(x):\n",
    "    return np.log(x)\n",
    "\n",
    "def f3(x):\n",
    "    return np.log2(x)"
   ]
  },
  {
   "cell_type": "code",
   "execution_count": null,
   "metadata": {},
   "outputs": [],
   "source": [
    "# Respuesta"
   ]
  },
  {
   "cell_type": "markdown",
   "metadata": {},
   "source": [
    "### Ejercicio 2\n",
    "\n",
    "Carga los datos del archivo `prog_book.csv`, que puedes encontrar en la carpeta` data`, en forma de dataframe. Este conjunto de datos de la web [Kaggle](https://www.kaggle.com/thomaskonstantin/top-270-rated-computer-science-programing-books) recoge información de una lista de 270 libros de temas relacionados con la informática y la programación.\n",
    "\n",
    "Parte A **(0.5 puntos)** : \n",
    "\n",
    "Muestra el histograma de las valoraciones (*Rating*).\n",
    "\n",
    "\n",
    "*Consideraciones*\n",
    "\n",
    "* El histograma debe tener 20 bins y ser de color verde.\n",
    "\n",
    "\n",
    "Parte B **(0.5 puntos)** :\n",
    "\n",
    "Muestra un gráfico de puntos (*scatter plot*) de las valoraciones en función del precio (*Price*). Diferencia los puntos en función del tipo de libro (*Type*).\n",
    "\n",
    "*Consideraciones*\n",
    "\n",
    "* Para pintar de un color diferente cada punto en función del tipo de libro, puede que tengas que pasar esta información a numérico (e.g. Libro = 1, Ebook = 2, etc). Una opción para hacerlo es utilizar la función [LabelEncoder](https://scikit-learn.org/stable/modules/generated/sklearn.preprocessing.LabelEncoder.html) de sklearn.\n",
    "\n",
    "* Incluye la leyenda del *scatter plot*.\n",
    "\n",
    "\n",
    "Parte C **(0.5 puntos)** :\n",
    "\n",
    "Muestra un gráfico circular (*pie chart*) con los tipos de libros en porcentaje.\n",
    "\n",
    "\n",
    "*Consideraciones*\n",
    "\n",
    "* Debes incluir el porcentaje (%) de cada tipo de libro dentro de su respectivo espacio del gráfico.\n",
    "* Se debe mostrar la leyenda en la parte derecha.\n",
    "\n",
    "**Nota:** En el Notebook de teoría hemos visto cómo mostrar gráficos lineares simples. Matplotlib nos ofrece muchos otros tipos de gráficos, siendo los gráficos circulares (*pie charts*) o los *scatter plots* uno de ellos. Para resolver este ejercicio podéis consultar la documentación oficial de matplotlib referente a [*pie charts*](https://matplotlib.org/api/_as_gen/matplotlib.pyplot.pie.html) y los [*scatter plots*](https : //matplotlib.org/3.3.2/api/_as_gen/matplotlib.pyplot.scatter.html) para ver cómo se trabaja con estos tipos de gráficos.\n",
    "\n",
    "**(1.5 puntos)** <span style=\"font-family: Courier New; background-color: #ffcc5c; color: #000000; padding: 3px; \">EG</span>"
   ]
  },
  {
   "cell_type": "code",
   "execution_count": null,
   "metadata": {},
   "outputs": [],
   "source": [
    "# Respuesta"
   ]
  },
  {
   "cell_type": "markdown",
   "metadata": {},
   "source": [
    "<br>\n",
    "<span style=\"color: #1d17f4; padding: 3px; font-size: x-large\">pandas - Ejercicios</span>"
   ]
  },
  {
   "cell_type": "markdown",
   "metadata": {},
   "source": [
    "### Ejercicio 1\n",
    "\n",
    "Carga los datos del archivo `basket_players_stats.csv`, que puedes encontrar en la carpeta `data`, en un _dataframe_. Este conjunto de datos recoge información sobre jugadores de [baloncesto](https://www.kaggle.com/jacobbaruch/basketball-players-stats-per-season-49-leagues) entre 1999-2020.\n",
    "\n",
    "Muestra las variables del dataset y el número de entradas (filas). Hay información duplicada?\n",
    "\n",
    "**(0.5 puntos)** <span style=\"font-family: Courier New; background-color: #82b74b; color: #000000; padding: 3px; \">NM</span>"
   ]
  },
  {
   "cell_type": "code",
   "execution_count": null,
   "metadata": {},
   "outputs": [],
   "source": [
    "# Respuesta"
   ]
  },
  {
   "cell_type": "markdown",
   "metadata": {},
   "source": [
    "### Ejercicio 2\n",
    "\n",
    "\n",
    "La NBA (National Basketball Association) es la liga más famosa de baloncesto, pero en todo el mundo se organizan muchas otras. Contesta y muestra el resultado de las siguientes preguntas:\n",
    "\n",
    "- Hay información de ligas diferentes a la NBA? En el caso de ser así, de cuántas ligas en total disponemos de información (incluyendo la NBA)? **(0.5 puntos)**\n",
    "\n",
    "- Agrupa los datos cargados por liga (*League*), y muestra el número total de filas por cada una. De qué liga tenemos más información? Muestra los 10 primeros resultados ordenados de mayor a menor.**(0.5 puntos)**\n",
    "\n",
    "**Nota:** En el Notebook de teoría hemos visto cómo calcular la media de una agrupación de datos. Para resolver este ejercicio necesitaréis investigar cómo contar (`count`) todos los valores de una columna en una agrupación. Os puede ser de utilidad la función [aggregate](https://pandas.pydata.org/pandas-docs/stable/reference/api/pandas.DataFrame.aggregate.html) de pandas, que nos permite aplicar diferentes funciones a una columna en un `groupby`.\n",
    "\n",
    "**(1 punto)** <span style=\"font-family: Courier New; background-color: #ffcc5c; color: #000000; padding: 3px; \">EG</span>"
   ]
  },
  {
   "cell_type": "code",
   "execution_count": null,
   "metadata": {},
   "outputs": [],
   "source": [
    "# Respuesta"
   ]
  },
  {
   "cell_type": "markdown",
   "metadata": {},
   "source": [
    "### Ejercicio 3\n",
    " \n",
    "A continuación nos centraremos en la temporada 2018-2019 de la liga de la NBA.\n",
    "\n",
    "- Crea un nuevo dataset con sólo estos datos. **(0.5 puntos)**\n",
    "- ¿Qué jugador ha jugado más minutos (*MIN*) de la temporada regular (*Regular_Season*). Y de la temporada de *PlayOffs*? **(0.5 puntos)**\n",
    " \n",
    "**(1 punto)** <span style=\"font-family: Courier New; background-color: #82b74b; color: #000000; padding: 3px; \">NM</span>"
   ]
  },
  {
   "cell_type": "code",
   "execution_count": null,
   "metadata": {},
   "outputs": [],
   "source": [
    "# Respuesta"
   ]
  },
  {
   "cell_type": "markdown",
   "metadata": {},
   "source": [
    "### Ejercicio 4\n",
    "\n",
    "Los triples (tiros de 3 puntos) son un elemento clave en un partido de baloncesto. Los equipos que tienen buenos tiradores tienen una gran ventaja respecto a los equipos que no.\n",
    "\n",
    "- Cuál es el promedio de triples (*3PM*) de los jugadores de la temporada Regular 2018-2019? **(0.5 puntos)**\n",
    "- Qué equipos tienen la media de triples por encima del valor calculado en el apartado anterior? **(0.5 puntos)**\n",
    "\n",
    "**Nota**: Además del contenido de los notebooks de teoría, podéis utilizar lo que habéis aprendido haciendo el ejercicio 3.\n",
    "\n",
    "**(1 punto)** <span style=\"font-family: Courier New; background-color: #82b74b; color: #000000; padding: 3px; \">NM</span>"
   ]
  },
  {
   "cell_type": "code",
   "execution_count": null,
   "metadata": {},
   "outputs": [],
   "source": [
    "# Respuesta"
   ]
  },
  {
   "cell_type": "markdown",
   "metadata": {},
   "source": [
    "### Ejercicio 5\n",
    "\n",
    "Considere el dataset de la temporada 2018-2019 de la liga de la NBA regular (no PlayOffs).\n",
    "\n",
    "- Crea una nueva columna al dataset que nos indicará por cada fila si el jugador es de un equipo que ha participado en los PlayOffs (0 si no ha participado, 1 si ha participado). **(0.5 puntos)**\n",
    "- Muestra los histogramas de las características `height_cm` y` weight_kg` separados en función de la nueva columna de PlayOffs. Los jugadores de la NBA que han pasado a PlayOffs tienen características diferentes a los jugadores de los equipos que no han participado en los PlayOffs? **(0.25 puntos)**\n",
    "- Hay alguna relación entre la altura y el número de rebotes (*REB*) de un jugador? ¿Hay alguna diferencia entre los jugadores que llegan a PlayOffs y los que no? Responde gráficamente esta pregunta. **(0.25 puntos)**\n",
    "\n",
    "**(1 punto)** <span style=\"font-family: Courier New; background-color: #ffcc5c; color: #000000; padding: 3px; \">EG</span>"
   ]
  },
  {
   "cell_type": "code",
   "execution_count": null,
   "metadata": {},
   "outputs": [],
   "source": [
    "# Respuesta"
   ]
  },
  {
   "cell_type": "markdown",
   "metadata": {},
   "source": [
    "<br>\n",
    "<span style=\"color: #1d17f4; padding: 3px; font-size: x-large\">SciPy - Ejercicio</span>"
   ]
  },
  {
   "cell_type": "markdown",
   "metadata": {},
   "source": [
    "### Ejercicio 1\n",
    "\n",
    "Python es un lenguaje de programación muy utilizado en el procesamiento de imágenes. En este ejercicio trabajaremos con una imagen de un mapache (*racoon*), en color y en blanco y negro.\n",
    "\n",
    "- Carga y muestra las imágenes `racoon.png` y `racoonBW.png` que se encuentran en la carpeta `data`. Qué tamaño tiene cada una? Razona la respuesta. **(0.25 puntos)**\n",
    "- Aplica un filtro gaussiano con tamaño de kernel 3 y 5 a la imagen en blanco y negro. ¿Qué diferencia ves? Y si aplicas un filtro de mediana? Razona la respuesta. **(0.25 puntos)**\n",
    "\n",
    "**Nota 1**: Explorad la opción *cmap* de la función `imshow ()` para ver la imagen en blanco y negro.\n",
    "\n",
    "**Nota 2**: En el notebook de teoría hemos visto el filtro gaussiano (*gaussian_filter*). En este ejercicio también debemos aplicar el [filtro de mediana](https://docs.scipy.org/doc/scipy/reference/generated/scipy.ndimage.median_filter.html) de la librería scipy.\n",
    "\n",
    "**(0.5 puntos)** <span style=\"font-family: Courier New; background-color: #ffcc5c; color: #000000; padding: 3px; \">EG</span>"
   ]
  },
  {
   "cell_type": "code",
   "execution_count": null,
   "metadata": {},
   "outputs": [],
   "source": [
    "# Respuesta"
   ]
  },
  {
   "cell_type": "markdown",
   "metadata": {},
   "source": [
    "---"
   ]
  },
  {
   "cell_type": "markdown",
   "metadata": {},
   "source": [
    "### Ejercicio Opcional\n",
    "\n",
    "En este ejercicio queremos comparar la liga regular de NBA y la ACB en la temporada 2018-2019. Genera y muestra un gráfico de barras con el número de jugadores de cada nacionalidad de ambas ligas. <span style=\"font-family: Courier New; background-color: #f2ae72; color: #000000; padding: 3px; \">EI</span> \n",
    "\n",
    "\n",
    "Consideraciones:\n",
    "\n",
    "- Hay casos de jugadores con doble nacionalidad. Para facilitar la visualización, considera sólo **la primera nacionalidad**.\n",
    "- Muestra los dos grupos (NBA regular y ACB) en gráficos separados.\n",
    "- Debes mostrar los datos de manera horizontal (barras horizontales).\n",
    "- El eje de las Y debe incluir las etiquetas de las nacionalidades.\n",
    "- Debes incluir un texto con el número de jugadores cada categoría del gráfico. El texto debería estar situado a la derecha de cada barra.\n",
    "\n",
    "**Nota 1**: Para considerar sólo una nacionalidad debéis hacer alguna modificación del texto. Consultad la siguiente página para más [información](https://www.w3schools.com/python/ref_string_split.asp) \n",
    "\n",
    "**Nota 2**: En el Notebook de teoría hemos visto cómo mostrar gráficos lineares simples con el matplotlib. Para este ejercicio explorad las funcionalidades que presenta la librería pandas para generar gráficos a partir de dataframes. También pueden ser de utilidad las funciones [text](https://matplotlib.org/3.1.1/api/_as_gen/matplotlib.pyplot.text.html) o [annotate](https://matplotlib.org/3.1.1/api/_as_gen/matplotlib.pyplot.annotate.html) para mostrar el número de nacionalidades."
   ]
  },
  {
   "cell_type": "code",
   "execution_count": null,
   "metadata": {},
   "outputs": [],
   "source": [
    "# Respuesta"
   ]
  },
  {
   "cell_type": "markdown",
   "metadata": {},
   "source": [
    "---"
   ]
  }
 ],
 "metadata": {
  "kernelspec": {
   "display_name": "Python 3",
   "language": "python",
   "name": "python3"
  },
  "language_info": {
   "codemirror_mode": {
    "name": "ipython",
    "version": 3
   },
   "file_extension": ".py",
   "mimetype": "text/x-python",
   "name": "python",
   "nbconvert_exporter": "python",
   "pygments_lexer": "ipython3",
   "version": "3.7.6"
  }
 },
 "nbformat": 4,
 "nbformat_minor": 1
}
