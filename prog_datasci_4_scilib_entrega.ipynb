{
 "cells": [
  {
   "cell_type": "markdown",
   "metadata": {},
   "source": [
    "<div style=\"width: 100%; clear: both;\">\n",
    "    <div style=\"float: left; width: 50%;\">\n",
    "       <img src=\"http://www.uoc.edu/portal/_resources/common/imatges/marca_UOC/UOC_Masterbrand.jpg\", align=\"left\">\n",
    "    </div>\n",
    "</div>\n",
    "\n",
    "<div style=\"float: right; width: 50%;\">\n",
    "    <p style=\"margin: 0; padding-top: 22px; text-align:right;\">22.501 · Fundamentos de Programación</p>\n",
    "    <p style=\"margin: 0; text-align:right;\">Grado en Ciencia de Datos Aplicada</p>\n",
    "    <p style=\"margin: 0; text-align:right; padding-button: 100px;\">Estudios de Informática, Multimedia y Telecomunicación</p>\n",
    "</div>\n",
    "\n",
    "</div>\n",
    "<div style=\"width: 100%; clear: both;\">\n",
    "<div style=\"width:100%;\">&nbsp;</div>"
   ]
  },
  {
   "cell_type": "markdown",
   "metadata": {},
   "source": [
    "Fundamentos de Programación\n",
    "============================\n",
    "\n",
    "PEC 4 - Enunciado\n",
    "-----------------------------------------------------\n",
    "\n",
    "En este Notebook se encontraréis el conjunto de actividades evaluables como PEC de la asignatura. Veréis que cada una de ellas tiene asociada una puntuación, que indica el peso que tiene la actividad sobre la nota final de la PEC. Adicionalmente, hay un ejercicio opcional, que no tiene puntuación dentro de la PEC, pero que se valora al final del semestre de cara a conceder las matrículas de honor y redondear las notas finales. Podréis sacar la máxima nota de la PAC sin necesidad de hacer este ejercicio. El objetivo de este ejercicio es que sirva como pequeño reto para los estudiantes que quieran profundizar en el contenido de la asignatura.\n",
    "\n",
    "Veréis que todas las actividades de la PEC tienen una etiqueta, que indica los recursos necesarios para llevarla a cabo. Hay tres posibles etiquetas:\n",
    "\n",
    "* <span style=\"font-family: Courier New; background-color: #82b74b; color: #000000; padding: 3px; \">NM</span> **Sólo materiales**: las herramientas necesarias para realizar la actividad se pueden encontrar en los materiales de la asignatura.\n",
    "\n",
    "* <span style = \"font-family: Courier New; background-color: #ffcc5c; color: #000000; padding: 3px; \">EG</span> **Consulta externa guiada**: la actividad puede requerir hacer uso de herramientas que no se encuentran en los materiales de la asignatura, pero el enunciado contiene indicaciones de dónde o cómo encontrar la información adicional necesaria para resolver la actividad.\n",
    "\n",
    "* <span style = \"font-family: Courier New; background-color: #f2ae72; color: #000000; padding: 3px;\">EI</span> **Consulta externa independiente**: la actividad puede requerir hacer uso de herramientas que no se encuentran en los materiales de la asignatura, y el enunciado puede no incluir la descripción de dónde o cómo encontrar esta información adicional. Será necesario que el estudiante busque esta información utilizando los recursos que se han explicado en la asignatura.\n",
    "\n",
    "Es importante notar que estas etiquetas no indican el nivel de dificultad del ejercicio, sino únicamente la necesidad de consulta de documentación externa para su resolución. Además, recordad que las **etiquetas son informativas**, pero podréis consultar referencias externas en cualquier momento (aunque no se indique explícitamente) o puede ser que podáis hacer una actividad sin consultar ningún tipo de documentación. Por ejemplo, para resolver una actividad que sólo requiera los materiales de la asignatura, puedéis consultar referencias externas si queréis, ya sea tanto para ayudaros en la resolución como para ampliar el conocimiento!\n",
    "\n",
    "En cuanto a la consulta de documentación externa en la resolución de los ejercicios, recordad **citar siempre la bibliografía utilizada** para resolver cada actividad.\n",
    "\n",
    "---"
   ]
  },
  {
   "cell_type": "markdown",
   "metadata": {},
   "source": [
    "## Ejercicios para la PEC\n",
    "\n",
    "A continuación encontraréis los ejercicios que se deben completar en esta PEC y que forman parte de la evaluación de esta unidad."
   ]
  },
  {
   "cell_type": "markdown",
   "metadata": {},
   "source": [
    "<span style=\"color: #1d17f4; padding: 3px; font-size: x-large\">NumPy - Ejercicios </span>"
   ]
  },
  {
   "cell_type": "markdown",
   "metadata": {},
   "source": [
    "### Ejercicio 1\n",
    "\n",
    "a) Crea y muestra por pantalla las matrices siguientes:\n",
    "\n",
    "- Una matriz A 3x3 que tenga valores del 1 al 9 ordenados por fila.\n",
    "- Una matriz B 3x3 llena de 1.\n",
    "- Una matriz C 3x2 con valores aleatorios (*random*).\n",
    "\n",
    "**(0.5 puntos)** <span style=\"font-family: Courier New; background-color: #82b74b; color: #000000; padding: 2px; \">NM</span>"
   ]
  },
  {
   "cell_type": "code",
   "execution_count": null,
   "metadata": {},
   "outputs": [],
   "source": [
    "# Respuesta"
   ]
  },
  {
   "cell_type": "markdown",
   "metadata": {},
   "source": [
    "b) A continuación, hemos intentado ejecutar el código siguiente con las matrices del apartado anterior, pero nos da error:\n",
    "- Suma de A y C\n",
    "- Multiplicación matricial entre C y A\n",
    "\n",
    "¿Por qué nos encontramos con esos errores? Razona la respuesta.**(0.5 puntos)** <span style=\"font-family: Courier New; background-color: #82b74b; color: #000000; padding: 2px; \">NM</span>"
   ]
  },
  {
   "cell_type": "code",
   "execution_count": 3,
   "metadata": {},
   "outputs": [
    {
     "ename": "ValueError",
     "evalue": "operands could not be broadcast together with shapes (3,3) (3,2) ",
     "output_type": "error",
     "traceback": [
      "\u001b[0;31m---------------------------------------------------------------------------\u001b[0m",
      "\u001b[0;31mValueError\u001b[0m                                Traceback (most recent call last)",
      "\u001b[0;32m<ipython-input-3-d312efa0379c>\u001b[0m in \u001b[0;36m<module>\u001b[0;34m\u001b[0m\n\u001b[1;32m      1\u001b[0m \u001b[0;31m# Suma de A y C\u001b[0m\u001b[0;34m\u001b[0m\u001b[0;34m\u001b[0m\u001b[0;34m\u001b[0m\u001b[0m\n\u001b[1;32m      2\u001b[0m \u001b[0;34m\u001b[0m\u001b[0m\n\u001b[0;32m----> 3\u001b[0;31m \u001b[0mmatSuma\u001b[0m \u001b[0;34m=\u001b[0m \u001b[0mA\u001b[0m \u001b[0;34m+\u001b[0m \u001b[0mC\u001b[0m\u001b[0;34m\u001b[0m\u001b[0;34m\u001b[0m\u001b[0m\n\u001b[0m",
      "\u001b[0;31mValueError\u001b[0m: operands could not be broadcast together with shapes (3,3) (3,2) "
     ]
    }
   ],
   "source": [
    "# Suma de A y C\n",
    "\n",
    "matSuma = A + C"
   ]
  },
  {
   "cell_type": "code",
   "execution_count": 4,
   "metadata": {},
   "outputs": [
    {
     "ename": "ValueError",
     "evalue": "shapes (3,2) and (3,3) not aligned: 2 (dim 1) != 3 (dim 0)",
     "output_type": "error",
     "traceback": [
      "\u001b[0;31m---------------------------------------------------------------------------\u001b[0m",
      "\u001b[0;31mValueError\u001b[0m                                Traceback (most recent call last)",
      "\u001b[0;32m<ipython-input-4-0dff880f9d20>\u001b[0m in \u001b[0;36m<module>\u001b[0;34m\u001b[0m\n\u001b[1;32m      1\u001b[0m \u001b[0;31m# Multiplicación matricial entre C y A\u001b[0m\u001b[0;34m\u001b[0m\u001b[0;34m\u001b[0m\u001b[0;34m\u001b[0m\u001b[0m\n\u001b[1;32m      2\u001b[0m \u001b[0;34m\u001b[0m\u001b[0m\n\u001b[0;32m----> 3\u001b[0;31m \u001b[0mmatMul\u001b[0m \u001b[0;34m=\u001b[0m \u001b[0mC\u001b[0m\u001b[0;34m.\u001b[0m\u001b[0mdot\u001b[0m\u001b[0;34m(\u001b[0m\u001b[0mA\u001b[0m\u001b[0;34m)\u001b[0m\u001b[0;34m\u001b[0m\u001b[0;34m\u001b[0m\u001b[0m\n\u001b[0m",
      "\u001b[0;31mValueError\u001b[0m: shapes (3,2) and (3,3) not aligned: 2 (dim 1) != 3 (dim 0)"
     ]
    }
   ],
   "source": [
    "# Multiplicación matricial entre C y A\n",
    "\n",
    "matMul = C.dot(A)"
   ]
  },
  {
   "cell_type": "code",
   "execution_count": 5,
   "metadata": {},
   "outputs": [],
   "source": [
    "# Respuesta"
   ]
  },
  {
   "cell_type": "markdown",
   "metadata": {},
   "source": [
    "### Ejercicio 2\n",
    "\n",
    "a) Crea un array de 10 elementos, que vaya de 0 a 20 (ambos incluidos), con un paso de 2 (es decir, 0, 2, 4, etc.). ¿Qué tamaño tiene ese array? Muestra el contenido del array y su tamaño por pantalla.  **(0.5 puntos)** <span style=\"font-family: Courier New; background-color: #82b74b; color: #000000; padding: 2px; \">NM</span>"
   ]
  },
  {
   "cell_type": "code",
   "execution_count": 6,
   "metadata": {},
   "outputs": [],
   "source": [
    "# Respuesta"
   ]
  },
  {
   "cell_type": "markdown",
   "metadata": {},
   "source": [
    "b) ¿Es posible reorganizar este array en una matriz 5x2? En caso de dar error, ¿qué podrías hacer para solucionarlo? Razona la respuesta. **(0.5 puntos)** <span style=\"font-family: Courier New; background-color: #82b74b; color: #000000; padding: 2px; \">NM</span>"
   ]
  },
  {
   "cell_type": "code",
   "execution_count": 8,
   "metadata": {},
   "outputs": [],
   "source": [
    "# Respuesta"
   ]
  },
  {
   "cell_type": "markdown",
   "metadata": {},
   "source": [
    "### Ejercicio 3\n",
    "\n",
    "Crea una matriz 10 x 10 con todos los elementos como 0. A continuación, pon los elementos de las diagonales con valor 1 (es decir, formando una cruz). Muestra gráficamente la matriz resultante mediante la función [imshow()](https://matplotlib.org/3.5.1/api/_as_gen/matplotlib.pyplot.imshow.html) de la llibrería Matplotlib. **(1 punto)** <span style=\"font-family: Courier New; background-color: #ffcc5c; color: #000000; padding: 3px; \">EG</span>\n",
    "\n",
    "**Nota**: Para resolver este ejercicio puede resultar útil explorar la función [fliplr](https://numpy.org/doc/stable/reference/generated/numpy.fliplr.html) de numpy. "
   ]
  },
  {
   "cell_type": "code",
   "execution_count": 10,
   "metadata": {},
   "outputs": [],
   "source": [
    "# Respuesta"
   ]
  },
  {
   "cell_type": "markdown",
   "metadata": {},
   "source": [
    "### Ejercicio 4\n",
    "\n",
    "a) Crea una matriz 4x5 y llena con muestras aleatorias a partir de una distribución normal estándar (es decir, con media 0 y desviación estándar 1). **(0.25 puntos)** <span style=\"font-family: Courier New; background-color: #ffcc5c; color: #000000; padding: 3px; \">EG</span>\n",
    "\n",
    "**Nota**: Para resolver este ejercicio, puede ser útil la función [random.normal](https://numpy.org/doc/stable/reference/random/generated/numpy.random.normal.html) de Numpy. "
   ]
  },
  {
   "cell_type": "code",
   "execution_count": 12,
   "metadata": {},
   "outputs": [],
   "source": [
    "# Respuesta"
   ]
  },
  {
   "cell_type": "markdown",
   "metadata": {},
   "source": [
    "b) Modifica los valores de la matriz M, siguiendo las siguientes indicaciones:\n",
    "- b.1) Multiplica todos los elementos de la matriz por 10 y conviértelos a integers.\n",
    "- b.2) Considerando la matriz modificada en el apartado anterior (b.1), M[i,j], on i, j corresponden a los índicss de las filas y columnas, los valores de cada posición `(i, j)` serán $i^{5} +3j$ para todo `i` par, y $7i-j^{2}$ para todo `i` impar. \n",
    "\n",
    "Muestra por pantalla la matriz original y las matrices modificadas (apartados b.1 y b.2).\n",
    "**(0.75 puntos)** <span style=\"font-family: Courier New; background-color: #82b74b; color: #000000; padding: 2px; \">NM</span>"
   ]
  },
  {
   "cell_type": "code",
   "execution_count": 14,
   "metadata": {},
   "outputs": [],
   "source": [
    "# Respuesta"
   ]
  },
  {
   "cell_type": "markdown",
   "metadata": {},
   "source": [
    "<br>\n",
    "<span style=\"color: #1d17f4; padding: 3px; font-size: x-large\">Matplotlib - Ejercicios </span>"
   ]
  },
  {
   "cell_type": "markdown",
   "metadata": {},
   "source": [
    "### Ejercicio 5\n",
    "\n",
    "En el código que tenemos a continuación, queríamos graficar una [Lemniscata de Bernoulli](https://ca.wikipedia.org/wiki/Lemniscata_de_Bernoulli), pero se nos han borrado algunos pedazos. Completa las partes de código que faltan para poder mostrar la gráfica teniendo en cuenta los siguientes elementos:\n",
    "- El valor de alfa es 1.\n",
    "- t debe ser un vector de 1000 elementos, con valores de 0 a 2pi.\n",
    "- La gráfica debe ser de color verde.\n",
    "\n",
    "**(0.5 puntos)** <span style=\"font-family: Courier New; background-color: #82b74b; color: #000000; padding: 2px; \">NM</span>"
   ]
  },
  {
   "cell_type": "code",
   "execution_count": null,
   "metadata": {},
   "outputs": [],
   "source": [
    "## Código a completar\n",
    "\n",
    "import numpy as np\n",
    "import matplotlib.pyplot as plt\n",
    "\n",
    "# Para completar\n",
    "alfa = \n",
    "t = np.linspace()\n",
    "\n",
    "# Definimos las ecuaciones\n",
    "x = alpha * np.sqrt(2) * np.cos(t) / (np.sin(t)**2 + 1)\n",
    "y = alpha * np.sqrt(2) * np.cos(t) * np.sin(t) / (np.sin(t)**2 + 1)\n",
    "\n",
    "# Para completar\n",
    "plt.plot()\n",
    "\n",
    "plt.show()"
   ]
  },
  {
   "cell_type": "code",
   "execution_count": null,
   "metadata": {},
   "outputs": [],
   "source": [
    "# Respuesta"
   ]
  },
  {
   "cell_type": "markdown",
   "metadata": {},
   "source": [
    "### Ejercicio 6\n",
    "\n",
    "Carga los datos del archivo `fruits.csv`, que puedes encontrar en la carpeta data, en forma de dataframe. Este conjunto de datos recopila información sobre las ventas mensuales de una empresa de frutas.\n",
    "\n",
    "a) Muestra un gráfico de líneas de puntos de las ventas totales (*Total*) por cada mes (los meses están numerados de 1 a 12). **(0.5 puntos)** <span style=\"font-family: Courier New; background-color: #ffcc5c; color: #000000; padding: 3px; \">EG</span>\n",
    "\n",
    "\n",
    "*Consideraciones:*\n",
    "\n",
    "* La línea debe ser verde con puntos (*dotted line*) de color rojo.\n",
    "* Se debe mostrar la leyenda en la parte inferior derecha.\n",
    "\n",
    "**Nota**: Para resolver este ejercicio puede ser útil explorar detalladamente los argumentos de la función [plot](https://matplotlib.org/stable/api/_as_gen/matplotlib.pyplot.plot.html) de Matplotlib. "
   ]
  },
  {
   "cell_type": "code",
   "execution_count": 17,
   "metadata": {},
   "outputs": [],
   "source": [
    "# Respuesta"
   ]
  },
  {
   "cell_type": "markdown",
   "metadata": {},
   "source": [
    "b) Muestra un gráfico circular (*pie chart*) con el número de frutas vendidas este año por producto en porcentaje. **(1 punto)** <span style=\"font-family: Courier New; background-color: #ffcc5c; color: #000000; padding: 3px; \">EG</span>\n",
    "\n",
    "\n",
    "*Consideraciones:*\n",
    "\n",
    "* Se debe incluir el porcentaje (%) de cada producto dentro de su respectivo espacio del gráfico.\n",
    "* Se debe mostrar la leyenda en la parte derecha. \n",
    "\n",
    "**Nota**: Para realizar este apartado, puedes consultar la documentación de la función [pie](https://matplotlib.org/stable/gallery/pie_and_polar_charts/pie_features.html) de matplotlib."
   ]
  },
  {
   "cell_type": "code",
   "execution_count": null,
   "metadata": {},
   "outputs": [],
   "source": [
    "# Respuesta"
   ]
  },
  {
   "cell_type": "markdown",
   "metadata": {},
   "source": [
    "<br>\n",
    "<span style=\"color: #1d17f4; padding: 3px; font-size: x-large\">Pandas - Ejercicios </span>"
   ]
  },
  {
   "cell_type": "markdown",
   "metadata": {},
   "source": [
    "### Ejercicio 7\n",
    "\n",
    "Carga los datos del archivo `michelin`, que puedes encontrar en la carpeta data, en un dataframe. Este conjunto de datos recoge a las estrellas Michelin de restaurantes de todo el mundo. Los datos con los que trabajaremos se han adaptado del dataset original que puedes encontrar en la web [Kaggle](https://www.kaggle.com/ngshiheng/michelin-guide-restaurants-2021).\n",
    "\n",
    "Muestra por pantalla las variables del dataset (nombre de las columnas) y el número de filas y columnas.\n",
    "\n",
    "**(0.5 puntos)** <span style=\"font-family: Courier New; background-color: #82b74b; color: #000000; padding: 3px; \">NM</span>"
   ]
  },
  {
   "cell_type": "code",
   "execution_count": null,
   "metadata": {},
   "outputs": [],
   "source": [
    "# Respuesta"
   ]
  },
  {
   "cell_type": "markdown",
   "metadata": {},
   "source": [
    "### Ejercicio 8\n",
    "\n",
    "a) Somos unos aficionados de la cocina y estamos planeando un viaje culinario. Si consideramos restaurantes con cualquier tipo de estrella (1, 2 y 3), ¿cuál es la ciudad con más restaurantes Michelin? **(0.5 puntos)** <span style=\"font-family: Courier New; background-color: #ffcc5c; color: #000000; padding: 3px; \">EG</span>\n",
    "\n",
    "**Nota**: Para resolver este ejercicio, y en los siguientes, puede ser de utilidad la función [aggregate](https://pandas.pydata.org/pandas-docs/stable/reference/api/pandas.DataFrame.aggregate.html) de pandas. Esta función nos permite aplicar diferentes funciones en una columna en un groupby."
   ]
  },
  {
   "cell_type": "code",
   "execution_count": 22,
   "metadata": {},
   "outputs": [],
   "source": [
    "# Respuesta"
   ]
  },
  {
   "cell_type": "markdown",
   "metadata": {},
   "source": [
    "b) Una vez encontrada esta ciudad, ¿cuál es el restaurante de 3 estrellas Michelin más caro de esta ciudad (*AvgPrice* mayor)? ¿Y el más barato (*AvgPrice* menor)?**(0.5 puntos)** <span style=\"font-family: Courier New; background-color: #82b74b; color: #000000; padding: 3px; \">NM</span>"
   ]
  },
  {
   "cell_type": "code",
   "execution_count": 24,
   "metadata": {},
   "outputs": [],
   "source": [
    "# Respuesta"
   ]
  },
  {
   "cell_type": "markdown",
   "metadata": {},
   "source": [
    "### Ejercicio 9\n",
    "\n",
    "a) Selecciona los restaurantes de Londres y responde a las siguientes preguntas:\n",
    "- ¿Cuántos restaurantes tienen 1, 2 y 3 estrellas?**(0.5 puntos)** <span style=\"font-family: Courier New; background-color: #82b74b; color: #000000; padding: 3px; \">NM</span>\n",
    "\n",
    "- Si nos fijamos sólo en los restaurantes de 2 estrellas, ¿qué tipo de cocina (columna *Cuisine*) predomina? **(0.5 puntos)** <span style=\"font-family: Courier New; background-color: #ffcc5c; color: #000000; padding: 3px; \">EG</span>\n",
    "\n",
    "**(1 punto)**"
   ]
  },
  {
   "cell_type": "code",
   "execution_count": 26,
   "metadata": {},
   "outputs": [],
   "source": [
    "# Respuesta"
   ]
  },
  {
   "cell_type": "markdown",
   "metadata": {},
   "source": [
    "b) Utiliza la función [plot()](https://pandas.pydata.org/docs/reference/api/pandas.DataFrame.plot.html) de Pandas para mostrar un gráfico de barras con la información de los tipos de cocina más frecuentes en los restaurantes de 2 estrellas Michelin en Londres.\n",
    "\n",
    "**Opcional**"
   ]
  },
  {
   "cell_type": "code",
   "execution_count": 28,
   "metadata": {},
   "outputs": [],
   "source": [
    "# Respuesta"
   ]
  },
  {
   "cell_type": "markdown",
   "metadata": {},
   "source": [
    "### Ejercicio 10\n",
    "\n",
    "a) Queremos estudiar los precios de los restaurantes **europeos**. Para ello, sigue los siguientes pasos:\n",
    "- Selecciona los restaurantes que tienen el Euro como moneda. **(0.25 puntos)** <span style=\"font-family: Courier New; background-color: #82b74b; color: #000000; padding: 3px; \">NM</span>\n",
    "- ¿Cuál es el precio medio de los restaurantes según las estrellas Michelin? **(0.25 puntos)** <span style=\"font-family: Courier New; background-color: #ffcc5c; color: #000000; padding: 3px; \">EG</span>\n",
    "\n",
    "**(0.5 puntos)** "
   ]
  },
  {
   "cell_type": "code",
   "execution_count": 30,
   "metadata": {},
   "outputs": [],
   "source": [
    "# Respuesta"
   ]
  },
  {
   "cell_type": "markdown",
   "metadata": {},
   "source": [
    "b) Para que nos sea más fácil organizar los restaurantes según el precio, queremos separarlos en **3 categorias**:\n",
    "- medium: si el precio es inferior a 150 euros.\n",
    "- expensive: si el precio es de entre 150 y 300 (ambos incluidos).\n",
    "- very expensive: si el precio es superior a 300.\n",
    "\n",
    "Crea una copia del dataframe original añadiendo una nueva columna que nos indicará por cada fila su categoría según el precio.\n",
    "\n",
    "Muestra por pantalla los nombres de los restaurantes que tienen la categoría `very expensive` de **París**.\n",
    "\n",
    "**(1 punto)** <span style=\"font-family: Courier New; background-color: #ffcc5c; color: #000000; padding: 3px; \">EG</span>"
   ]
  },
  {
   "cell_type": "code",
   "execution_count": 32,
   "metadata": {},
   "outputs": [],
   "source": [
    "# Respuesta"
   ]
  },
  {
   "cell_type": "markdown",
   "metadata": {},
   "source": [
    "<br>\n",
    "<span style=\"color: #1d17f4; padding: 3px; font-size: x-large\">Scipy - Ejercicio </span>"
   ]
  },
  {
   "cell_type": "markdown",
   "metadata": {},
   "source": [
    "### Ejercicio Opcional"
   ]
  },
  {
   "cell_type": "markdown",
   "metadata": {},
   "source": [
    "En álgebra lineal, una [matriz de Toeplitz](https://es.wikipedia.org/wiki/Matriz_de_Toeplitz), es una matriz en la que cada diagonal descendente de izquierda a derecha es constante.\n",
    "\n",
    "Construye, mediante la función [toeplitz](https://docs.scipy.org/doc/scipy-0.14.0/reference/generated/scipy.linalg.toeplitz.html) de Scipy, una matriz de Toeplitz que tenga la siguiente forma:\n",
    "\n",
    "$$\\begin{bmatrix} 1 & 4 & 6 & 8 \\\\ 3 & 1 & 4 & 6 \\\\  5 & 3 & 1 & 4  \\end{bmatrix}$$\n",
    "\n",
    "<span style=\"font-family: Courier New; background-color: #f2ae72; color: #000000; padding: 3px; \">EI</span> "
   ]
  },
  {
   "cell_type": "code",
   "execution_count": 35,
   "metadata": {},
   "outputs": [],
   "source": [
    "# Respuesta"
   ]
  }
 ],
 "metadata": {
  "kernelspec": {
   "display_name": "Python 3",
   "language": "python",
   "name": "python3"
  },
  "language_info": {
   "codemirror_mode": {
    "name": "ipython",
    "version": 3
   },
   "file_extension": ".py",
   "mimetype": "text/x-python",
   "name": "python",
   "nbconvert_exporter": "python",
   "pygments_lexer": "ipython3",
   "version": "3.8.5"
  }
 },
 "nbformat": 4,
 "nbformat_minor": 1
}
