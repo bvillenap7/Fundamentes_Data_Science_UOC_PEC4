{
 "metadata": {
  "name": "",
  "signature": "sha256:f5ffa9fea364fd003c7faab35dbc8b257ab72771132ab65fdaa81013e23b60c2"
 },
 "nbformat": 3,
 "nbformat_minor": 0,
 "worksheets": [
  {
   "cells": [
    {
     "cell_type": "heading",
     "level": 1,
     "metadata": {},
     "source": [
      "Programaci\u00f3n para *Data Science*"
     ]
    },
    {
     "cell_type": "markdown",
     "metadata": {},
     "source": [
      "Unidad 4: Librer\u00edas cient\u00edficas en Python\n",
      "------------------------------------------------------"
     ]
    },
    {
     "cell_type": "markdown",
     "metadata": {},
     "source": [
      "Esta Unidad se compone de 4 m\u00f3dulos: Matplotlib, Numpy, pandas y SciPy. A continuaci\u00f3n, os proponemos una serie de ejercicios a realizar para cada uno de estos m\u00f3dulos."
     ]
    },
    {
     "cell_type": "heading",
     "level": 2,
     "metadata": {},
     "source": [
      "Matplotlib - Ejercicios"
     ]
    },
    {
     "cell_type": "markdown",
     "metadata": {},
     "source": [
      "### Pregunta te\u00f3rica\n",
      "En el c\u00f3digo de ejemplo que pod\u00e9is encontrar aqu\u00ed (http://matplotlib.org/1.3.1/examples/mplot3d/lorenz_attractor.html), comentad una a una qu\u00e9 hace cada l\u00ednea. **(0.5 puntos)**"
     ]
    },
    {
     "cell_type": "markdown",
     "metadata": {},
     "source": [
      "#### Respuesta:"
     ]
    },
    {
     "cell_type": "markdown",
     "metadata": {},
     "source": [
      "### Ejercicio 1\n",
      "Representad en un \u00fanico gr\u00e1fico las funciones arcoseno y arcocoseno en el intervalo [-pi/4, pi/4]. **(0.5 puntos)**"
     ]
    },
    {
     "cell_type": "code",
     "collapsed": false,
     "input": [
      "# Respuesta"
     ],
     "language": "python",
     "metadata": {},
     "outputs": []
    },
    {
     "cell_type": "markdown",
     "metadata": {},
     "source": [
      "### Ejercicio 2\n",
      "Representad en un gr\u00e1fico 3D la funci\u00f3n *f(x,y) = cos(x) - sen(y)* en el intervalo [-2*pi, 2*pi]. **(0.5 puntos)**"
     ]
    },
    {
     "cell_type": "code",
     "collapsed": false,
     "input": [
      "# Respuesta"
     ],
     "language": "python",
     "metadata": {},
     "outputs": []
    },
    {
     "cell_type": "markdown",
     "metadata": {},
     "source": [
      "### Ejercicio 3\n",
      "Representad la funci\u00f3n que quer\u00e1is de la forma que consider\u00e9is. Sed creativos a la hora de escoger la funci\u00f3n que vay\u00e1is a representar y el intervalo de valores. **(0.5 puntos)**"
     ]
    },
    {
     "cell_type": "code",
     "collapsed": false,
     "input": [
      "# Respuesta"
     ],
     "language": "python",
     "metadata": {},
     "outputs": []
    },
    {
     "cell_type": "heading",
     "level": 2,
     "metadata": {},
     "source": [
      "NumPy - Ejercicios"
     ]
    },
    {
     "cell_type": "markdown",
     "metadata": {},
     "source": [
      "### Pregunta 1\n",
      "\u00bfC\u00f3mo se pueden ordenar los valores de una matriz bidimensional? \u00bfC\u00f3mo podemos ordenar por un determinado eje? Poned un ejemplo de c\u00f3mo ordenar una matriz bidimensional cualquiera. **(0.5 puntos)**"
     ]
    },
    {
     "cell_type": "markdown",
     "metadata": {},
     "source": [
      "#### Respuesta:"
     ]
    },
    {
     "cell_type": "markdown",
     "metadata": {},
     "source": [
      "### Pregunta 2\n",
      "\u00bfC\u00f3mo podemos comparar dos arrays de la misma dimensi\u00f3n? Poned un ejemplo. **(0.5 puntos)**"
     ]
    },
    {
     "cell_type": "markdown",
     "metadata": {},
     "source": [
      "#### Respuesta:"
     ]
    },
    {
     "cell_type": "markdown",
     "metadata": {},
     "source": [
      "### Pregunta 3\n",
      "\u00bfPara qu\u00e9 sirve la herramienta *f2py* incluida en la librer\u00eda NumPy? **(0.5 puntos)**"
     ]
    },
    {
     "cell_type": "markdown",
     "metadata": {},
     "source": [
      "#### Respuesta:"
     ]
    },
    {
     "cell_type": "markdown",
     "metadata": {},
     "source": [
      "### Ejercicio 1\n",
      "Cread una matriz de 8x8 que tenga un patr\u00f3n 0 (blancas) / 1 (negras) como si se tratara de un tablero de ajedrez. **(0.5 puntos)**"
     ]
    },
    {
     "cell_type": "code",
     "collapsed": false,
     "input": [
      "# Respuesta"
     ],
     "language": "python",
     "metadata": {},
     "outputs": []
    },
    {
     "cell_type": "markdown",
     "metadata": {},
     "source": [
      "### Ejercicio 2\n",
      "Cread dos matrices de tama\u00f1o 3x2 y 2x2 con n\u00fameros reales aleatorios y obtened la matriz resultado de multiplicar la primera por la segunda. **(0.5 puntos)**"
     ]
    },
    {
     "cell_type": "code",
     "collapsed": false,
     "input": [
      "# Respuesta"
     ],
     "language": "python",
     "metadata": {},
     "outputs": []
    },
    {
     "cell_type": "markdown",
     "metadata": {},
     "source": [
      "### Ejercicio 3\n",
      "Calculad la media y la desviaci\u00f3n est\u00e1ndar de un vector aleatorio de 100 posiciones. **(0.5 puntos)**"
     ]
    },
    {
     "cell_type": "code",
     "collapsed": false,
     "input": [
      "# Respuesta"
     ],
     "language": "python",
     "metadata": {},
     "outputs": []
    },
    {
     "cell_type": "markdown",
     "metadata": {},
     "source": [
      "### Ejercicio 4\n",
      "Evaluad las funciones coseno y seno en el intervalo [0,1] y con paso (resoluci\u00f3n) de 0.05 y guardadlas en dos _arrays_. **(0.5 puntos)**"
     ]
    },
    {
     "cell_type": "code",
     "collapsed": false,
     "input": [
      "# Respuesta"
     ],
     "language": "python",
     "metadata": {},
     "outputs": []
    },
    {
     "cell_type": "heading",
     "level": 2,
     "metadata": {},
     "source": [
      "pandas - Ejercicios"
     ]
    },
    {
     "cell_type": "markdown",
     "metadata": {},
     "source": [
      "### Ejercicio 1\n",
      "\n",
      "Cargad los datos del fichero `historical_projections.csv` en un _dataframe_. Este conjunto de datos recoge resultados hist\u00f3ricos (hasta 2015) sobre el [_draft_ de la NBA](https://en.wikipedia.org/wiki/NBA_draft) junto con valores probabil\u00edsticos extra\u00eddos de un modelo para predecir el \u00e9xito de los jugadores.\n",
      "\n",
      "Mostrad el n\u00famero de filas del _dataframe_ y las etiquetas de los ejes. **(0.5 puntos)**"
     ]
    },
    {
     "cell_type": "code",
     "collapsed": false,
     "input": [
      "# Respuesta"
     ],
     "language": "python",
     "metadata": {},
     "outputs": []
    },
    {
     "cell_type": "markdown",
     "metadata": {},
     "source": [
      "### Ejercicio 2\n",
      "\n",
      "Agrupad los datos cargados en el ejercicio 1 por a\u00f1os. Para cada a\u00f1o, mostrad el n\u00famero de jugadores que hay en el _draft_ y la media de la probabilidad de que un jugador sea una superestrella (la probabilidad se encuentra en la columna _Superstar_). **(0.5 puntos)**"
     ]
    },
    {
     "cell_type": "code",
     "collapsed": false,
     "input": [
      "# Respuesta"
     ],
     "language": "python",
     "metadata": {},
     "outputs": []
    },
    {
     "cell_type": "markdown",
     "metadata": {},
     "source": [
      "### Ejercicio 3\n",
      "\n",
      "Mostrad los datos de los jugadores que aparecen en el _draft_ de 2015 con un valor \u00abProjected SPM\u00bb superior a 0.2 y juegan o bien en la posici\u00f3n escolta (en ingl\u00e9s, _shooting guard_ o _SG_) o bien en la posici\u00f3n ala-p\u00edvot (en ingl\u00e9s, _power forward_ o _PF_). **(1 punto)**"
     ]
    },
    {
     "cell_type": "code",
     "collapsed": false,
     "input": [
      "# Respuesta"
     ],
     "language": "python",
     "metadata": {},
     "outputs": []
    },
    {
     "cell_type": "markdown",
     "metadata": {},
     "source": [
      "### Ejercicio 4\n",
      "\n",
      "Contad el n\u00famero de jugadores (diferentes) que aparecen en el _dataframe_ utilizando las funciones de la librer\u00eda pandas. \u00bfExisten jugadores que aparecen m\u00faltiples veces en el _dataframe_? **(0.5 puntos)**"
     ]
    },
    {
     "cell_type": "code",
     "collapsed": false,
     "input": [
      "# Respuesta"
     ],
     "language": "python",
     "metadata": {},
     "outputs": []
    },
    {
     "cell_type": "markdown",
     "metadata": {},
     "source": [
      "### Ejercicio 5\n",
      "\n",
      "A\u00f1adid una nueva columna al _dataframe_ con un valor booleano indicando si el jugador ser\u00e1 o no una superestrella. Considerad que un jugador ser\u00e1 una superestrella si la probabilidad de que lo sea es superior a 0.1. **(1 punto)**"
     ]
    },
    {
     "cell_type": "code",
     "collapsed": false,
     "input": [
      "# Respuesta"
     ],
     "language": "python",
     "metadata": {},
     "outputs": []
    },
    {
     "cell_type": "heading",
     "level": 2,
     "metadata": {},
     "source": [
      "SciPy - Ejercicios"
     ]
    },
    {
     "cell_type": "markdown",
     "metadata": {},
     "source": [
      "A continuaci\u00f3n ten\u00e9is el \u00fanico ejercicio que deb\u00e9is resolver en esta parte del m\u00f3dulo. Dada la especificidad de los algoritmos que se implementan en la librer\u00eda SciPy, hemos seleccionado un problema m\u00e1s simple que los mostrados como ejemplo."
     ]
    },
    {
     "cell_type": "markdown",
     "metadata": {},
     "source": [
      "### Ejercicio 1: Ajustar una distribuci\u00f3n\n",
      "\n",
      "La variable data contiene 1000 muestras aleatorias de una [distribuci\u00f3n normal](https://en.wikipedia.org/wiki/Normal_distribution):"
     ]
    },
    {
     "cell_type": "code",
     "collapsed": false,
     "input": [
      "from scipy.stats import norm\n",
      "\n",
      "data = norm.rvs(5, 2, size=1000)"
     ],
     "language": "python",
     "metadata": {},
     "outputs": [],
     "prompt_number": 2
    },
    {
     "cell_type": "markdown",
     "metadata": {},
     "source": [
      "Mostrad un histograma con las muestras de data, ajustad una distribuci\u00f3n normal a las muestras y mostrad la funci\u00f3n de densidad de probabilidad de la distribuci\u00f3n ajustada. **(1 punto)**\n",
      "\n",
      "Pista: Pod\u00e9is utilizar la funci\u00f3n fit de [scipy.stats.norm](https://docs.scipy.org/doc/scipy/reference/generated/scipy.stats.norm.html)."
     ]
    },
    {
     "cell_type": "code",
     "collapsed": false,
     "input": [
      "# Respuesta"
     ],
     "language": "python",
     "metadata": {},
     "outputs": []
    }
   ],
   "metadata": {}
  }
 ]
}