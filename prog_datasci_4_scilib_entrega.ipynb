{
 "cells": [
  {
   "cell_type": "markdown",
   "metadata": {},
   "source": [
    "<div style=\"width: 100%; clear: both;\">\n",
    "    <div style=\"float: left; width: 50%;\">\n",
    "       <img src=\"http://www.uoc.edu/portal/_resources/common/imatges/marca_UOC/UOC_Masterbrand.jpg\", align=\"left\">\n",
    "    </div>\n",
    "</div>\n",
    "\n",
    "<div style=\"float: right; width: 50%;\">\n",
    "    <p style=\"margin: 0; padding-top: 22px; text-align:right;\">22.401 · Fundamentos de Programación</p>\n",
    "    <p style=\"margin: 0; text-align:right;\">Grado en Ciencia de Datos Aplicada</p>\n",
    "    <p style=\"margin: 0; text-align:right; padding-button: 100px;\">Estudios de Informática, Multimedia y Telecomunicación</p>\n",
    "</div>\n",
    "\n",
    "</div>\n",
    "<div style=\"width: 100%; clear: both;\">\n",
    "<div style=\"width:100%;\">&nbsp;</div>"
   ]
  },
  {
   "cell_type": "markdown",
   "metadata": {},
   "source": [
    "Fundamentos de Programación\n",
    "============================\n",
    "\n",
    "PEC 4 - Enunciado\n",
    "-----------------------------------------------------\n",
    "\n",
    "En este Notebook se encontraréis el conjunto de actividades evaluables como PEC de la asignatura. Veréis que cada una de ellas tiene asociada una puntuación, que indica el peso que tiene la actividad sobre la nota final de la PEC. Adicionalmente, hay un ejercicio opcional, que no tiene puntuación dentro de la PEC, pero que se valora al final del semestre de cara a conceder las matrículas de honor y redondear las notas finales. Podréis sacar la máxima nota de la PAC sin necesidad de hacer este ejercicio. El objetivo de este ejercicio es que sirva como pequeño reto para los estudiantes que quieran profundizar en el contenido de la asignatura.\n",
    "\n",
    "Veréis que todas las actividades de la PEC tienen una etiqueta, que indica los recursos necesarios para llevarla a cabo. Hay tres posibles etiquetas:\n",
    "\n",
    "* <span style=\"font-family: Courier New; background-color: #82b74b; color: #000000; padding: 3px; \">NM</span> **Sólo materiales**: las herramientas necesarias para realizar la actividad se pueden encontrar en los materiales de la asignatura.\n",
    "\n",
    "* <span style = \"font-family: Courier New; background-color: #ffcc5c; color: #000000; padding: 3px; \">EG</span> **Consulta externa guiada**: la actividad puede requerir hacer uso de herramientas que no se encuentran en los materiales de la asignatura, pero el enunciado contiene indicaciones de dónde o cómo encontrar la información adicional necesaria para resolver la actividad.\n",
    "\n",
    "* <span style = \"font-family: Courier New; background-color: #f2ae72; color: #000000; padding: 3px;\">EI</span> **Consulta externa independiente**: la actividad puede requerir hacer uso de herramientas que no se encuentran en los materiales de la asignatura, y el enunciado puede no incluir la descripción de dónde o cómo encontrar esta información adicional. Será necesario que el estudiante busque esta información utilizando los recursos que se han explicado en la asignatura.\n",
    "\n",
    "Es importante notar que estas etiquetas no indican el nivel de dificultad del ejercicio, sino únicamente la necesidad de consulta de documentación externa para su resolución. Además, recordad que las **etiquetas son informativas**, pero podréis consultar referencias externas en cualquier momento (aunque no se indique explícitamente) o puede ser que podáis hacer una actividad sin consultar ningún tipo de documentación. Por ejemplo, para resolver una actividad que sólo requiera los materiales de la asignatura, puedéis consultar referencias externas si queréis, ya sea tanto para ayudaros en la resolución como para ampliar el conocimiento!\n",
    "\n",
    "En cuanto a la consulta de documentación externa en la resolución de los ejercicios, recordad **citar siempre la bibliografía utilizada** para resolver cada actividad.\n",
    "\n",
    "---"
   ]
  },
  {
   "cell_type": "markdown",
   "metadata": {},
   "source": [
    "Ejercicios para la PEC\n",
    "-------------------------------"
   ]
  },
  {
   "cell_type": "markdown",
   "metadata": {},
   "source": [
    "<span style=\"color: #1d17f4; padding: 3px; font-size: x-large\">NumPy - Ejercicios</span>"
   ]
  },
  {
   "cell_type": "markdown",
   "metadata": {},
   "source": [
    "### Ejercicio 1\n",
    "\n",
    "Crea y muestra por pantalla las matrices siguientes:\n",
    "\n",
    "- Una matriz A 4x4 que contenga todos los números pares entre 0 y 31.\n",
    "- Una matriz B 3x4 que contenga valores enteros aleatorios entre 0 y 100 ordenados de mayor a menor por columna.\n",
    "- Una matriz C 4x4 donde las dos primeras filas de la matriz C corresponden a las dos primeras columnas de la matriz A transpuestas y las dos últimas filas de la matriz C corresponden a las dos últimas filas de la matriz B.\n",
    "\n",
    "**(0.5 puntos)** <span style=\"font-family: Courier New; background-color: #82b74b; color: #000000; padding: 2px; \">NM</span>"
   ]
  },
  {
   "cell_type": "code",
   "execution_count": null,
   "metadata": {},
   "outputs": [],
   "source": [
    "# Respuesta"
   ]
  },
  {
   "cell_type": "markdown",
   "metadata": {},
   "source": [
    "### Ejercicio 2\n",
    "\n",
    "Considerando las matrices del apartado anterior, muestra por pantalla el resultado de las siguientes operaciones:\n",
    "\n",
    "- Permutación de las filas por columnas de la matriz B. ¿Cuáles son las dimensiones de la matriz permutada?\n",
    "- Producto matricial de A por B transpuesta. Explique brevemente si se puede realizar el producto matricial de A por B.\n",
    "- El determinante de C. Muestra por pantalla el resultado sin decimales.\n",
    "\n",
    "\n",
    "**(0.5 puntos)** <span style=\"font-family: Courier New; background-color: #82b74b; color: #000000; padding: 2px; \">NM</span>"
   ]
  },
  {
   "cell_type": "code",
   "execution_count": null,
   "metadata": {},
   "outputs": [],
   "source": [
    "# Respuesta"
   ]
  },
  {
   "cell_type": "markdown",
   "metadata": {},
   "source": [
    "### Ejercicio 3\n",
    "\n",
    "Crea una matriz de 5x5 y rellena con muestras aleatorias a partir de una distribución gama considerando que el factor de escala es 3 y el factor de forma es 2.\n",
    "**(0.5 puntos)** <span style=\"font-family: Courier New; background-color: #ffcc5c; color: #000000; padding: 3px; \">EG</span>\n",
    "\n",
    "**Nota**: Para resolver este ejercicio puede ser de utilidad la función [random](https://numpy.org/doc/1.16/reference/routines.random.html)."
   ]
  },
  {
   "cell_type": "code",
   "execution_count": null,
   "metadata": {},
   "outputs": [],
   "source": [
    "# Respuesta"
   ]
  },
  {
   "cell_type": "markdown",
   "metadata": {},
   "source": [
    "### Ejercicio 4\n",
    "\n",
    "Crea una matriz de 5x5 donde los valores de cada posición `(i,j)`corresponden a `i^(j+1)` para todo `i`primo, y `i+j^2` para el resto de posiciones. **(1 punto)** <span style=\"font-family: Courier New; background-color: #ffcc5c; color: #000000; padding: 3px; \">EG</span> \n",
    "\n",
    "**Nota**: Para resolver este ejercicio puede ser de utilidad la instrucción *break*.\n"
   ]
  },
  {
   "cell_type": "code",
   "execution_count": null,
   "metadata": {},
   "outputs": [],
   "source": [
    "# Respuesta"
   ]
  },
  {
   "cell_type": "markdown",
   "metadata": {},
   "source": [
    "### Ejercicio 5\n",
    "\n",
    "Crea una matriz 10x10 con 0 la diagonal principal y la opuesta y el resto de valores 1, se tiene que obtener una X. Comprueba el resultado visualmente con la función [imshow](https://matplotlib.org/3.1.3/api/_as_gen/matplotlib.pyplot.imshow.html) de Matplotlib que nos permite visualizar una imagen 2D. **(1 punto)** <span style=\"font-family: Courier New; background-color: #ffcc5c; color: #000000; padding: 3px; \">EG</span>\n",
    "\n",
    "**Nota**: Para resolver este ejercicio puede ser de utilidad la función [fill_diagonal](https://numpy.org/doc/stable/reference/generated/numpy.fill_diagonal.html)."
   ]
  },
  {
   "cell_type": "code",
   "execution_count": null,
   "metadata": {},
   "outputs": [],
   "source": [
    "# Respuesta"
   ]
  },
  {
   "cell_type": "markdown",
   "metadata": {},
   "source": [
    "<br>\n",
    "<span style=\"color: #1d17f4; padding: 3px; font-size: x-large\">Matplotlib - Ejercicios</span>"
   ]
  },
  {
   "cell_type": "markdown",
   "metadata": {},
   "source": [
    "### Ejercicio 1\n",
    "\n",
    "Representa en un único gráfico las funciones [hiperbólicas](https://ast.wikipedia.org/wiki/Función_hiperbólica) $\\sinh(x)$, $\\cosh(x)$ y $\\tanh(x)$, evaluadas en el intervalo [-5, 5] y con paso (resolución) 0.01. Haz que los rangos de valores mostrados sean `[-5, 5]` para el eje X y `[-3, 3]` por el eje Y. Adicionalmente, muestra la gráfica correspondiente a $\\sinh(x)$ con color <span style=\"color: green\">verde</span>, la gráfica correspondiente a $\\cosh(x)$ con color <span style=\"color: red\">rojo</span> y la gráfica correspondiente a $\\tanh(x)$ con color <span style=\"color: blue\">azul</span>. Se tiene que mostrar la llegenda en la parte superior derecha.\n",
    "\n",
    "\n",
    "**Nota:** Podéis consultar la documentación de funciones matemáticas de [numpy](https://numpy.org/doc/stable/reference/routines.math.html)\n",
    "\n",
    "**(1 punto)** <span style=\"font-family: Courier New; background-color: #82b74b; color: #000000; padding: 2px; \">NM</span>"
   ]
  },
  {
   "cell_type": "code",
   "execution_count": 8,
   "metadata": {},
   "outputs": [],
   "source": [
    "# Definimos las funciones\n",
    "def f1(x):\n",
    "    return np.sinh(x)\n",
    "\n",
    "\n",
    "def f2(x):\n",
    "    return np.cosh(x)\n",
    "\n",
    "\n",
    "def f3(x):\n",
    "    return np.tanh(x)"
   ]
  },
  {
   "cell_type": "code",
   "execution_count": null,
   "metadata": {},
   "outputs": [],
   "source": [
    "# Respuesta"
   ]
  },
  {
   "cell_type": "markdown",
   "metadata": {},
   "source": [
    "### Ejercicio 2\n",
    "\n",
    "Carga los datos del archivo `VideoGamesSales`, que puedes encontrar en la carpeta `data`, en forma de dataframe. Este conjunto de datos de la web [Kaggle](https://www.kaggle.com/rush4ratio/video-game-sales-with-ratings) recoge información de más de 6000 videojuegos.\n",
    "\n",
    "\n",
    "Parte A **(1 punto)** : \n",
    "\n",
    "¿Qué tipo de juego tiene más unidades a la venta y para qué plataforma? Responda la pregunta gráficamente. La visualización del gráfico debe ser óptima (leyenda, etiquetas en los ejes, ...).\n",
    "\n",
    "Parte B **(0.5 puntos)** :\n",
    "\n",
    "Muestra un gráfico de líneas de puntos de las ventas por año. Se debe generar una línea para cada mercado reportado en el dataset: América del Norte (NA), Europa (EU), Japón (JP), otros (Other) y Global. ¿Qué mercado contribuye más a las ventas Global de videojuegos?\n",
    "\n",
    "\n",
    "*Consideraciones*\n",
    "\n",
    "* La línea debe ser con puntos (*dotted line*) de diferentes colores según mercado y de tamaño 2.\n",
    "\n",
    "* Se debe mostrar la leyenda en la parte superior izquierda.\n",
    "\n",
    "**(1.5 puntos)** <span style=\"font-family: Courier New; background-color: #ffcc5c; color: #000000; padding: 3px; \">EG</span>"
   ]
  },
  {
   "cell_type": "code",
   "execution_count": null,
   "metadata": {},
   "outputs": [],
   "source": [
    "# Respuesta"
   ]
  },
  {
   "cell_type": "markdown",
   "metadata": {},
   "source": [
    "<br>\n",
    "<span style=\"color: #1d17f4; padding: 3px; font-size: x-large\">pandas - Ejercicios</span>"
   ]
  },
  {
   "cell_type": "markdown",
   "metadata": {},
   "source": [
    "### Ejercicio 1\n",
    "\n",
    "Carga los datos del archivo `clinvar_conflicting.csv`, que puedes encontrar en la carpeta `data`, en un _dataframe_. Esto conjunto de datos es un subconjunto del que encontraréis en la web [Kaggle](https://www.kaggle.com/kevinarvai/clinvar-conflicting). Este conjunto de datos recoge información relacionada con variantes genéticas según la base de datos [Clinvar](https://www.ncbi.nlm.nih.gov/clinvar/). \n",
    "\n",
    "Muestra por pantalla las variables del dataset, el número de filas y columnas. \n",
    "\n",
    "**(0.5 puntos)** <span style=\"font-family: Courier New; background-color: #82b74b; color: #000000; padding: 3px; \">NM</span>"
   ]
  },
  {
   "cell_type": "code",
   "execution_count": null,
   "metadata": {},
   "outputs": [],
   "source": [
    "# Respuesta"
   ]
  },
  {
   "cell_type": "markdown",
   "metadata": {},
   "source": [
    "### Ejercicio 2\n",
    "\n",
    "La variable *IMPACT* es una categorización del posible impacto de la variante en la síntesis de la proteína. Muestra las diferentes categorías de la variable *IMPACT*. Para cada cromosoma, agrupa el número de variantes según impacto. Muestra el resultado de mayor a menor según la categoría *HIGH* de la variable *IMPACT*.**(0.5 puntos)** <span style=\"font-family: Courier New; background-color: #82b74b; color: #000000; padding: 3px; \">NM</span>\n"
   ]
  },
  {
   "cell_type": "code",
   "execution_count": null,
   "metadata": {},
   "outputs": [],
   "source": [
    "# Respuesta"
   ]
  },
  {
   "cell_type": "markdown",
   "metadata": {},
   "source": [
    "### Ejercicio 3\n",
    "\n",
    "A continuación nos centraremos con las variantes del chr11 y de impacto *High*.\n",
    "\n",
    "- Crea un nuevo dataset con sólo estos datos. Muestra por pantalla las 5 primeras líneas.\n",
    "- Muestra los genes (*SYMBOL*) y el número de variantes con un alto impacto sobre la proteína en el chr11. ¿Cuál es el gen con más variantes?\n",
    "- Toda variante se define por su base de referencia (*REF*) y su correspondiente cambio (*ALT*). Para más información puede consultar el siguiente [enlace](https://en.wikipedia.org/wiki/Variant_Call_Format). Utilizando el dataset generado para las variantes con alto impacto en el chr11. Determine el cambio (*ALT*) que tiene una longitud mayor para el gen *ATM* y su correspondiente longitud.\n",
    "\n",
    "**(1 punto)** <span style=\"font-family: Courier New; background-color: #82b74b; color: #000000; padding: 3px; \">NM</span>"
   ]
  },
  {
   "cell_type": "code",
   "execution_count": null,
   "metadata": {},
   "outputs": [],
   "source": [
    "# Respuesta"
   ]
  },
  {
   "cell_type": "markdown",
   "metadata": {},
   "source": [
    "### Ejercicio 4\n",
    "\n",
    "Las enfermedades [minoritarias](https://www.malaltiesminoritaries.org/portal1/M_item-detail.asp?tipo_id=301&contentid=633#Malalties) son un conjunto muy amplio y heterogéneo de enfermedades, generalmente, monogénicas. Son enfermedades graves, crónicas y degenerativas. La frecuencia de una enfermedad minoritaria es menor a un caso por cada 1000 habitantes. Considerando esta premisa y el dataset original, realiza las siguientes tareas:\n",
    "   \n",
    "   - Crea una nueva columna con un valor booleano para indicar si la variante tiene una frecuencia (*AF_EXAC*) inferior al 0.001. (True si es inferior o igual a 0.001 y False si es superior). Muestra por pantalla las primeras 10 líneas.\n",
    " \n",
    "   - Si asumimos que sólo aquellas variantes con frecuencias (*AF_EXAC*) inferiores a 0.001 pueden ser putativas de ser la causa de una enfermedad minoritaria y, por tanto, tener un impacto alto sobre la proteína. ¿Cuántas variantes con una frecuencia inferior a 0.001 tienen un impacto alto a la síntesis de la proteína? Muestra en un gráfico circular (*pie chart*) el número de variantes por categoría *IMPACT* en el conjunto de variantes con frecuencias inferiores o igual a 0.001.\n",
    "   \n",
    "*Consideraciones:*\n",
    "\n",
    "   * Se debe incluir el porcentaje (%) de cada categoría de Impacto dentro de su respectivo espacio del gráfico.\n",
    "   * Se debe mostrar la leyenda en la parte derecha.\n",
    "  \n",
    "**(1 punto)** <span style=\"font-family: Courier New; background-color: #82b74b; color: #000000; padding: 3px; \">NM</span>"
   ]
  },
  {
   "cell_type": "code",
   "execution_count": null,
   "metadata": {},
   "outputs": [],
   "source": [
    "# Respuesta"
   ]
  },
  {
   "cell_type": "markdown",
   "metadata": {},
   "source": [
    "<br>\n",
    "<span style=\"color: #1d17f4; padding: 3px; font-size: x-large\">SciPy - Ejercicio</span>"
   ]
  },
  {
   "cell_type": "markdown",
   "metadata": {},
   "source": [
    "### Ejercicio 1\n",
    "\n",
    "\n",
    "Resuelve numéricamente la siguiente integral triple definida.\n",
    "\n",
    "$$\\int_{z=0}^{z=5} \\int_{y=0}^{y=2} \\int_{x=0}^{x=3} {x^2}y (\\cos({\\pi*z})+2)) dxdydz$$            \n",
    "\n",
    "**Nota**: Podéis utilitzar la llibrería [integrate](https://docs.scipy.org/doc/scipy/reference/integrate.html#module-scipy.integrate)\n",
    "**(1 punto)** <span style=\"font-family: Courier New; background-color: #ffcc5c; color: #000000; padding: 3px; \">EG</span>"
   ]
  },
  {
   "cell_type": "code",
   "execution_count": null,
   "metadata": {},
   "outputs": [],
   "source": [
    "# Respuesta"
   ]
  },
  {
   "cell_type": "markdown",
   "metadata": {},
   "source": [
    "---"
   ]
  },
  {
   "cell_type": "markdown",
   "metadata": {},
   "source": [
    "### Ejercicio Opcional\n",
    "\n",
    "Realiza el ejercicio 1.A  de *Matplotlib* utilizando la función heatmap de la librería Seaborn. Los ejes deben mostrar los nombres de las etiquetas, debéis incluir la leyenda, el valor absoluto de cada tipo de juego dentro de su respectivo espacio del gráfico y la paleta de colores debe ser \"YlGnBu\". La visualización del heatmap debe permitir leer el valor de cada tipo de juego."
   ]
  },
  {
   "cell_type": "code",
   "execution_count": 1,
   "metadata": {},
   "outputs": [],
   "source": [
    "# Respuesta"
   ]
  },
  {
   "cell_type": "markdown",
   "metadata": {},
   "source": [
    "---"
   ]
  }
 ],
 "metadata": {
  "kernelspec": {
   "display_name": "Python 3",
   "language": "python",
   "name": "python3"
  },
  "language_info": {
   "codemirror_mode": {
    "name": "ipython",
    "version": 3
   },
   "file_extension": ".py",
   "mimetype": "text/x-python",
   "name": "python",
   "nbconvert_exporter": "python",
   "pygments_lexer": "ipython3",
   "version": "3.8.5"
  }
 },
 "nbformat": 4,
 "nbformat_minor": 1
}
