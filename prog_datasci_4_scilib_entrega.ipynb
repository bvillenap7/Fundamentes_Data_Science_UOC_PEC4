{
 "cells": [
  {
   "cell_type": "markdown",
   "metadata": {},
   "source": [
    "Programación para *Data Science*\n",
    "============================\n",
    "\n",
    "Unidad 4: Librerías científicas en Python\n",
    "--------------------------------------\n",
    "\n",
    "\n",
    "En este Notebook encontraréis dos conjuntos de ejercicios: un primer conjunto de **ejercicios para practicar** y un segundo conjunto de **actividades evaluables** como PEC de la asignatura.\n",
    "\n",
    "En cuanto al conjunto de ejercicios para practicar, éstos no puntúan para la PEC, pero os recomendamos que los intentéis resolver como parte del proceso de aprendizaje. Encontraréis ejemplos de posibles soluciones a los ejercicios al propio notebook, pero es importante que intentéis resolverlos vosotros antes de consultar las soluciones. Las soluciones os permitirán validar vuestras respuestas, así como ver alternativas de resolución de las actividades. También os animamos a preguntar cualquier duda que surja sobre la resolución de los **ejercicios para practicar** en el foro del aula.\n",
    "\n",
    "En relación a las actividades evaluables, veréis que cada una de ellas tiene asociada una puntuación que indica el peso que tiene la actividad sobre la nota de la PEC. Adicionalmente, hay un ejercicio opcional, que no tiene puntuación dentro de la PEC, pero que se valora al final del semestre de cara a conceder las matrículas de honor y redondear las notas finales. Podéis sacar la máxima nota de la PEC sin necesidad de hacer este ejercicio! El objetivo de este ejercicio es que sirva como pequeño reto para los estudiantes que quieran profundizar en el contenido de la asignatura.\n",
    "\n",
    "Además, veréis que todas las actividades tienen una etiqueta que indica los recursos necesarios para llevarla a cabo. Hay tres posibles etiquetas:\n",
    "\n",
    "* <span style=\"font-family: Courier New; background-color: #82b74b; color: #000000; padding: 3px; \">NM</span> **Sólo materiales**: las herramientas necesarias para realizar la actividad se pueden encontrar en los materiales de la asignatura. \n",
    "\n",
    "* <span style=\"font-family: Courier New; background-color: #ffcc5c; color: #000000; padding: 3px; \">EG</span> **Consulta externa guiada**: la actividad puede requerir hacer uso de herramientas que no se encuentran en los materiales de la asignatura, pero el enunciado contiene indicaciones de dónde o cómo encontrar la información adicional necesaria para resolver la actividad.\n",
    "\n",
    "* <span style=\"font-family: Courier New; background-color: #f2ae72; color: #000000; padding: 3px; \">EI</span> **Consulta externa independente**: la actividad puede requerir hacer uso de herramientas que no se encuentran en los materiales de la asignatura, y el enunciado puede no incluir la descripción de dónde o cómo encontrar esta información adicional. Será necesario que el estudiante busque esta información utilizando los recursos que se han explicado en la asignatura.\n",
    "\n",
    "Es importante notar que estas etiquetas no indican el nivel de dificultad del ejercicio, sino únicamente la necesidad de consulta de documentación externa para su resolución. Además, recordad que las **etiquetas son informativas**, pero podréis consultar referencias externas en cualquier momento (aunque no se indique explícitamente) o puede ser que podáis hacer una actividad sin consultar ningún tipo de documentación. Por ejemplo, para resolver una actividad que sólo requiera los materiales de la asignatura, puedéis consultar referencias externas si queréis, ya sea tanto para ayudaros en la resolución como para ampliar el conocimiento!\n",
    "\n",
    "En cuanto a la consulta de documentación externa en la resolución de los ejercicios, recordad **citar siempre la bibliografía utilizada** para resolver cada actividad."
   ]
  },
  {
   "cell_type": "markdown",
   "metadata": {},
   "source": [
    "---"
   ]
  },
  {
   "cell_type": "markdown",
   "metadata": {},
   "source": [
    "## Ejercicios para practicar\n",
    "\n",
    "**Los siguientes 3 ejercicios no puntúan para la PEC**, pero os recomendamos que los intentéis resolver antes de pasar a los ejercicios propios de la PEC. También encontraréis las soluciones a estos ejercicios al final del Notebook."
   ]
  },
  {
   "cell_type": "markdown",
   "metadata": {},
   "source": [
    "### Ejercicio 1\n",
    "\n",
    "Definid una función que dadas dos matrices, devuelva el valor absoluto de la multiplicación de los determinantes ambas, es decir, dadas A y B, nuestra función devolverá `|det(A) * det(B)|`. \n",
    "\n",
    "**Nota:** Podéis consultar la documentación del módulo [linalg](https://docs.scipy.org/doc/numpy-1.15.0/reference/routines.linalg.html) para resolver este ejercicio. \n",
    "\n",
    "<span style=\"font-family: Courier New; background-color: #ffcc5c; color: #000000; padding: 3px; \">EG</span>"
   ]
  },
  {
   "cell_type": "code",
   "execution_count": null,
   "metadata": {},
   "outputs": [],
   "source": [
    "# Respuesta"
   ]
  },
  {
   "cell_type": "markdown",
   "metadata": {},
   "source": [
    "### Ejercicio 2 \n",
    "\n",
    "Cread una matriz 10x10 que corresponda con la [matriz identidad](https://es.wikipedia.org/wiki/Matriz_identidad) usando generadores básicos de arrays. Cread una matriz identidad 10x10 (esta vez usando generadores especificos de matrices identidad) y comprobad que ambas matrices son iguales. \n",
    "\n",
    "**Consideraciones:**\n",
    "\n",
    "- La primera matriz debe crearse usando constructores básicos de arrays, como los presentados en los Notebooks de teoría.\n",
    "- La segunda matriz debe generarse utilizando el generador de matrices identidad de numpy.\n",
    "- La comparación debe devolver True si las matrices son iguales (un único True), False de no ser así.\n",
    "\n",
    "**Nota:** Podéis consultar la documentación sobre [creación de matrices](https://docs.scipy.org/doc/numpy-1.15.1/reference/routines.array-creation.html) de Numpy para resolver este ejercicio.\n",
    "\n",
    "<span style=\"font-family: Courier New; background-color: #ffcc5c; color: #000000; padding: 3px; \">EG</span>"
   ]
  },
  {
   "cell_type": "code",
   "execution_count": null,
   "metadata": {},
   "outputs": [],
   "source": [
    "# Respuesta"
   ]
  },
  {
   "cell_type": "markdown",
   "metadata": {},
   "source": [
    "### Ejercicio 3\n",
    "\n",
    "Representad en un único gráfico las funciones f1 y f2 definidas más abajo, evaluadas en el intervalo [0, 7] y con paso (resolución) 0.1. <span style=\"font-family: Courier New; background-color: #82b74b; color: #000000; padding: 3px; \">NM</span>"
   ]
  },
  {
   "cell_type": "code",
   "execution_count": null,
   "metadata": {},
   "outputs": [],
   "source": [
    "import numpy as np\n",
    "\n",
    "def f1(x):\n",
    "    return np.power(x, 2)\n",
    "\n",
    "def f2(x):\n",
    "    return np.power(2,x)"
   ]
  },
  {
   "cell_type": "code",
   "execution_count": null,
   "metadata": {},
   "outputs": [],
   "source": [
    "# Respuesta"
   ]
  },
  {
   "cell_type": "markdown",
   "metadata": {},
   "source": [
    "---"
   ]
  },
  {
   "cell_type": "markdown",
   "metadata": {},
   "source": [
    "## Ejercicios y preguntas teóricas para la PEC\n",
    "\n",
    "A continuación, encontraréis los **ejercicios y preguntas teóricas que debéis completar en esta PEC** y que forman parte de la evaluación de esta unidad."
   ]
  },
  {
   "cell_type": "markdown",
   "metadata": {},
   "source": [
    "<span style=\"color: #1d17f4; padding: 3px; font-size: x-large\">NumPy - Ejercicios</span>"
   ]
  },
  {
   "cell_type": "markdown",
   "metadata": {},
   "source": [
    "### Ejercicio 1\n",
    "\n",
    "Cread dos matrices, A y B, de mida 5x5 con números enteros aleatorios entre 1 y 10. A continuación cread una tercera matriz, C, de mida 2x5 a partir de la última fila de la matriz A y la primera fila de la matriz B: la primera fila de la matriz C será la última de la matriz A, y la segunda fila de la matriz C será la primera fila de la matriz B. Mostrad por pantalla el resultado obtenido.\n",
    "\n",
    "**(0.5 punts)** <span style=\"font-family: Courier New; background-color: #82b74b; color: #000000; padding: 2px; \">NM</span>"
   ]
  },
  {
   "cell_type": "code",
   "execution_count": null,
   "metadata": {},
   "outputs": [],
   "source": [
    "# Respuesta"
   ]
  },
  {
   "cell_type": "markdown",
   "metadata": {},
   "source": [
    "### Ejercicio 2\n",
    "\n",
    "Dadas las matrices A y B del ejercicio anterior, mostrad por pantalla el resultado de las siguientes operaciones:\n",
    "\n",
    "* Sumar las dos matrices\n",
    "* Restar la matriz B de la matriz A\n",
    "* Multiplicar las dos matrices\n",
    "\n",
    "Explicad brevemente cuál es el método de multiplicación escogido y porque.\n",
    "\n",
    "**(0.5 punts)** <span style=\"font-family: Courier New; background-color: #82b74b; color: #000000; padding: 2px; \">NM</span>"
   ]
  },
  {
   "cell_type": "code",
   "execution_count": null,
   "metadata": {},
   "outputs": [],
   "source": [
    "# Respuesta"
   ]
  },
  {
   "cell_type": "markdown",
   "metadata": {},
   "source": [
    "### Ejercicio 3\n",
    "\n",
    "Ordenad la matriz bidimensional ```[[5,1,7], [0,7,4], [7,23,1]]``` por columnas utilizando como algoritmo de ordenación el [Heapsort](https://en.wikipedia.org/wiki/Heapsort). \n",
    "\n",
    "**Nota:** Para resolver este ejercicio os puede ser de ayuda la función [sort](https://docs.scipy.org/doc/numpy/reference/generated/numpy.sort.html#numpy.sort) de Numpy que nos permite ordenar los elementos de un array N-dimensional.\n",
    "\n",
    "**(0.5 punts)** <span style=\"font-family: Courier New; background-color: #ffcc5c; color: #000000; padding: 3px; \">EG</span>"
   ]
  },
  {
   "cell_type": "code",
   "execution_count": null,
   "metadata": {},
   "outputs": [],
   "source": [
    "# Respuesta"
   ]
  },
  {
   "cell_type": "markdown",
   "metadata": {},
   "source": [
    "### Ejercicio 4\n",
    "\n",
    "Cread una matriz, I, de mida 10x10 donde todos sus elementos tendrán el valor `0` utilizando generadores de matrices de numpy. Modificad la matriz anterior de tal forma que ```I[i, j] = i * j``` para todo ```i``` y ```j``` pares, es decir, para todas las posiciones donde tanto `i` como `j` son pares.\n",
    "\n",
    "**(0.5 punts)** <span style=\"font-family: Courier New; background-color: #82b74b; color: #000000; padding: 2px; \">NM</span>"
   ]
  },
  {
   "cell_type": "code",
   "execution_count": null,
   "metadata": {},
   "outputs": [],
   "source": [
    "# Respuesta"
   ]
  },
  {
   "cell_type": "markdown",
   "metadata": {},
   "source": [
    "### Ejercicio 5\n",
    "\n",
    "Una técnica que se aplica en muchos algoritmos de compresión de imagenes, como fase previa a la compresión, es asignar a cada píxel de la imagen el valor medio de sus N píxeles vecinos. Nosotros implementaremos una versión simplificada de esta técnica.\n",
    "\n",
    "Una imagen se puede ver como una matriz bidimensional donde cada elemento de la matriz corresponde a un valor de un píxel de la imagen. Por ejemplo, si generamos una imágen a partir de la matriz que os proporcionamos más abajo, veremos una imagen en escala de grises. Para probarlo podéis ejecutar la siguiente intrucción: ```generate_png(pixels)```. Esto os generará un fichero, ```generated.png```, en el directorio de la PAC.\n",
    "\n",
    "Cread una nueva matriz, ```pixels_transform```, a partir de la matriz ```pixels``` donde el valor de cada elemento de ```pixels_transform``` se calculará como la media de los valores de los 4 vecinos más próximos del correspondiente píxel en la matriz ```pixels```. Veámoslo formalmente:\n",
    "\n",
    "```\n",
    "pixels_transform[i, j] = (pixels[i, j-1] + pixels[i-1, j] + pixels[i, j+1] + pixels[i+1, j]) / 4\n",
    "```\n",
    "\n",
    "*Consideraciones:*\n",
    "\n",
    "* Consideramos como los 4 vecinos más próximos los píxeles anterior (izquierda), superior (arriba), posterior (derecha) e inferior (abajo) del píxel que estamos analizando.\n",
    "* Si no podemos acceder a alguno de estos vecinos (e.g. el píxel (0, 0) no tiene vecinos anterior y superior), asumimos que los valores que nos faltan son 0.\n",
    "\n",
    "Mostrad por pantalla el resultado obtenido.\n",
    "\n",
    "**Nota:** Para resolver este ejercicio necesitamos recorer todos los elementos de la matriz ```pixels``` y para cada elemento tenemos que comprobar los valores de sus 4 vecinos. Necesitaremos un bloque condicional (```if```) para cada uno de los elementos vecinos.\n",
    "\n",
    "**(1.5 punts)** <span style=\"font-family: Courier New; background-color: #82b74b; color: #000000; padding: 2px; \">NM</span>"
   ]
  },
  {
   "cell_type": "code",
   "execution_count": null,
   "metadata": {},
   "outputs": [],
   "source": [
    "from PIL import Image\n",
    "import numpy as np\n",
    "\n",
    "pixels = [\n",
    "   [54, 93, 71, 168],\n",
    "   [122, 54, 167, 93],\n",
    "   [71, 167, 54, 122],\n",
    "   [167, 82, 23, 54]\n",
    "]\n",
    "\n",
    "# Podéis utilizar la siguiente función para generar una imagen a partir de un array de píxeles.\n",
    "# Por ejemplo, generate_png(pixels)\n",
    "def generate_png(matriz):\n",
    "    # Nos aseguramos que la matriz es un array de numpy\n",
    "    pixels = np.array(matriz, dtype=np.uint8)\n",
    "\n",
    "    # Utilizamos la librería PIL para crear una imagen a partir de una array de píxeles\n",
    "    imagen = Image.fromarray(pixels)\n",
    "    imagen.save('generated.png')"
   ]
  },
  {
   "cell_type": "code",
   "execution_count": null,
   "metadata": {},
   "outputs": [],
   "source": [
    "# Respuesta"
   ]
  },
  {
   "cell_type": "markdown",
   "metadata": {},
   "source": [
    "<br>\n",
    "<span style=\"color: #1d17f4; padding: 3px; font-size: x-large\">Matplotlib - Ejercicios</span>"
   ]
  },
  {
   "cell_type": "markdown",
   "metadata": {},
   "source": [
    "### Ejercicio 1\n",
    "\n",
    "Representad en una única gráfica las funciones f1 y f2 definidas más abajo, evaluadas en el intervalo [0, 2] y con paso (resolución) 0.01. Haced que los rangos de valores mostrados sean `[0.25, 2.25]` para el eje de las X y `[-1, 1]` para el eje de las Y. Adicionalmente, mostrad la gráfica correspondiente a ```f1``` con color <span style=\"color: green\">verde</span> y la gráfica correspondiente a ```f2``` con color <span style=\"color: red\">rojo</span>.\n",
    "\n",
    "**(1 punt)** <span style=\"font-family: Courier New; background-color: #82b74b; color: #000000; padding: 2px; \">NM</span>"
   ]
  },
  {
   "cell_type": "code",
   "execution_count": null,
   "metadata": {},
   "outputs": [],
   "source": [
    "import numpy as np\n",
    "\n",
    "def f1(x):\n",
    "    return np.exp(-x)\n",
    "\n",
    "def f2(x):\n",
    "    return np.exp(-x) * np.sin(2 * np.pi * x)"
   ]
  },
  {
   "cell_type": "code",
   "execution_count": null,
   "metadata": {},
   "outputs": [],
   "source": [
    "# Respuesta"
   ]
  },
  {
   "cell_type": "markdown",
   "metadata": {},
   "source": [
    "### Ejercicio 2\n",
    "\n",
    "A continuación os facilitamos los resultados de las elecciones generales, que tuvieron lugar en España el pasado mes de abril del 2019, para los 10 partidos más votados. Mostrad dos gráficas de barras con los resultados del número de votos y del número de diputados para cada partido respectivamente.\n",
    "\n",
    "*Consideraciones:*\n",
    "\n",
    "* Debéis mostrar las dos gráficas una al lado de la otra (distribución horizontal).\n",
    "* Cada gráfica tiene que mostrar los datos de manera horizontal (barras horizontales).\n",
    "* El eje de las Y debe incluir las etiquetas con el nombre de los partidos.\n",
    "* Debeís incluir un texto con el número de votos para cada partido dentro del gráfico. El texto debería estar situado a la derecha de cada barra.\n",
    "\n",
    "**Nota:** En el Notebook de teoria hemos visto como mostrar gráficas lineares simples. Matplotlib nos ofrece muchos otros tipos de gráficas, siendo las gráficas de barra uno de ellos. Para resolver este ejercicio podéis consultar la documentación oficial de [Matplotlib](https://matplotlib.org/3.1.1/api/_as_gen/matplotlib.pyplot.bar.html) para ver como trabajar con este tipo de gráficas. También os pueden resultar útiles las funciones [text](https://matplotlib.org/3.1.1/api/_as_gen/matplotlib.pyplot.text.html) o [annotate](https://matplotlib.org/3.1.1/api/_as_gen/matplotlib.pyplot.annotate.html) para mostrar el nombre de votos.\n",
    "\n",
    "**(1.5 punts)** <span style=\"font-family: Courier New; background-color: #ffcc5c; color: #000000; padding: 3px; \">EG</span>"
   ]
  },
  {
   "cell_type": "markdown",
   "metadata": {},
   "source": [
    "| Partido | Votos | Diputados |\n",
    "|--------|------|----------|\n",
    "| PSOE | 7513142 | 123 |\n",
    "| PP | 4373653 | 66 |\n",
    "| Cs | 4155665 | 57 |\n",
    "| PODEMOS-IU-EQUO | 2897419 | 33 |\n",
    "| VOX | 2688092 | 24 |\n",
    "| ERC | 1020392 | 15 |\n",
    "| ECP-GUANYEM | 615665 | 7 |\n",
    "| JxCAT | 500787 | 7 |\n",
    "| EAJ-PNV | 395884 | 6 |\n",
    "| PACMA | 328299 | 0 |"
   ]
  },
  {
   "cell_type": "code",
   "execution_count": null,
   "metadata": {},
   "outputs": [],
   "source": [
    "# Respuesta"
   ]
  },
  {
   "cell_type": "markdown",
   "metadata": {},
   "source": [
    "<br>\n",
    "<span style=\"color: #1d17f4; padding: 3px; font-size: x-large\">pandas - Ejercicios</span>"
   ]
  },
  {
   "cell_type": "markdown",
   "metadata": {},
   "source": [
    "### Ejercicio 1\n",
    "\n",
    "Cargad los datos del fichero _amazon.csv_, que podéis encontrar en la carpeta `data`, en un _dataframe_. Este conjunto de datos recoge información sobre el número de [incendios en bosques de Brasil](https://www.kaggle.com/gustavomodelli/forest-fires-in-brazil) entre el 1998 y el 2017.\n",
    "\n",
    "Mostrad el número de filas del _dataframe_ y el nombre de las columnas.\n",
    "\n",
    "*Consideraciones:*\n",
    "\n",
    "* Debéis mostrar únicamente la información que os pedimos al enunciado.\n",
    "\n",
    "**(0.5 punts)** <span style=\"font-family: Courier New; background-color: #82b74b; color: #000000; padding: 3px; \">NM</span>"
   ]
  },
  {
   "cell_type": "code",
   "execution_count": null,
   "metadata": {},
   "outputs": [],
   "source": [
    "# Respuesta"
   ]
  },
  {
   "cell_type": "markdown",
   "metadata": {},
   "source": [
    "### Ejercicio 2\n",
    "\n",
    "Agrupad los datos cargados al ejercicio 1 por **año** y, para cada año, mostrad el número total de incendios que tuvierón lugar en todo el país.\n",
    "\n",
    "**Nota:** Al Notebook de teoria hemos visto como calcular la media de una agrupación de datos. Para resolver este ejercicio tendréis que investigar como sumar todos los valores de una columna en una agrupación. Os puede ser de utilidad la función [aggregate](https://pandas.pydata.org/pandas-docs/stable/reference/api/pandas.DataFrame.aggregate.html) de pandas, la cual nos permite aplicar diferentes funciones a una columna en un ```groupby```.\n",
    "\n",
    "**(0.5 punts)** <span style=\"font-family: Courier New; background-color: #ffcc5c; color: #000000; padding: 3px; \">EG</span>"
   ]
  },
  {
   "cell_type": "code",
   "execution_count": null,
   "metadata": {},
   "outputs": [],
   "source": [
    "# Respuesta"
   ]
  },
  {
   "cell_type": "markdown",
   "metadata": {},
   "source": [
    "### Ejercicio 3\n",
    "\n",
    "Mostrad los estados de Brasil donde se registraron más de _800_ incendios al mes, contando los meses de _junio_, _julio_ y _agosto_. Debéis mostrar como resultado una lista de los estados **sin repetir**.\n",
    "\n",
    "**Nota:** Al Notebook de teoria hemos visto operaciones básicas de filtrado. Para resolver este ejercicio deberéis investigar como aplicar condiciones más complejas. Para extraer una lista de valores _únicos_ de una columna de un dataframe os puede ser útil la función [unique](https://pandas.pydata.org/pandas-docs/stable/reference/api/pandas.Series.unique.html) de pandas.\n",
    " \n",
    " **(1 punt)** <span style=\"font-family: Courier New; background-color: #ffcc5c; color: #000000; padding: 3px; \">EG</span>"
   ]
  },
  {
   "cell_type": "code",
   "execution_count": null,
   "metadata": {},
   "outputs": [],
   "source": [
    "# Respuesta"
   ]
  },
  {
   "cell_type": "markdown",
   "metadata": {},
   "source": [
    "### Ejercicio 4\n",
    "\n",
    "Queremos buscar aquellos estados donde, durante el año _2017_, tuvierón lugar _más de 800_ incendios al mes, a lo largo de cualquier mes del año. Debéis mostrar por pantalla el **estado**, el **mes** (o los meses si la condición se cumple en varios meses) y el **nombre total de incendios** registrados en el mes correspondiente.\n",
    "\n",
    "**Nota**: Además del contenido de los Notebook de teoria, podéis utilizar lo que habéis aprendido haciendo el ejercicio 2.\n",
    "\n",
    "**(0.5 punts)** <span style=\"font-family: Courier New; background-color: #82b74b; color: #000000; padding: 3px; \">NM</span>"
   ]
  },
  {
   "cell_type": "code",
   "execution_count": null,
   "metadata": {},
   "outputs": [],
   "source": [
    "# Respuesta"
   ]
  },
  {
   "cell_type": "markdown",
   "metadata": {},
   "source": [
    "### Ejercicio 5\n",
    "\n",
    "Cread una copia del dataframe original añadiendo una nueva columna que nos indicará para cada fila el nivel de riesgo de dicha fila. Definimos tres niveles de riesgo:\n",
    "\n",
    "- **high** : si se ha registrado una fila con más de 800 incendios \n",
    "- **medium** : si se ha registrado una fila con un nombre de incendios entre 400 y 800\n",
    "- **low** : si se ha registrado una fila con menos de 400 incendios\n",
    "\n",
    "Mostrad por pantalla aquellas filas que correspondan a un nivel de riesgo alto ( _high_ ).\n",
    "\n",
    "**Nota:** pandas nos ofrece principalmente tres maneras de añadir nuevas columnas a un dataframe existente. Cualquiera de las tres formas son válidas para resolver este ejercicio. Podéis buscar en Internet como añadir columnas a un dataframe de pandas, ya que la documentación presenta los tres métodos de forma separada.\n",
    "\n",
    "**(1.5 punts)** <span style=\"font-family: Courier New; background-color: #ffcc5c; color: #000000; padding: 3px; \">EG</span>"
   ]
  },
  {
   "cell_type": "code",
   "execution_count": null,
   "metadata": {},
   "outputs": [],
   "source": [
    "# Respuesta"
   ]
  },
  {
   "cell_type": "markdown",
   "metadata": {},
   "source": [
    "---"
   ]
  },
  {
   "cell_type": "markdown",
   "metadata": {},
   "source": [
    "##  Soluciones ejercicios para practicar"
   ]
  },
  {
   "cell_type": "markdown",
   "metadata": {},
   "source": [
    "### Ejercicio 1\n",
    "\n",
    "Definid una función que dadas dos matrices, devuelva el valor absoluto de la multiplicación de los determinantes ambas, es decir, dadas A y B, nuestra función devolverá `|det(A) * det(B)|`. \n",
    "\n",
    "**Nota:** Podéis consultar la documentación del módulo [linalg](https://docs.scipy.org/doc/numpy-1.15.0/reference/routines.linalg.html) para resolver este ejercicio. \n",
    "\n",
    "<span style=\"font-family: Courier New; background-color: #ffcc5c; color: #000000; padding: 3px; \">EG</span>"
   ]
  },
  {
   "cell_type": "code",
   "execution_count": null,
   "metadata": {},
   "outputs": [],
   "source": [
    "# El enunciado nos pide realizar dos operaciones: el determinante de matrices y el valor absoluto.\n",
    "# Ambas funciones se encuentran disponibles a numpy.\n",
    "from numpy.linalg import det\n",
    "from numpy import absolute\n",
    "\n",
    "# Definimos la función\n",
    "def abs_det(A, B):\n",
    "    return absolute(det(A) * det(B))"
   ]
  },
  {
   "cell_type": "markdown",
   "metadata": {},
   "source": [
    "### Ejercicio 2 \n",
    "\n",
    "Cread una matriz 10x10 que corresponda con la [matriz identidad](https://es.wikipedia.org/wiki/Matriz_identidad) usando generadores básicos de arrays. Cread una matriz identidad 10x10 (esta vez usando generadores especificos de matrices identidad) y comprobad que ambas matrices son iguales. \n",
    "\n",
    "**Consideraciones:**\n",
    "\n",
    "- La primera matriz debe crearse usando constructores básicos de arrays, como los presentados en los Notebooks de teoría.\n",
    "- La segunda matriz debe generarse utilizando el generador de matrices identidad de numpy.\n",
    "- La comparación debe devolver True si las matrices son iguales (un único True), False de no ser así.\n",
    "\n",
    "**Nota:** Podéis consultar la documentación sobre [creación de matrices](https://docs.scipy.org/doc/numpy-1.15.1/reference/routines.array-creation.html) de Numpy para resolver este ejercicio.\n",
    "\n",
    "<span style=\"font-family: Courier New; background-color: #ffcc5c; color: #000000; padding: 3px; \">EG</span>"
   ]
  },
  {
   "cell_type": "code",
   "execution_count": null,
   "metadata": {},
   "outputs": [],
   "source": [
    "import numpy as np\n",
    "\n",
    "# Podemos definir la matriz de forma manual como una lista de listas\n",
    "m0 = np.array([[1, 0, 0, 0, 0, 0, 0, 0, 0, 0,], [0, 1, 0, 0, 0, 0, 0, 0, 0, 0,], \n",
    "              [0, 0, 1, 0, 0, 0, 0, 0, 0, 0], [0, 0, 0, 1, 0, 0, 0, 0, 0, 0], \n",
    "              [0, 0, 0, 0, 1, 0, 0, 0, 0, 0], [0, 0, 0, 0, 0, 1, 0, 0, 0, 0],\n",
    "              [0, 0, 0, 0, 0, 0, 1, 0, 0, 0], [0, 0, 0, 0, 0, 0, 0, 1, 0, 0],\n",
    "              [0, 0, 0, 0, 0, 0, 0, 0, 1, 0], [0, 0, 0, 0, 0, 0, 0, 0, 0, 1]])\n",
    "\n",
    "# O empezando por una 10x10 con todos los elementos iguales a 0 y asignar 1s a la diagonal\n",
    "# recorriendo la matriz por filas y columnas\n",
    "m1 = np.zeros((10,10), dtype=int)\n",
    "for i, r in enumerate(m1):\n",
    "    r[i] = 1\n",
    "\n",
    "# Por otro lado, definimos la identidad 10x10 utilizando el constructor “built-in\"\n",
    "m2 = np.identity(10, dtype=int)\n",
    "\n",
    "# Y realizamos la comparación. Para hacerlo podemos utilizar el método array_equal de numpy \n",
    "# que nos compara si dos arrays son iguales\n",
    "print(np.array_equal(m0, m2))\n",
    "print(np.array_equal(m1, m2))\n",
    "\n",
    "# También podemos comprobar que la comparación falla si modificamos cualquier valor de la matriz\n",
    "m0[1, 2] = 1\n",
    "print(np.array_equal(m0, m2))"
   ]
  },
  {
   "cell_type": "markdown",
   "metadata": {},
   "source": [
    "### Ejercicio 3\n",
    "\n",
    "Representad en un único gráfico las funciones f1 y f2 definidas más abajo, evaluadas en el intervalo [0, 7] y con paso (resolución) 0.1. <span style=\"font-family: Courier New; background-color: #82b74b; color: #000000; padding: 3px; \">NM</span>"
   ]
  },
  {
   "cell_type": "code",
   "execution_count": null,
   "metadata": {},
   "outputs": [],
   "source": [
    "import numpy as np\n",
    "\n",
    "def f1(x):\n",
    "    return np.power(x, 2)\n",
    "\n",
    "def f2(x):\n",
    "    return np.power(2,x)"
   ]
  },
  {
   "cell_type": "code",
   "execution_count": null,
   "metadata": {},
   "outputs": [],
   "source": [
    "%matplotlib inline\n",
    "import matplotlib.pyplot as plt\n",
    "\n",
    "# El enunciado nos indica que el punto inicial es 0, el final es 7 y la resolució es 0.1\n",
    "start = 0\n",
    "end = 7\n",
    "res = 0.1\n",
    "\n",
    "\n",
    "# Definimos los arrays de valores con arange. Tenemo que sumar 0.1 al final dado que arange\n",
    "# funciona de forma análoga a range [inicio, final)\n",
    "\n",
    "# Ambas gráficas comparten el mismo eje x\n",
    "x = np.arange(start, end+res, res)\n",
    "\n",
    "# Y los arrays a y b corresponden a los ejes y para f1 y f2 respectivamente. Para calcularlos\n",
    "# simplemente evaluamos las dos funciones con los valores de x\n",
    "a = [f1(val) for val in x]\n",
    "b = [f2(val) for val in x]\n",
    "\n",
    "plt.plot(x, a)\n",
    "plt.plot(x, b)\n",
    "\n",
    "plt.legend([\"f1\", \"f2\"])\n",
    "plt.show()"
   ]
  }
 ],
 "metadata": {
  "kernelspec": {
   "display_name": "Python 3",
   "language": "python",
   "name": "python3"
  },
  "language_info": {
   "codemirror_mode": {
    "name": "ipython",
    "version": 3
   },
   "file_extension": ".py",
   "mimetype": "text/x-python",
   "name": "python",
   "nbconvert_exporter": "python",
   "pygments_lexer": "ipython3",
   "version": "3.7.3"
  }
 },
 "nbformat": 4,
 "nbformat_minor": 1
}
