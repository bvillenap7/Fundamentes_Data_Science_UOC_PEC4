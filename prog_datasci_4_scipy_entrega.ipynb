{
 "metadata": {
  "kernelspec": {
   "display_name": "Python 2",
   "language": "python",
   "name": "python2"
  },
  "language_info": {
   "codemirror_mode": {
    "name": "ipython",
    "version": 2
   },
   "file_extension": ".py",
   "mimetype": "text/x-python",
   "name": "python",
   "nbconvert_exporter": "python",
   "pygments_lexer": "ipython2",
   "version": "2.7.11"
  },
  "name": "",
  "signature": "sha256:185f70be56f35a06a139effcb80ca6db1026489075208b333c57bea631fd5145"
 },
 "nbformat": 3,
 "nbformat_minor": 0,
 "worksheets": [
  {
   "cells": [
    {
     "cell_type": "heading",
     "level": 1,
     "metadata": {},
     "source": [
      "Programaci\u00f3n para Data Science"
     ]
    },
    {
     "cell_type": "markdown",
     "metadata": {},
     "source": [
      "Unidad 4: Librer\u00edas cient\u00edficas en Python - Scipy - Ejercicios\n",
      "-------------------------------------------------"
     ]
    },
    {
     "cell_type": "markdown",
     "metadata": {},
     "source": [
      "Ejercicios\n",
      "----------\n",
      "\n",
      "A continuaci\u00f3n ten\u00e9is el \u00fanico ejercicio a resolver en esta parte del m\u00f3dulo. Dada la especificidad de los algoritmos que se implementan en la librer\u00eda Scipy, hemos seleccionado un problema m\u00e1s simple que los mostrados como ejemplo.\n",
      "\n",
      "### Ejercicio 1: Ajustar una distribuci\u00f3n\n",
      "\n",
      "La variable data contiene 1000 muestras aleatorias de una [distribuci\u00f3n normal](https://en.wikipedia.org/wiki/Normal_distribution):"
     ]
    },
    {
     "cell_type": "code",
     "collapsed": false,
     "input": [
      "from scipy.stats import norm\n",
      "\n",
      "data = norm.rvs(5, 2, size=1000)"
     ],
     "language": "python",
     "metadata": {},
     "outputs": [],
     "prompt_number": 12
    },
    {
     "cell_type": "markdown",
     "metadata": {},
     "source": [
      "Mostrad un histograma con las muestras de data, ajustad una distribuci\u00f3n normal a las muestras y mostrad la funci\u00f3n de densidad de probabilidad de la distribuci\u00f3n ajustada.\n",
      "\n",
      "Pista: Pod\u00e9is utilizar la funci\u00f3n fit de [scipy.stats.norm](https://docs.scipy.org/doc/scipy/reference/generated/scipy.stats.norm.html)."
     ]
    },
    {
     "cell_type": "code",
     "collapsed": false,
     "input": [
      "# Respuesta\n"
     ],
     "language": "python",
     "metadata": {},
     "outputs": [],
     "prompt_number": 3
    }
   ],
   "metadata": {}
  }
 ]
}