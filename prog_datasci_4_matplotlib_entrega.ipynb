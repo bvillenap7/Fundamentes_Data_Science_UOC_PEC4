{
 "metadata": {
  "kernelspec": {
   "display_name": "Python 2",
   "language": "python",
   "name": "python2"
  },
  "language_info": {
   "codemirror_mode": {
    "name": "ipython",
    "version": 2
   },
   "file_extension": ".py",
   "mimetype": "text/x-python",
   "name": "python",
   "nbconvert_exporter": "python",
   "pygments_lexer": "ipython2",
   "version": "2.7.12"
  },
  "name": "",
  "signature": "sha256:7ac50314fe16ded9359c54dd6ceea3ee8094c0743a546ffe3ba32041b5bb0e83"
 },
 "nbformat": 3,
 "nbformat_minor": 0,
 "worksheets": [
  {
   "cells": [
    {
     "cell_type": "heading",
     "level": 1,
     "metadata": {},
     "source": [
      "Programaci\u00f3n para *Data Science*"
     ]
    },
    {
     "cell_type": "markdown",
     "metadata": {},
     "source": [
      "Unidad 4: Librer\u00edas cient\u00edficas en Python - Matplotlib - Ejercicios\n",
      "------------------------------------------------------"
     ]
    },
    {
     "cell_type": "markdown",
     "metadata": {},
     "source": [
      "Ejercicios y preguntas te\u00f3ricas\n",
      "-------------------------------"
     ]
    },
    {
     "cell_type": "markdown",
     "metadata": {},
     "source": [
      "### Ejercicio 1\n",
      "Representad en un \u00fanico gr\u00e1fico las funciones arcoseno y arcocoseno en el intervalo [-pi/4, pi/4]. **(0.5 puntos)**"
     ]
    },
    {
     "cell_type": "code",
     "collapsed": false,
     "input": [
      "# Respuesta"
     ],
     "language": "python",
     "metadata": {},
     "outputs": [],
     "prompt_number": 6
    },
    {
     "cell_type": "markdown",
     "metadata": {},
     "source": [
      "### Ejercicio 2\n",
      "Representad en un gr\u00e1fico 3D la funci\u00f3n *f(x,y) = cos(x) - sen(y)* en el intervalo [-2*pi, 2*pi]. **(0.5 puntos)**"
     ]
    },
    {
     "cell_type": "code",
     "collapsed": false,
     "input": [
      "# Respuesta"
     ],
     "language": "python",
     "metadata": {},
     "outputs": [],
     "prompt_number": 7
    },
    {
     "cell_type": "markdown",
     "metadata": {},
     "source": [
      "### Ejercicio 3\n",
      "Representad la funci\u00f3n que quer\u00e1is de la forma que consider\u00e9is. Sed creativos a la hora de escoger la funci\u00f3n que vay\u00e1is a representar y el intervalo de valores. **(0.5 puntos)**"
     ]
    },
    {
     "cell_type": "code",
     "collapsed": false,
     "input": [
      "# Respuesta"
     ],
     "language": "python",
     "metadata": {},
     "outputs": [],
     "prompt_number": 8
    },
    {
     "cell_type": "markdown",
     "metadata": {},
     "source": [
      "### Pregunta te\u00f3rica\n",
      "En el c\u00f3digo de ejemplo que pod\u00e9is encontrar aqu\u00ed (http://matplotlib.org/1.3.1/examples/mplot3d/lorenz_attractor.html), comentad una a una qu\u00e9 hace cada l\u00ednea. **(0.5 puntos)**"
     ]
    },
    {
     "cell_type": "markdown",
     "metadata": {},
     "source": [
      "#### Respuesta:"
     ]
    }
   ],
   "metadata": {}
  }
 ]
}