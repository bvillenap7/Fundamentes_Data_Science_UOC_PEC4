{
 "cells": [
  {
   "cell_type": "markdown",
   "metadata": {},
   "source": [
    "Programación para *Data Science*\n",
    "============================\n",
    "\n",
    "Unidad 4: Librerías científicas en Python - Ejercicios resueltos\n",
    "-----------------------------------------------------\n"
   ]
  },
  {
   "cell_type": "markdown",
   "metadata": {},
   "source": [
    "En este Notebook hay un conjunto de ejercicios para practicar. Estos ejercicios no puntúan para la PEC, pero os recomendamos que los intentéis resolver como parte del proceso de aprendizaje. Encontraréis ejemplos de posibles soluciones a los ejercicios en el propio notebook, pero es importante que intentéis resolverlos vosotros antes de consultar las soluciones. Las soluciones os permitirán validar vuestras respuestas, así como ver alternativas de resolución de las actividades. También os animamos a preguntar cualquier duda que surja sobre la resolución de las actividades para practicar en el foro del aula.\n",
    "\n",
    "----\n",
    "## Preguntas y ejercicios para practicar\n"
   ]
  },
  {
   "cell_type": "markdown",
   "metadata": {},
   "source": [
    "### Ejercicio 1\n",
    "\n",
    "Calcula la norma y el determinante de la siguiente matriz: ```[[1, 0], [2, -1]]```."
   ]
  },
  {
   "cell_type": "code",
   "execution_count": 1,
   "metadata": {},
   "outputs": [],
   "source": [
    "# Respuesta"
   ]
  },
  {
   "cell_type": "markdown",
   "metadata": {},
   "source": [
    "### Ejercicio 2\n",
    "\n",
    "Genera una lista de 100 valores enteros aleatorios de 0-9. Realiza los siguientes cálculos utilizando métodos de_numpy_ :\n",
    "- Media y desviación estándar de los valores de la lista\n",
    "- Valor máximo y mínimo\n",
    "- Suma todos los valores de la lista\n",
    "- Consigue una lista de valores únicos\n"
   ]
  },
  {
   "cell_type": "code",
   "execution_count": 2,
   "metadata": {},
   "outputs": [],
   "source": [
    "# Respuesta"
   ]
  },
  {
   "cell_type": "markdown",
   "metadata": {},
   "source": [
    "### Ejercicio 3\n",
    "\n",
    "Crea una matriz 10x10 que se ajuste a [matriz identidad](https://cat.wikipedia.org/wiki/Matriu_identitat) utilizando generadores básicos de arrays. Crea una matriz identidad 10x10 (esta vez utilizando generadores específicos de matrices identidad) y comprueba que ambas matrices son iguales.\n",
    "\n",
    "**Consideraciones**:\n",
    "- La primera matriz debe crearse utilizando constructores básicos de arrays, como los presentados a los Notebooks de teoría.\n",
    "* La segunda matriz debe generarse utilizando el generador de matrices identidad de NumPy.\n",
    "* La comparación debe devolver True si las matrices son iguales (un único True), False en caso contrario."
   ]
  },
  {
   "cell_type": "code",
   "execution_count": 3,
   "metadata": {},
   "outputs": [],
   "source": [
    "# Respuesta"
   ]
  },
  {
   "cell_type": "markdown",
   "metadata": {},
   "source": [
    "### Ejercicio 4\n",
    "\n",
    "Ordena la matriz bidimensional `` `[[5,1,7], [0,7,4], [7,23,1]]` `` por columnas utilizando como algoritmo de ordenación el [Heapsort](https://en.wikipedia.org/wiki/Heapsort). \n",
    "\n",
    "**Nota:** Para resolver este ejercicio os puede ser de utilidad la función [suerte](https://docs.scipy.org/doc/numpy/reference/generated/numpy.sort.html#numpy.sort) de NumPy que nos permite ordenar los elementos de un array N-dimensional."
   ]
  },
  {
   "cell_type": "code",
   "execution_count": 4,
   "metadata": {},
   "outputs": [],
   "source": [
    "# Respuesta"
   ]
  },
  {
   "cell_type": "markdown",
   "metadata": {},
   "source": [
    "### Ejercicio 5\n",
    "\n",
    "Crea una matriz, I, de tamaño 10x10 donde todos sus elementos tendrán el valor ```0``` utilizando generadores de matrices de NumPy. Modifica la matriz anterior de tal forma que ```Y [i, j] = y * j``` por todo``` i``` y ```j``` pares, es decir, para todas las posiciones donde tanto `i` como `j` son pares."
   ]
  },
  {
   "cell_type": "code",
   "execution_count": 5,
   "metadata": {},
   "outputs": [],
   "source": [
    "# Respuesta"
   ]
  },
  {
   "cell_type": "markdown",
   "metadata": {},
   "source": [
    "### Ejercicio 6\n",
    "\n",
    "El archivo `us_births.csv` contiene datos de los nacimientos en Estados Unidos durante los años 1994 a 2003. Carga el archivo representa de forma gráfica los nacimientos agrupados por mes y año. Utiliza un gráfico 2D de tipo _scatter_.\n",
    "\n",
    "*Consideraciones:*\n",
    "* La figura debe contener 10 gráficos (1 por año)\n",
    "* El valor de cada punto debe corresponder con el total de nacimientos por año y mes.\n",
    "* Incluye una leyenda que contenga los años. Puedes diferenciar cada gráfico como mejor te parezca (diferentes símbolos / colores / combinación de ambas)"
   ]
  },
  {
   "cell_type": "code",
   "execution_count": 6,
   "metadata": {},
   "outputs": [],
   "source": [
    "# Respuesta"
   ]
  },
  {
   "cell_type": "markdown",
   "metadata": {},
   "source": [
    "### Ejercicio 7\n",
    "\n",
    "Carga los datos del archivo `got.csv` a un *dataframe*. Este conjunto de datos recoge información de la [Guerra de los Cinco Reyes](https://awoiaf.westeros.org/index.php/War_of_the_Five_Kings) de las novelas de [Canción de hielo y de fuego](https://es.wikipedia.org/wiki/Canci%C3%B3n_de_hielo_y_fuego) de George RR Martin.\n",
    "\n",
    "Muestra el número de filas del *dataframe* y las etiquetas de los ejes."
   ]
  },
  {
   "cell_type": "code",
   "execution_count": 7,
   "metadata": {},
   "outputs": [],
   "source": [
    "# Respuesta"
   ]
  },
  {
   "cell_type": "markdown",
   "metadata": {},
   "source": [
    "### Ejercicio 8\n",
    "\n",
    "Agrupa los datos cargados en el ejercicio 1 por el principal bando atacante (*Attacker \\ _1*). Para cada posición, muestra el número de batallas y el resultado de la batalla (el resultado se encuentra en el campo (*Attacker \\ _outcome*)."
   ]
  },
  {
   "cell_type": "code",
   "execution_count": 8,
   "metadata": {},
   "outputs": [],
   "source": [
    "# Respuesta"
   ]
  },
  {
   "cell_type": "markdown",
   "metadata": {},
   "source": [
    "### Ejercicio 9\n",
    "\n",
    "Muestra los datos de las batallas donde el número de participantes supera los 15000 \"hombres\" (contando los dos bandos: *attacker_size* y *defender_size*), el resultado haya sido desfavorable por el atacante, y la batalla haya estado en invierno (*summer = 0*)."
   ]
  },
  {
   "cell_type": "code",
   "execution_count": 9,
   "metadata": {},
   "outputs": [],
   "source": [
    "# Respuesta"
   ]
  },
  {
   "cell_type": "markdown",
   "metadata": {},
   "source": [
    "### Ejercicio 10\n",
    "\n",
    "Cuenta cuantos sitios aparecen más de una vez en el *dataframe* (campo *location*), utilizando las funciones de la librería *pandas*. Existe algún lugar donde haya habido más de una batalla? Comprueba qué bandos estaban implicados."
   ]
  },
  {
   "cell_type": "code",
   "execution_count": 10,
   "metadata": {},
   "outputs": [],
   "source": [
    "# Respuesta"
   ]
  },
  {
   "cell_type": "markdown",
   "metadata": {},
   "source": [
    "----\n",
    "## Soluciones a los ejercicios para practicar"
   ]
  },
  {
   "cell_type": "markdown",
   "metadata": {},
   "source": [
    "### Ejercicio 1\n",
    "\n",
    "Calcula la norma y el determinante de la siguiente matriz: ```[[1, 0], [2, -1]]```."
   ]
  },
  {
   "cell_type": "code",
   "execution_count": 11,
   "metadata": {},
   "outputs": [
    {
     "name": "stdout",
     "output_type": "stream",
     "text": [
      "La matriz m es: [[ 1  0]\n",
      " [ 2 -1]]\n",
      "La norma de m es:  2.449489742783178\n",
      "El determinante de m es: -1.0\n"
     ]
    }
   ],
   "source": [
    "import numpy as np\n",
    "\n",
    "# Creamos la matriz como array bidimensional\n",
    "m = np.array([[1, 0], [2, -1]])\n",
    "\n",
    "# Calculamos la normal y el determinante utilizando el módulo linalg\n",
    "norm = np.linalg.norm(m)\n",
    "det = np.linalg.det(m)\n",
    "\n",
    "print(\"La matriz m es:\", m)\n",
    "print(\"La norma de m es: \", norm)\n",
    "print(\"El determinante de m es:\", det)"
   ]
  },
  {
   "cell_type": "markdown",
   "metadata": {},
   "source": [
    "### Ejercicio 2\n",
    "\n",
    "Genera una lista de 100 valores enteros aleatorios de 0-9. Realiza los siguientes cálculos utilizando métodos de_numpy_ :\n",
    "- Media y desviación estándar de los valores de la lista\n",
    "- Valor máximo y mínimo\n",
    "- Suma todos los valores de la lista\n",
    "- Consigue una lista de valores únicos"
   ]
  },
  {
   "cell_type": "code",
   "execution_count": 12,
   "metadata": {},
   "outputs": [
    {
     "name": "stdout",
     "output_type": "stream",
     "text": [
      "Nuestra lista de valores aleatorios es: [5, 9, 8, 4, 2, 1, 9, 0, 7, 4, 2, 3, 0, 8, 5, 7, 4, 6, 7, 6, 9, 4, 9, 0, 0, 1, 5, 8, 3, 3, 6, 2, 1, 9, 3, 2, 3, 8, 1, 4, 9, 8, 7, 0, 6, 6, 2, 1, 4, 8, 6, 2, 7, 8, 5, 7, 1, 5, 4, 0, 9, 2, 5, 2, 6, 6, 9, 8, 9, 4, 2, 2, 6, 5, 7, 3, 1, 8, 8, 3, 3, 8, 9, 7, 3, 1, 8, 5, 7, 0, 1, 1, 4, 6, 0, 9, 3, 8, 2, 2]\n",
      "Su media es 4.660000, y su desviación estándar es 2.905925\n",
      "Sus valores máximo y mínimo son, respectivamente: 9 y 0\n",
      "El resultado de la suma de todos los valores de la lista es 466\n",
      "Y la lista de valores únicos es [0 1 2 3 4 5 6 7 8 9]\n"
     ]
    }
   ],
   "source": [
    "from random import randint\n",
    "import numpy as np\n",
    "\n",
    "# Utilizamos la función rand del módulo random y list comprensión para generar la lista, \n",
    "# como ya habíamos visto en unidades anteriores\n",
    "\n",
    "rand_ints = [randint(0, 9) for _ in range(100)]\n",
    "\n",
    "# Para calcular la media y la desviación estándar utilizamos las funciones mean y std (standard deviation)\n",
    "# respectivamente\n",
    "m = np.mean(rand_ints)\n",
    "std = np.std(rand_ints)\n",
    "\n",
    "print(\"Nuestra lista de valores aleatorios es:\", rand_ints)\n",
    "print(\"Su media es %f, y su desviación estándar es %f\" %(m, std))\n",
    "\n",
    "# Para los valores máximo y mínimo, utilizamos max y min\n",
    "max_val = np.max(rand_ints)\n",
    "min_val = np.min(rand_ints)\n",
    "\n",
    "print(\"Sus valores máximo y mínimo son, respectivamente: %d y %d\" %(max_val, min_val))\n",
    "\n",
    "# Para sumar todos los elementos de la lista, la función sum\n",
    "sum_values = np.sum(rand_ints)\n",
    "\n",
    "print(\"El resultado de la suma de todos los valores de la lista es\", sum_values) \n",
    "\n",
    "# Y finalmente para conseguir una lista de valores únicos, la función unique\n",
    "unique_values = np.unique(rand_ints)\n",
    "\n",
    "print(\"Y la lista de valores únicos es\", unique_values)\n"
   ]
  },
  {
   "cell_type": "markdown",
   "metadata": {},
   "source": [
    "### Ejercicio 3\n",
    "\n",
    "Crea una matriz 10x10 que se ajuste a [matriz identidad](https://cat.wikipedia.org/wiki/Matriu_identitat) utilizando generadores básicos de arrays. Crea una matriz identidad 10x10 (esta vez utilizando generadores específicos de matrices identidad) y comprueba que ambas matrices son iguales.\n",
    "\n",
    "**Consideraciones**:\n",
    "- La primera matriz debe crearse utilizando constructores básicos de arrays, como los presentados a los Notebooks de teoría.\n",
    "* La segunda matriz debe generarse utilizando el generador de matrices identidad de NumPy.\n",
    "* La comparación debe devolver True si las matrices son iguales (un único True), False en caso contrario."
   ]
  },
  {
   "cell_type": "code",
   "execution_count": 13,
   "metadata": {},
   "outputs": [
    {
     "name": "stdout",
     "output_type": "stream",
     "text": [
      "True\n",
      "True\n",
      "False\n"
     ]
    }
   ],
   "source": [
    "import numpy as np\n",
    "\n",
    "# Podemos definir la matriz de forma manual como una lista de listas\n",
    "m0 = np.array([[1, 0, 0, 0, 0, 0, 0, 0, 0, 0,], [0, 1, 0, 0, 0, 0, 0, 0, 0, 0,], \n",
    "              [0, 0, 1, 0, 0, 0, 0, 0, 0, 0], [0, 0, 0, 1, 0, 0, 0, 0, 0, 0], \n",
    "              [0, 0, 0, 0, 1, 0, 0, 0, 0, 0], [0, 0, 0, 0, 0, 1, 0, 0, 0, 0],\n",
    "              [0, 0, 0, 0, 0, 0, 1, 0, 0, 0], [0, 0, 0, 0, 0, 0, 0, 1, 0, 0],\n",
    "              [0, 0, 0, 0, 0, 0, 0, 0, 1, 0], [0, 0, 0, 0, 0, 0, 0, 0, 0, 1]])\n",
    "\n",
    "# O empezar por una 10x10 con todo ceros y asignar unos en la diagonal\n",
    "# recorriendo la matriz por filas y columnas\n",
    "m1 = np.zeros((10,10), dtype=int)\n",
    "for i, r in enumerate(m1):\n",
    "    r[i] = 1\n",
    "\n",
    "# Por otra parte, definimos la identidad 10x10 utilizando el constructor \"built-in\"\n",
    "m2 = np.identity(10, dtype=int)\n",
    "\n",
    "# Y realizamos la comparación. Para ello podemos utilizar el método array_equal de NumPy\n",
    "# que nos compara si dos arrays son iguales\n",
    "print(np.array_equal(m0, m2))\n",
    "print(np.array_equal(m1, m2))\n",
    "\n",
    "# También podemos comprobar que la comparación falla si modificamos cualquier valor de la matriz\n",
    "m0[1, 2] = 1\n",
    "print(np.array_equal(m0, m2))"
   ]
  },
  {
   "cell_type": "markdown",
   "metadata": {},
   "source": [
    "### Ejercicio 4\n",
    "\n",
    "Ordena la matriz bidimensional `` `[[5,1,7], [0,7,4], [7,23,1]]` `` por columnas utilizando como algoritmo de ordenación el [Heapsort](https://en.wikipedia.org/wiki/Heapsort). \n",
    "\n",
    "**Nota:** Para resolver este ejercicio os puede ser de utilidad la función [suerte](https://docs.scipy.org/doc/numpy/reference/generated/numpy.sort.html#numpy.sort) de NumPy que nos permite ordenar los elementos de un array N-dimensional."
   ]
  },
  {
   "cell_type": "code",
   "execution_count": 14,
   "metadata": {},
   "outputs": [],
   "source": [
    "# Creamos la matriz indicada en el enunciado\n",
    "matriu_ex3 = [[5,1,7], [0,7,4], [7,23,1]]\n",
    "\n",
    "# Utilizamos la función suerte de NumPy para ordenar la matriz anterior.\n",
    "# El parámetro axis = 0 nos indica que queremos ordenar por columnas\n",
    "# Y el parámetro kind nos permite especificar el algoritmo de ordenación, en este caso 'heapsort'.np.sort(matriu_ex3, axis=0, kind='heapsort')"
   ]
  },
  {
   "cell_type": "markdown",
   "metadata": {},
   "source": [
    "### Ejercicio 5\n",
    "\n",
    "Crea una matriz, I, de tamaño 10x10 donde todos sus elementos tendrán el valor ```0``` utilizando generadores de matrices de NumPy. Modifica la matriz anterior de tal forma que ```Y [i, j] = y * j``` por todo``` i``` y ```j``` pares, es decir, para todas las posiciones donde tanto `i` como `j` son pares."
   ]
  },
  {
   "cell_type": "code",
   "execution_count": 15,
   "metadata": {},
   "outputs": [
    {
     "name": "stdout",
     "output_type": "stream",
     "text": [
      "[[0. 0. 0. 0. 0. 0. 0. 0. 0. 0.]\n",
      " [0. 0. 0. 0. 0. 0. 0. 0. 0. 0.]\n",
      " [0. 0. 0. 0. 0. 0. 0. 0. 0. 0.]\n",
      " [0. 0. 0. 0. 0. 0. 0. 0. 0. 0.]\n",
      " [0. 0. 0. 0. 0. 0. 0. 0. 0. 0.]\n",
      " [0. 0. 0. 0. 0. 0. 0. 0. 0. 0.]\n",
      " [0. 0. 0. 0. 0. 0. 0. 0. 0. 0.]\n",
      " [0. 0. 0. 0. 0. 0. 0. 0. 0. 0.]\n",
      " [0. 0. 0. 0. 0. 0. 0. 0. 0. 0.]\n",
      " [0. 0. 0. 0. 0. 0. 0. 0. 0. 0.]]\n",
      "[[ 0.  0.  0.  0.  0.  0.  0.  0.  0.  0.]\n",
      " [ 0.  0.  0.  0.  0.  0.  0.  0.  0.  0.]\n",
      " [ 0.  0.  4.  0.  8.  0. 12.  0. 16.  0.]\n",
      " [ 0.  0.  0.  0.  0.  0.  0.  0.  0.  0.]\n",
      " [ 0.  0.  8.  0. 16.  0. 24.  0. 32.  0.]\n",
      " [ 0.  0.  0.  0.  0.  0.  0.  0.  0.  0.]\n",
      " [ 0.  0. 12.  0. 24.  0. 36.  0. 48.  0.]\n",
      " [ 0.  0.  0.  0.  0.  0.  0.  0.  0.  0.]\n",
      " [ 0.  0. 16.  0. 32.  0. 48.  0. 64.  0.]\n",
      " [ 0.  0.  0.  0.  0.  0.  0.  0.  0.  0.]]\n"
     ]
    }
   ],
   "source": [
    "# Definimos un par de constantes por el número de filas y columnas\n",
    "NUM_FILAS = 10\n",
    "NUM_COLUMNAS = 10\n",
    "\n",
    "# Creamos una matriz de 10x10 donde todos los valores serán 0.\n",
    "# Para ello utilizamos la función ceros que hemos visto en el Notebook de teoría.\n",
    "matriu_ej4 = np.zeros((NUM_FILAS, NUM_COLUMNAS))\n",
    "\n",
    "# Mostramos la matriz original por pantalla\n",
    "print(matriu_ej4)\n",
    "\n",
    "# Iteramos sobre todas las filas y columnas de la matriz generada utilizando un doble bucle for.\n",
    "# El primer bucle nos recorrerá el índice de las filas, mientras que el segundo bucle nos recurrirá\n",
    "# El índice de las columnas.\n",
    "for i in range(0, NUM_FILAS):\n",
    "    for j in range(0, NUM_COLUMNAS):       \n",
    "        # Comprobamos que el índice de la fila y el índice de la columna sean ambos pares.\n",
    "        if i % 2 == 0 and j % 2 == 0:            \n",
    "        # En caso afirmativo, pasamos a realizar la asignación indicada.\n",
    "            matriu_ej4[i, j] = i * j\n",
    "\n",
    "# Mostramos el resultado final por pantalla\n",
    "print(matriu_ej4)"
   ]
  },
  {
   "cell_type": "markdown",
   "metadata": {},
   "source": [
    "### Ejercicio 6\n",
    "\n",
    "El archivo `us_births.csv` contiene datos de los nacimientos en Estados Unidos durante los años 1994 a 2003. Carga el archivo representa de forma gráfica los nacimientos agrupados por mes y año. Utiliza un gráfico 2D de tipo _scatter_.\n",
    "\n",
    "*Consideraciones:*\n",
    "* La figura debe contener 10 gráficos (1 por año)\n",
    "* El valor de cada punto debe corresponder con el total de nacimientos por año y mes.\n",
    "* Incluye una leyenda que contenga los años. Puedes diferenciar cada gráfico como mejor te parezca (diferentes símbolos / colores / combinación de ambas)"
   ]
  },
  {
   "cell_type": "code",
   "execution_count": 16,
   "metadata": {
    "scrolled": true
   },
   "outputs": [
    {
     "data": {
      "image/png": "[encoded data removed]",
      "text/plain": [
       "<Figure size 432x288 with 1 Axes>"
      ]
     },
     "metadata": {
      "needs_background": "light"
     },
     "output_type": "display_data"
    }
   ],
   "source": [
    "%matplotlib inline\n",
    "import pandas as pd\n",
    "import matplotlib.pyplot as plt\n",
    "import numpy as np\n",
    "\n",
    "# Cargamos los datos del archivo\n",
    "data = pd.read_csv('data/us_births.csv')\n",
    "\n",
    "# Las agrupamos por año y mes\n",
    "grouped = data.groupby(['year', 'month'])\n",
    "\n",
    "# Grouped contiene un conjunto de dataframes identificados por año y mes, pero los datos\n",
    "# referentes al nacimientos cada dataframe aún están separadas por día.\n",
    "# Sumamos los nacimientos de cada mes.\n",
    "parsed_years = grouped['births'].sum()\n",
    "\n",
    "# Separamos los datos en una matriz de 10x12 (10 años con 12 meses por año)\n",
    "parsed_years = np.array(parsed_years).reshape(10, 12)\n",
    "\n",
    "\n",
    "# Llegados a este punto ya tenemos los datos listos para ser mostrados, ahora nos toca\n",
    "# definir los atributos del gráfico (ejes, colores, etc.)\n",
    "\n",
    "# Representaremos los meses con una lista de 1 a 12\n",
    "months = range(1, 13, 1)\n",
    "\n",
    "# Y los años (para la leyenda) con su valor. Podemos generar la lista a mano o obtenerla\n",
    "# Como los valores únicos de la columna years\n",
    "years = data['year'].unique()\n",
    "\n",
    "# Finalmente definimos una lista con 10 colores, uno para cada año\n",
    "colours = ['b', 'g', 'r', 'c', 'm', 'y', 'k', 'burlywood', 'chartreuse']\n",
    "\n",
    "# Una vez tenemos los ejes, colores y datos definidas, podemos generar un scatter por cada año\n",
    "# Cada punto en la gráfica (x, y) vendrá definido por los elementos de las listas months y year_data\n",
    "# Label definirá qué etiqueta se le dará al scatter a la leyenda, y corresponderá con el año\n",
    "for year_data, y, c in zip(parsed_years, years, colours):\n",
    "    plt.scatter(months, year_data, color=c, label=y)\n",
    "\n",
    "# Y finalmente incluimos también la leyenda (loc = 0 la posiciona \"en el mejor lugar\" dentro\n",
    "# Del límite del gráfico). Y mostramos la figura. \n",
    "plt.legend(loc=0)\n",
    "plt.show()"
   ]
  },
  {
   "cell_type": "markdown",
   "metadata": {},
   "source": [
    "### Ejercicio 7\n",
    "\n",
    "Carga los datos del archivo `got.csv` a un *dataframe*. Este conjunto de datos recoge información de la [Guerra de los Cinco Reyes](https://awoiaf.westeros.org/index.php/War_of_the_Five_Kings) de las novelas de [Canción de hielo y de fuego](https://es.wikipedia.org/wiki/Canci%C3%B3n_de_hielo_y_fuego) de George RR Martin.\n",
    "\n",
    "Muestra el número de filas del *dataframe* y las etiquetas de los ejes."
   ]
  },
  {
   "cell_type": "code",
   "execution_count": 17,
   "metadata": {},
   "outputs": [
    {
     "name": "stdout",
     "output_type": "stream",
     "text": [
      "Número de filas: 38\n",
      "Etiquetas: [RangeIndex(start=0, stop=38, step=1), Index(['name', 'year', 'battle_number', 'attacker_king', 'defender_king',\n",
      "       'attacker_1', 'attacker_2', 'attacker_3', 'attacker_4', 'defender_1',\n",
      "       'defender_2', 'defender_3', 'defender_4', 'attacker_outcome',\n",
      "       'battle_type', 'major_death', 'major_capture', 'attacker_size',\n",
      "       'defender_size', 'attacker_commander', 'defender_commander', 'summer',\n",
      "       'location', 'region', 'note'],\n",
      "      dtype='object')]\n"
     ]
    }
   ],
   "source": [
    "# Importamos pandas\n",
    "import pandas as pd\n",
    "\n",
    "# Leemos el archivo csv con el método read_csv\n",
    "data = pd.read_csv('data/got.csv')\n",
    "\n",
    "# Mostramos el numero de filas\n",
    "print(\"Número de filas:\", len(data))\n",
    "\n",
    "# Mostramos las etiquetas de los ejes\n",
    "print(\"Etiquetas:\", data.axes)"
   ]
  },
  {
   "cell_type": "markdown",
   "metadata": {},
   "source": [
    "### Ejercicio 8\n",
    "\n",
    "Agrupa los datos cargados en el ejercicio 1 por el principal bando atacante (*Attacker \\ _1*). Para cada posición, muestra el número de batallas y el resultado de la batalla (el resultado se encuentra en el campo (*Attacker \\ _outcome*)."
   ]
  },
  {
   "cell_type": "code",
   "execution_count": 18,
   "metadata": {},
   "outputs": [
    {
     "name": "stdout",
     "output_type": "stream",
     "text": [
      "CASO 1:\n",
      "\n",
      "Baratheon\n",
      "battle: 16, outcome: win\n",
      "battle: 20, outcome: loss\n",
      "battle: 31, outcome: win\n",
      "battle: 34, outcome: win\n",
      "battle: 35, outcome: win\n",
      "battle: 38, outcome: nan\n",
      "Bolton\n",
      "battle: 14, outcome: win\n",
      "battle: 29, outcome: win\n",
      "Bracken\n",
      "battle: 37, outcome: win\n",
      "Brave Companions\n",
      "battle: 30, outcome: win\n",
      "Brotherhood without Banners\n",
      "battle: 23, outcome: win\n",
      "Darry\n",
      "battle: 21, outcome: win\n",
      "Free folk\n",
      "battle: 28, outcome: loss\n",
      "Frey\n",
      "battle: 26, outcome: win\n",
      "battle: 27, outcome: win\n",
      "Greyjoy\n",
      "battle: 8, outcome: win\n",
      "battle: 9, outcome: win\n",
      "battle: 10, outcome: win\n",
      "battle: 12, outcome: win\n",
      "battle: 13, outcome: win\n",
      "battle: 32, outcome: win\n",
      "battle: 33, outcome: win\n",
      "Lannister\n",
      "battle: 1, outcome: win\n",
      "battle: 2, outcome: win\n",
      "battle: 3, outcome: win\n",
      "battle: 7, outcome: win\n",
      "battle: 17, outcome: loss\n",
      "battle: 24, outcome: win\n",
      "battle: 25, outcome: win\n",
      "battle: 36, outcome: win\n",
      "Stark\n",
      "battle: 4, outcome: loss\n",
      "battle: 5, outcome: win\n",
      "battle: 6, outcome: win\n",
      "battle: 11, outcome: win\n",
      "battle: 15, outcome: win\n",
      "battle: 18, outcome: win\n",
      "battle: 19, outcome: win\n",
      "battle: 22, outcome: loss\n",
      "\n",
      "---------------------\n",
      "\n",
      "CASO 2: \n",
      "\n",
      "Baratheon\n",
      "total: 6, won: 4, lost: 1\n",
      "Bolton\n",
      "total: 2, won: 2, lost: 0\n",
      "Bracken\n",
      "total: 1, won: 1, lost: 0\n",
      "Brave Companions\n",
      "total: 1, won: 1, lost: 0\n",
      "Brotherhood without Banners\n",
      "total: 1, won: 1, lost: 0\n",
      "Darry\n",
      "total: 1, won: 1, lost: 0\n",
      "Free folk\n",
      "total: 1, won: 0, lost: 1\n",
      "Frey\n",
      "total: 2, won: 2, lost: 0\n",
      "Greyjoy\n",
      "total: 7, won: 7, lost: 0\n",
      "Lannister\n",
      "total: 8, won: 7, lost: 1\n",
      "Stark\n",
      "total: 8, won: 6, lost: 2\n"
     ]
    }
   ],
   "source": [
    "# Tal y como estaba definido el enunciado se podía interpretar de dos formas:\n",
    "# 1 - que se mostrara el número de batallas ganadas y perdidas por cada bando\n",
    "# 2 - que se mostrara el número de batalla (identificador) y el resultado de ésta por cada\n",
    "# Bando.\n",
    "\n",
    "# Resolveremos ambos casos.\n",
    "\n",
    "import pandas as pd\n",
    "import numpy as np\n",
    "\n",
    "# En cualquiera de los casos tenemos que cargar los datos y agruparlos por el bando atacante\n",
    "data = pd.read_csv('data/got.csv')\n",
    "grouped = data.groupby('attacker_1')\n",
    "\n",
    "\n",
    "# Caso 1. Cada grupo contiene como etiqueta el bando (primer dato que nos piden) y como\n",
    "# datos un dataframe. Podemos acceder a cada una de las columnas como si de un diccionario\n",
    "# Se tratara, y extraer sus valores.\n",
    "print(\"CASO 1:\\n\")\n",
    "# Para cada agrupación\n",
    "for name, g in grouped:\n",
    "    # Mostramos el bando\n",
    "    print(name)\n",
    "    # Mostramos el numero de batalla y el resultado para cada batalla\n",
    "    for battle, outcome in zip(g['battle_number'].values, g['attacker_outcome'].values):\n",
    "        print(\"battle: %s, outcome: %s\" % (battle, outcome))\n",
    "\n",
    "\n",
    "# Caso 2. La estructura es la misma que en el caso anterior, pero ahora tenemos que contar cuántas\n",
    "# batallas se han ganado o perdido.\n",
    "print(\"\\n---------------------\\n\")\n",
    "print(\"CASO 2: \\n\")\n",
    "for name, g in grouped:\n",
    "    # Empezamos contando el número de batallas extrayendo la información del dataframe\n",
    "    outcome = g['attacker_outcome'].values\n",
    "    s = len(outcome)\n",
    "\n",
    "    # Después contamos cuántas han sido ganadas y perdidas\n",
    "    # count_nonzero evalúa una expresión booleana y devuelve el número de coincidencias\n",
    "    # que no son cero\n",
    "    w = np.count_nonzero(outcome == 'win')\n",
    "    l = np.count_nonzero(outcome == 'loss')\n",
    "\n",
    "    # Podemos hacer lo mismo utilizando count si transformamos outcome a una lista\n",
    "    outcome = list(outcome)\n",
    "    w = outcome.count('win')\n",
    "    l = outcome.count('loss')\n",
    "\n",
    "    # Finalmente mostramos el resultado\n",
    "    print(name)\n",
    "    print(\"total: %s, won: %s, lost: %s\" % (s, w, l))"
   ]
  },
  {
   "cell_type": "markdown",
   "metadata": {},
   "source": [
    "### Ejercicio 9\n",
    "\n",
    "Muestra los datos de las batallas donde el número de participantes supera los 15000 \"hombres\" (contando los dos bandos: *attacker_size* y *defender_size*), el resultado haya sido desfavorable por el atacante, y la batalla haya estado en invierno (*summer = 0*)."
   ]
  },
  {
   "cell_type": "code",
   "execution_count": 19,
   "metadata": {},
   "outputs": [
    {
     "name": "stdout",
     "output_type": "stream",
     "text": [
      "                      name  year  battle_number      attacker_king  \\\n",
      "27  Battle of Castle Black   300             28  Stannis Baratheon   \n",
      "\n",
      "   defender_king attacker_1 attacker_2 attacker_3 attacker_4     defender_1  \\\n",
      "27  Mance Rayder  Free folk     Thenns     Giants        NaN  Night's Watch   \n",
      "\n",
      "    ... major_death  major_capture  attacker_size defender_size  \\\n",
      "27  ...         1.0            1.0       100000.0        1240.0   \n",
      "\n",
      "                                   attacker_commander  \\\n",
      "27  Mance Rayder, Tormund Giantsbane, Harma Dogshe...   \n",
      "\n",
      "                                   defender_commander  summer      location  \\\n",
      "27  Stannis Baratheon, Jon Snow, Donal Noye, Cotte...     0.0  Castle Black   \n",
      "\n",
      "             region note  \n",
      "27  Beyond the Wall  NaN  \n",
      "\n",
      "[1 rows x 25 columns]\n"
     ]
    }
   ],
   "source": [
    "import pandas as pd\n",
    "\n",
    "# Cargamos los datos\n",
    "data = pd.read_csv('data/got.csv')\n",
    "\n",
    "# Definimos las condiciones\n",
    "# La suma de las tropas atacantes y defensoras debe ser superior a 15000\n",
    "size_cond = (data['attacker_size'] + data['defender_size'] > 15000)\n",
    "\n",
    "# El resultado debe ser desfavorable para el atacante\n",
    "outcome_cond = data['attacker_outcome'] == 'loss'\n",
    "\n",
    "# Y la batalla debe haber sucedido en invierno\n",
    "seasson_cond = data['summer'] == 0\n",
    "\n",
    "# Accedemos a los datos combinando todas las condiciones y las mostramos por pantalla\n",
    "print(data[size_cond & outcome_cond & seasson_cond])\n",
    "\n",
    "# Podemos ver que se trata de una única batalla (battle_number = 28), correspondiente a\n",
    "# Battle of Castle Black"
   ]
  },
  {
   "cell_type": "markdown",
   "metadata": {},
   "source": [
    "### Ejercicio 10\n",
    "\n",
    "Cuenta cuantos sitios aparecen más de una vez en el *dataframe* (campo *location*), utilizando las funciones de la librería *pandas*. Existe algún lugar donde haya habido más de una batalla? Comprueba qué bandos estaban implicados."
   ]
  },
  {
   "cell_type": "code",
   "execution_count": 20,
   "metadata": {},
   "outputs": [
    {
     "name": "stdout",
     "output_type": "stream",
     "text": [
      "Número de lugares que aparecen más de una vez al dataframe: 8\n",
      "Número de sitios que aparecen más de una vez al dataframe (v2): 8\n",
      "\n",
      "Riverrun:\n",
      "Lannister vs Tully\n",
      "Stark vs Lannister\n",
      "Lannister vs Tully\n",
      "\n",
      "Winterfell:\n",
      "Greyjoy vs Stark\n",
      "Bolton vs Stark\n",
      "Baratheon vs Bolton\n",
      "\n",
      "Harrenhal:\n",
      "Stark vs Lannister\n",
      "Lannister vs Brave Companions\n",
      "\n",
      "Moat Cailin:\n",
      "Greyjoy vs Stark\n",
      "Bolton vs Greyjoy\n",
      "\n",
      "Darry:\n",
      "Lannister vs Darry\n",
      "Darry vs Lannister\n",
      "\n",
      "Torrhen's Square:\n",
      "Stark vs Greyjoy\n",
      "Greyjoy vs Stark\n",
      "\n",
      "Storm's End:\n",
      "Baratheon vs Baratheon\n",
      "Baratheon vs Baratheon\n",
      "\n",
      "Deepwood Motte:\n",
      "Greyjoy vs Stark\n",
      "Baratheon vs Greyjoy\n"
     ]
    }
   ],
   "source": [
    "import pandas as pd\n",
    "\n",
    "# Cargamos los datos\n",
    "data = pd.read_csv('data/got.csv')\n",
    "\n",
    "# Hay diferentes formas de resolver el problema. Una de ellas sería utilizando el método\n",
    "# value_counts que dada una columna nos devuelve el número de ocurrencias de los valores de esta\n",
    "# Podemos buscar dentro del dataframe de forma similar al ejercicio anterior utilizando> 1\n",
    "locations = data['location'].value_counts()\n",
    "rep_loc = locations[locations > 1]\n",
    "print(\"Número de lugares que aparecen más de una vez al dataframe:\", len(rep_loc))\n",
    "\n",
    "# De forma alternativa podemos agrupar los datos para localización y computar el tamaño de los grupos\n",
    "# (Cuántas veces aparece cada uno)\n",
    "grouped = data.groupby('location')\n",
    "locations = grouped.size()\n",
    "\n",
    "# Podemos acceder al dataframe utilizando el método loc y pasando una lista booleana de posiciones\n",
    "# correspondientes si el contenido de la posición es mayor que 1. Por ello podemos utilizar\n",
    "# una lambda function\n",
    "rep_loc2 = locations.loc[lambda x: x>1]\n",
    "print(\"Número de sitios que aparecen más de una vez al dataframe (v2):\", len(rep_loc2))\n",
    "\n",
    "# Para mostrar los bandos principales implicados en lugares donde ha habido más de una batalla\n",
    "# podemos acceder a las filas del dataframe que tienen como localización los sitios repetidos\n",
    "# que acabamos de obtener. Podemos utilizar cualquier identificativo de los bandos:\n",
    "# Attacker_1 vs defender_1, attacker_kings vs defender_king, etc\n",
    "\n",
    "# Recorremos la lista de localizaciones repetidas\n",
    "for loc, c in rep_loc.iteritems():\n",
    "    # Mostramos la localitzación\n",
    "    print(\"\\n%s:\" % loc)\n",
    "    # Definimos el filtro para esta localización y filtramos las batallas que han tenido lugar aquí\n",
    "\n",
    "    loc_cond = data[\"location\"] == loc\n",
    "    battles = data[loc_cond]\n",
    "    \n",
    "    # Finalmente mostramos los bandos\n",
    "    for a, d in zip(battles['attacker_1'], battles['defender_1']):\n",
    "        print(\"%s vs %s\" %(a,d))"
   ]
  }
 ],
 "metadata": {
  "kernelspec": {
   "display_name": "Python 3",
   "language": "python",
   "name": "python3"
  },
  "language_info": {
   "codemirror_mode": {
    "name": "ipython",
    "version": 3
   },
   "file_extension": ".py",
   "mimetype": "text/x-python",
   "name": "python",
   "nbconvert_exporter": "python",
   "pygments_lexer": "ipython3",
   "version": "3.7.6"
  }
 },
 "nbformat": 4,
 "nbformat_minor": 1
}
