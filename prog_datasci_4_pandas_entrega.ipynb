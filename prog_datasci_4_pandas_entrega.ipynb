{
 "metadata": {
  "name": "",
  "signature": "sha256:84a12dbd633149a14e889aae9de89be8bf09517bda3a275b2d7122bd1d7fc95e"
 },
 "nbformat": 3,
 "nbformat_minor": 0,
 "worksheets": [
  {
   "cells": [
    {
     "cell_type": "heading",
     "level": 1,
     "metadata": {},
     "source": [
      "Programaci\u00f3n para Data Science"
     ]
    },
    {
     "cell_type": "markdown",
     "metadata": {},
     "source": [
      "Unidad 4: Librer\u00edas cient\u00edficas en Python - Pandas - Ejercicios\n",
      "-------------------------------------------------"
     ]
    },
    {
     "cell_type": "markdown",
     "metadata": {},
     "source": [
      "## Ejercicio 1\n",
      "\n",
      "Cargad los datos del fichero `historical_projections.csv` en un dataframe. Este conjunto de datos recoge resultados hist\u00f3ricos (hasta 2015) sobre el [draft de la NBA](https://en.wikipedia.org/wiki/NBA_draft) junto con valores probabil\u00edsticos extra\u00eddos de un modelo para predecir el \u00e9xito de los jugadores.\n",
      "\n",
      "Mostrad el n\u00famero de filas del dataframe y las etiquetas de los ejes.\n",
      "\n",
      "\n",
      "\n",
      "\n",
      "\n",
      "\n"
     ]
    },
    {
     "cell_type": "code",
     "collapsed": false,
     "input": [
      "# Respuesta\n"
     ],
     "language": "python",
     "metadata": {},
     "outputs": [],
     "prompt_number": 1
    },
    {
     "cell_type": "markdown",
     "metadata": {},
     "source": [
      "## Ejercicio 2\n",
      "\n",
      "Agrupad los datos cargados en el ejercicio 1 por a\u00f1os. Para cada a\u00f1o, mostrad el n\u00famero de jugadores que hay en el _draft_ y la media de la probabilidad de que un jugador sea una superestrella (la probabilidad se encuentra en la columna _Superstar_)."
     ]
    },
    {
     "cell_type": "code",
     "collapsed": false,
     "input": [
      "# Respuesta\n"
     ],
     "language": "python",
     "metadata": {},
     "outputs": [],
     "prompt_number": 2
    },
    {
     "cell_type": "markdown",
     "metadata": {},
     "source": [
      "## Ejercicio 3\n",
      "\n",
      "Mostrad los datos de los jugadores que aparecen en el _draft_ de 2015 con un valor \"Projected SPM\" superior a 0.2 y juegan o bien en la posici\u00f3n escolta (en ingl\u00e9s, _shooting guard_ o _SG_) o bien en la posici\u00f3n ala-p\u00edvot (en ingl\u00e9s, _Power Forward_ o _PF_)."
     ]
    },
    {
     "cell_type": "code",
     "collapsed": false,
     "input": [
      "# Respuesta\n"
     ],
     "language": "python",
     "metadata": {},
     "outputs": [],
     "prompt_number": 3
    },
    {
     "cell_type": "markdown",
     "metadata": {},
     "source": [
      "## Ejercicio 4\n",
      "\n",
      "Contad el n\u00famero de jugadores (diferentes) que aparecen en el dataframe utilizando las funciones de la librer\u00eda pandas. \u00bfExisten jugadores que aparecen m\u00faltiples veces en el dataframe?\n"
     ]
    },
    {
     "cell_type": "code",
     "collapsed": false,
     "input": [
      "# Respuesta\n"
     ],
     "language": "python",
     "metadata": {},
     "outputs": [],
     "prompt_number": 4
    },
    {
     "cell_type": "markdown",
     "metadata": {},
     "source": [
      "## Ejercicio 5\n",
      "\n",
      "A\u00f1adid una nueva columna al dataframe con un valor booleano indicando si el jugador ser\u00e1 o no una superestrella. Considerad que un jugador ser\u00e1 una superestrella si la probabilidad de que lo sea es superior a 0.1."
     ]
    },
    {
     "cell_type": "code",
     "collapsed": false,
     "input": [
      "# Respuesta\n"
     ],
     "language": "python",
     "metadata": {},
     "outputs": [],
     "prompt_number": 5
    }
   ],
   "metadata": {}
  }
 ]
}