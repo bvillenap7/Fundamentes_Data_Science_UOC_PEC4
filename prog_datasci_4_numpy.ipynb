{
 "metadata": {
  "kernelspec": {
   "display_name": "Python 2",
   "language": "python",
   "name": "python2"
  },
  "language_info": {
   "codemirror_mode": {
    "name": "ipython",
    "version": 2
   },
   "file_extension": ".py",
   "mimetype": "text/x-python",
   "name": "python",
   "nbconvert_exporter": "python",
   "pygments_lexer": "ipython2",
   "version": "2.7.12"
  },
  "name": "",
  "signature": "sha256:e6371a195b643e8061d595c15b8550678e133e62518ab11af1e87629ce1104da"
 },
 "nbformat": 3,
 "nbformat_minor": 0,
 "worksheets": [
  {
   "cells": [
    {
     "cell_type": "heading",
     "level": 1,
     "metadata": {},
     "source": [
      "Programaci\u00f3n para Data Science"
     ]
    },
    {
     "cell_type": "markdown",
     "metadata": {},
     "source": [
      "Unidad 4: Librer\u00edas cient\u00edficas en Python - NumPy\n",
      "-------------------------------------------------\n",
      "\n",
      "### Instrucciones de uso\n",
      "A continuaci\u00f3n se presentar\u00e1n explicaciones y ejemplos de uso de la librer\u00eda NumPy. Recordad que pod\u00e9is ir ejecutando los ejemplos para obtener sus resultados."
     ]
    },
    {
     "cell_type": "markdown",
     "metadata": {},
     "source": [
      "### Primeros pasos\n",
      "Vamos a importar la librer\u00eda:"
     ]
    },
    {
     "cell_type": "code",
     "collapsed": false,
     "input": [
      "# En la siguiente l\u00ednea, importamos NumPy y le damos un nombre m\u00e1s corto \n",
      "# para que nos sea m\u00e1s c\u00f3modo hacer las llamadas\n",
      "import numpy as np"
     ],
     "language": "python",
     "metadata": {},
     "outputs": [],
     "prompt_number": 1
    },
    {
     "cell_type": "markdown",
     "metadata": {},
     "source": [
      "En NumPy, el objeto b\u00e1sico se trata de una lista multidimensional de n\u00fameros (normalmente) del mismo tipo"
     ]
    },
    {
     "cell_type": "code",
     "collapsed": false,
     "input": [
      "# Ejemplo b\u00e1sico, un punto en el espacio:\n",
      "p = np.array([1, 2, 3])"
     ],
     "language": "python",
     "metadata": {},
     "outputs": [],
     "prompt_number": 2
    },
    {
     "cell_type": "markdown",
     "metadata": {},
     "source": [
      "En NumPy, a las dimensiones se les conoce con el nombre de ejes (*axes*) y al n\u00famero de ejes, rango (*rank*). *array* es un alias para referirse al tipo de objeto *numpy.ndarray*.\n",
      "\n",
      "Algunas propiedades importantes de los arrays son las siguientes:\n",
      "* **ndarray.ndim**: el n\u00famero de ejes del objeto array (matriz)\n",
      "* **ndarray.shape**: Una tupla de n\u00fameros enteros indicando la longitud de las dimensiones de la matriz\n",
      "* **ndarray.size**: el n\u00famero total de elementos de la matriz"
     ]
    },
    {
     "cell_type": "code",
     "collapsed": false,
     "input": [
      "# Vamos a crear una matrix bidimensional 3x2 (tres filas, dos columnas)\n",
      "a = np.arange(3*2) # Creamos un array unidimensional de 6 elementos\n",
      "print 'Array unidimensional:'\n",
      "print a\n",
      "a = a.reshape(3,2) # Le damos \"forma\" de matrix 3x2\n",
      "print 'Matrix 3x2:'\n",
      "print a"
     ],
     "language": "python",
     "metadata": {},
     "outputs": [
      {
       "output_type": "stream",
       "stream": "stdout",
       "text": [
        "Array unidimensional:\n",
        "[0 1 2 3 4 5]\n",
        "Matrix 3x2:\n",
        "[[0 1]\n",
        " [2 3]\n",
        " [4 5]]\n"
       ]
      }
     ],
     "prompt_number": 3
    },
    {
     "cell_type": "code",
     "collapsed": false,
     "input": [
      "# La dimensi\u00f3n es 2\n",
      "a.ndim"
     ],
     "language": "python",
     "metadata": {},
     "outputs": [
      {
       "metadata": {},
       "output_type": "pyout",
       "prompt_number": 4,
       "text": [
        "2"
       ]
      }
     ],
     "prompt_number": 4
    },
    {
     "cell_type": "code",
     "collapsed": false,
     "input": [
      "# Longitud de las dimensiones\n",
      "a.shape"
     ],
     "language": "python",
     "metadata": {},
     "outputs": [
      {
       "metadata": {},
       "output_type": "pyout",
       "prompt_number": 5,
       "text": [
        "(3, 2)"
       ]
      }
     ],
     "prompt_number": 5
    },
    {
     "cell_type": "code",
     "collapsed": false,
     "input": [
      "# El n\u00famero total de elementos\n",
      "a.size"
     ],
     "language": "python",
     "metadata": {},
     "outputs": [
      {
       "metadata": {},
       "output_type": "pyout",
       "prompt_number": 6,
       "text": [
        "6"
       ]
      }
     ],
     "prompt_number": 6
    },
    {
     "cell_type": "markdown",
     "metadata": {},
     "source": [
      "A la hora de crear arrays, tenemos diferentes opciones:"
     ]
    },
    {
     "cell_type": "code",
     "collapsed": false,
     "input": [
      "# Creamos un array (vector) de diez elementos:\n",
      "z = np.zeros(10)\n",
      "print z"
     ],
     "language": "python",
     "metadata": {},
     "outputs": [
      {
       "output_type": "stream",
       "stream": "stdout",
       "text": [
        "[ 0.  0.  0.  0.  0.  0.  0.  0.  0.  0.]\n"
       ]
      }
     ],
     "prompt_number": 7
    },
    {
     "cell_type": "code",
     "collapsed": false,
     "input": [
      "# Podemos cambiar cualquiera de los valores de este vector accediendo a su posici\u00f3n:\n",
      "z[4] = 5.0\n",
      "z[-1] = 0.1\n",
      "print z"
     ],
     "language": "python",
     "metadata": {},
     "outputs": [
      {
       "output_type": "stream",
       "stream": "stdout",
       "text": [
        "[ 0.   0.   0.   0.   5.   0.   0.   0.   0.   0.1]\n"
       ]
      }
     ],
     "prompt_number": 8
    },
    {
     "cell_type": "code",
     "collapsed": false,
     "input": [
      "# La funci\u00f3n arange nos permite definir diferentes opciones, como el punto de inicio y el de fin:\n",
      "a = np.arange(10,20)\n",
      "print a"
     ],
     "language": "python",
     "metadata": {},
     "outputs": [
      {
       "output_type": "stream",
       "stream": "stdout",
       "text": [
        "[10 11 12 13 14 15 16 17 18 19]\n"
       ]
      }
     ],
     "prompt_number": 9
    },
    {
     "cell_type": "code",
     "collapsed": false,
     "input": [
      "# El \u00faltimo argumento nos permite utilizar un paso de 2:\n",
      "a = np.arange(10,20,2)\n",
      "print a"
     ],
     "language": "python",
     "metadata": {},
     "outputs": [
      {
       "output_type": "stream",
       "stream": "stdout",
       "text": [
        "[10 12 14 16 18]\n"
       ]
      }
     ],
     "prompt_number": 10
    },
    {
     "cell_type": "code",
     "collapsed": false,
     "input": [
      "# Podemos crear arrays desde listas de Python de varias dimensiones:\n",
      "a = np.array([[1, 2, 3], [4, 5, 6]])\n",
      "print a"
     ],
     "language": "python",
     "metadata": {},
     "outputs": [
      {
       "output_type": "stream",
       "stream": "stdout",
       "text": [
        "[[1 2 3]\n",
        " [4 5 6]]\n"
       ]
      }
     ],
     "prompt_number": 11
    },
    {
     "cell_type": "markdown",
     "metadata": {},
     "source": [
      "### Operaciones con matrices\n",
      "NumPy implementa todas las operaciones habituales con matrices"
     ]
    },
    {
     "cell_type": "code",
     "collapsed": false,
     "input": [
      "A = np.array([[1,0], [0,1]])\n",
      "B = np.array([[1,2], [3,4]])"
     ],
     "language": "python",
     "metadata": {},
     "outputs": [],
     "prompt_number": 12
    },
    {
     "cell_type": "code",
     "collapsed": false,
     "input": [
      "# Suma de matrices\n",
      "print A+B"
     ],
     "language": "python",
     "metadata": {},
     "outputs": [
      {
       "output_type": "stream",
       "stream": "stdout",
       "text": [
        "[[2 2]\n",
        " [3 5]]\n"
       ]
      }
     ],
     "prompt_number": 13
    },
    {
     "cell_type": "code",
     "collapsed": false,
     "input": [
      "# Resta de matrices\n",
      "print A-B"
     ],
     "language": "python",
     "metadata": {},
     "outputs": [
      {
       "output_type": "stream",
       "stream": "stdout",
       "text": [
        "[[ 0 -2]\n",
        " [-3 -3]]\n"
       ]
      }
     ],
     "prompt_number": 14
    },
    {
     "cell_type": "code",
     "collapsed": false,
     "input": [
      "# Multiplicaci\u00f3n elemento por elemento\n",
      "print A*B"
     ],
     "language": "python",
     "metadata": {},
     "outputs": [
      {
       "output_type": "stream",
       "stream": "stdout",
       "text": [
        "[[1 0]\n",
        " [0 4]]\n"
       ]
      }
     ],
     "prompt_number": 15
    },
    {
     "cell_type": "code",
     "collapsed": false,
     "input": [
      "# Multiplicaci\u00f3n de matrices\n",
      "print A.dot(B)"
     ],
     "language": "python",
     "metadata": {},
     "outputs": [
      {
       "output_type": "stream",
       "stream": "stdout",
       "text": [
        "[[1 2]\n",
        " [3 4]]\n"
       ]
      }
     ],
     "prompt_number": 16
    },
    {
     "cell_type": "code",
     "collapsed": false,
     "input": [
      "# Potencia\n",
      "print B**2"
     ],
     "language": "python",
     "metadata": {},
     "outputs": [
      {
       "output_type": "stream",
       "stream": "stdout",
       "text": [
        "[[ 1  4]\n",
        " [ 9 16]]\n"
       ]
      }
     ],
     "prompt_number": 17
    },
    {
     "cell_type": "markdown",
     "metadata": {},
     "source": [
      "### *Slicing* e iteraci\u00f3n\n",
      "Los arrays en NumPy soportan la t\u00e9cnica de *slicing* de Python:\n"
     ]
    },
    {
     "cell_type": "code",
     "collapsed": false,
     "input": [
      "# Definimos un array de 0 a 9\n",
      "a = np.arange(10)\n",
      "# Obtenemos los 5-2 elementos desde la posici\u00f3n 3 del array (los \u00edndices empiezan en 0)\n",
      "print a[2:5]"
     ],
     "language": "python",
     "metadata": {},
     "outputs": [
      {
       "output_type": "stream",
       "stream": "stdout",
       "text": [
        "[2 3 4]\n"
       ]
      }
     ],
     "prompt_number": 18
    },
    {
     "cell_type": "code",
     "collapsed": false,
     "input": [
      "# Todos los elementos a partir de la tercera posici\u00f3n\n",
      "a[2:]"
     ],
     "language": "python",
     "metadata": {},
     "outputs": [
      {
       "metadata": {},
       "output_type": "pyout",
       "prompt_number": 19,
       "text": [
        "array([2, 3, 4, 5, 6, 7, 8, 9])"
       ]
      }
     ],
     "prompt_number": 19
    },
    {
     "cell_type": "code",
     "collapsed": false,
     "input": [
      "# Podemos iterar por cada elemento del array:\n",
      "for i in a:\n",
      "    print i"
     ],
     "language": "python",
     "metadata": {},
     "outputs": [
      {
       "output_type": "stream",
       "stream": "stdout",
       "text": [
        "0\n",
        "1\n",
        "2\n",
        "3\n",
        "4\n",
        "5\n",
        "6\n",
        "7\n",
        "8\n",
        "9\n"
       ]
      }
     ],
     "prompt_number": 20
    },
    {
     "cell_type": "code",
     "collapsed": false,
     "input": [
      "# Definamos ahora un array multidimensional\n",
      "A = np.arange(18).reshape(6,3)\n",
      "print A"
     ],
     "language": "python",
     "metadata": {},
     "outputs": [
      {
       "output_type": "stream",
       "stream": "stdout",
       "text": [
        "[[ 0  1  2]\n",
        " [ 3  4  5]\n",
        " [ 6  7  8]\n",
        " [ 9 10 11]\n",
        " [12 13 14]\n",
        " [15 16 17]]\n"
       ]
      }
     ],
     "prompt_number": 21
    },
    {
     "cell_type": "code",
     "collapsed": false,
     "input": [
      "# Obtenemos hasta la quinta fila\n",
      "print A[:5]"
     ],
     "language": "python",
     "metadata": {},
     "outputs": [
      {
       "output_type": "stream",
       "stream": "stdout",
       "text": [
        "[[ 0  1  2]\n",
        " [ 3  4  5]\n",
        " [ 6  7  8]\n",
        " [ 9 10 11]\n",
        " [12 13 14]]\n"
       ]
      }
     ],
     "prompt_number": 22
    },
    {
     "cell_type": "code",
     "collapsed": false,
     "input": [
      "# Igualamos todos los elementos a 0 (el operador ... a\u00f1ade todos los : necesarios)\n",
      "A[...] = 0\n",
      "print A"
     ],
     "language": "python",
     "metadata": {},
     "outputs": [
      {
       "output_type": "stream",
       "stream": "stdout",
       "text": [
        "[[0 0 0]\n",
        " [0 0 0]\n",
        " [0 0 0]\n",
        " [0 0 0]\n",
        " [0 0 0]\n",
        " [0 0 0]]\n"
       ]
      }
     ],
     "prompt_number": 23
    },
    {
     "cell_type": "markdown",
     "metadata": {},
     "source": [
      "### Ejemplo: El juego de la vida de Conway\n",
      "El juego de la vida es un ejemplo cl\u00e1sico de aut\u00f3mata celular creado en 1970 por el famoso matem\u00e1tico John H. Conway. \n",
      "En el problema cl\u00e1sico, se representan en una matriz bidimensional c\u00e9lulas que vivir\u00e1n o morir\u00e1n dependiendo del n\u00famero de vecinos en un determinado paso de la simulaci\u00f3n. Cada c\u00e9lula tiene 8 vecinos (las casillas adyacentes en un tablero bidimensional) y puede estar viva (1) o muerta (0). Las reglas cl\u00e1sicas entre transici\u00f3n vida/muerte son las siguientes:\n",
      "\n",
      "* Una c\u00e9lula muerta con exactamente 3 c\u00e9lulas vecinas vivas al turno siguiente estar\u00e1 viva.\n",
      "* Una c\u00e9lula viva con 2 o 3 c\u00e9lulas vecinas vivas sigue viva, en otro caso muere o permanece muerta (soledad en caso de un n\u00famero menor a 2, superpoblaci\u00f3n si es mayor a 3).\n",
      "\n",
      "Este problema (o juego) tiene muchas variantes dependiendo de las condiciones iniciales, si el tablero (o mundo) tiene bordes o no, o si bien las reglas de vida o muerte son alteradas.\n",
      "\n",
      "A continuaci\u00f3n ten\u00e9is un ejemplo del juego cl\u00e1sico implementado en NumPy:"
     ]
    },
    {
     "cell_type": "code",
     "collapsed": false,
     "input": [
      "# Autor: Nicolas Rougier\n",
      "# Fuente: http://www.labri.fr/perso/nrougier/teaching/numpy.100/\n",
      "\n",
      "SIZE = 10\n",
      "STEPS = 10\n",
      "\n",
      "def iterate(Z):\n",
      "    # Count neighbours\n",
      "    N = (Z[0:-2,0:-2] + Z[0:-2,1:-1] + Z[0:-2,2:] +\n",
      "         Z[1:-1,0:-2]                + Z[1:-1,2:] +\n",
      "         Z[2:  ,0:-2] + Z[2:  ,1:-1] + Z[2:  ,2:])\n",
      "\n",
      "    # Apply rules\n",
      "    birth = (N==3) & (Z[1:-1,1:-1]==0)\n",
      "    survive = ((N==2) | (N==3)) & (Z[1:-1,1:-1]==1)\n",
      "    Z[...] = 0\n",
      "    Z[1:-1,1:-1][birth | survive] = 1\n",
      "    return Z\n",
      "\n",
      "# Creamos un tablero con c\u00e9lulas vivas o muertas de forma aleatoria\n",
      "Z = np.random.randint(0,2,(SIZE, SIZE))\n",
      "# Simulamos durante los pasos indicados\n",
      "for i in range(STEPS):\n",
      "    Z = iterate(Z)\n",
      "# Mostramos el tablero en el paso final\n",
      "print Z"
     ],
     "language": "python",
     "metadata": {},
     "outputs": [
      {
       "output_type": "stream",
       "stream": "stdout",
       "text": [
        "[[0 0 0 0 0 0 0 0 0 0]\n",
        " [0 0 0 0 0 0 0 0 0 0]\n",
        " [0 0 0 0 0 0 0 0 0 0]\n",
        " [0 0 0 1 1 0 0 0 0 0]\n",
        " [0 0 1 1 0 0 0 0 0 0]\n",
        " [0 1 0 1 0 0 1 0 0 0]\n",
        " [0 1 1 0 1 1 1 0 0 0]\n",
        " [0 1 0 1 0 1 0 0 0 0]\n",
        " [0 0 1 1 1 0 0 0 0 0]\n",
        " [0 0 0 0 0 0 0 0 0 0]]\n"
       ]
      }
     ],
     "prompt_number": 24
    }
   ],
   "metadata": {}
  }
 ]
}