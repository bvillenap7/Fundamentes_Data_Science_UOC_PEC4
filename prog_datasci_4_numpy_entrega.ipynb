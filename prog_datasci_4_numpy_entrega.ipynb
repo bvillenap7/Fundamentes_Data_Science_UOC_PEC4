{
 "metadata": {
  "kernelspec": {
   "display_name": "Python 2",
   "language": "python",
   "name": "python2"
  },
  "language_info": {
   "codemirror_mode": {
    "name": "ipython",
    "version": 2
   },
   "file_extension": ".py",
   "mimetype": "text/x-python",
   "name": "python",
   "nbconvert_exporter": "python",
   "pygments_lexer": "ipython2",
   "version": "2.7.12"
  },
  "name": "",
  "signature": "sha256:e747dfc24342e4a614aa93e371b3c6957d1a24dc9d207c804faf576ef037278f"
 },
 "nbformat": 3,
 "nbformat_minor": 0,
 "worksheets": [
  {
   "cells": [
    {
     "cell_type": "heading",
     "level": 1,
     "metadata": {},
     "source": [
      "Programaci\u00f3n para *Data Science*"
     ]
    },
    {
     "cell_type": "markdown",
     "metadata": {},
     "source": [
      "Unidad 4: Librer\u00edas cient\u00edficas en Python - NumPy - Ejercicios\n",
      "-------------------------------------------------"
     ]
    },
    {
     "cell_type": "markdown",
     "metadata": {},
     "source": [
      "Ejercicios y preguntas te\u00f3ricas\n",
      "-------------------------------"
     ]
    },
    {
     "cell_type": "markdown",
     "metadata": {},
     "source": [
      "### Ejercicio 1\n",
      "Cread una matriz de 8x8 que tenga un patr\u00f3n 0 (blancas) / 1 (negras) como si se tratara de un tablero de ajedrez:"
     ]
    },
    {
     "cell_type": "code",
     "collapsed": false,
     "input": [
      "# Respuesta"
     ],
     "language": "python",
     "metadata": {},
     "outputs": [],
     "prompt_number": 26
    },
    {
     "cell_type": "markdown",
     "metadata": {},
     "source": [
      "### Ejercicio 2\n",
      "Cread dos matrices de tama\u00f1o 3x2 y 2x2 con n\u00fameros reales aleatorios y obtened la matriz resultado de multiplicar la primera por la segunda:"
     ]
    },
    {
     "cell_type": "code",
     "collapsed": false,
     "input": [
      "# Respuesta"
     ],
     "language": "python",
     "metadata": {},
     "outputs": [],
     "prompt_number": 27
    },
    {
     "cell_type": "markdown",
     "metadata": {},
     "source": [
      "### Ejercicio 3\n",
      "Calculad la media y la desviaci\u00f3n est\u00e1ndar de un vector aleatorio de 100 posiciones:"
     ]
    },
    {
     "cell_type": "code",
     "collapsed": false,
     "input": [
      "# Respuesta"
     ],
     "language": "python",
     "metadata": {},
     "outputs": [],
     "prompt_number": 28
    },
    {
     "cell_type": "markdown",
     "metadata": {},
     "source": [
      "### Ejercicio 4\n",
      "Evaluad las funciones coseno y seno en el intervalo [0,1] y con paso (resoluci\u00f3n) de 0.05 y guardadlas en dos _arrays_:"
     ]
    },
    {
     "cell_type": "code",
     "collapsed": false,
     "input": [
      "# Respuesta"
     ],
     "language": "python",
     "metadata": {},
     "outputs": [],
     "prompt_number": 29
    },
    {
     "cell_type": "markdown",
     "metadata": {},
     "source": [
      "### Pregunta 1\n",
      "\u00bfC\u00f3mo se pueden ordenar los valores de una matriz bidimensional? \u00bfC\u00f3mo podemos ordenar por un determinado eje? Poned un ejemplo de c\u00f3mo ordenar una matriz bidimensional cualquiera."
     ]
    },
    {
     "cell_type": "markdown",
     "metadata": {},
     "source": [
      "#### Respuesta:"
     ]
    },
    {
     "cell_type": "markdown",
     "metadata": {},
     "source": [
      "### Pregunta 2\n",
      "\u00bfC\u00f3mo podemos comparar dos arrays de la misma dimensi\u00f3n? Poned un ejemplo."
     ]
    },
    {
     "cell_type": "markdown",
     "metadata": {},
     "source": [
      "#### Respuesta:"
     ]
    },
    {
     "cell_type": "markdown",
     "metadata": {},
     "source": [
      "### Pregunta 3\n",
      "\u00bfPara qu\u00e9 sirve la herramienta *f2py* incluida en la librer\u00eda NumPy?"
     ]
    },
    {
     "cell_type": "markdown",
     "metadata": {},
     "source": [
      "#### Respuesta:"
     ]
    }
   ],
   "metadata": {}
  }
 ]
}